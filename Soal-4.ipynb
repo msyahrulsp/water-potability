{
 "cells": [
  {
   "cell_type": "code",
   "execution_count": 146,
   "metadata": {},
   "outputs": [],
   "source": [
    "# 1. Tentukan Hipotesis nol (H_0: θ = θ_0), dimana θ bisa berupa μ, σ2, p, atau data lain berdistribusi tertentu (normal, binomial, dsc.).\n",
    "# 2. Pilih hipotesis alternatif H_1 salah dari dari θ > θ_0 , θ < θ_0 , atau θ ≠ θ_0.\n",
    "# 3. Tentukan tingkat signifikan α.\n",
    "# 4. Tentukan uji statistik yang sesuai dan tentukan daerah kritis.\n",
    "# 5. Hitung nilai uji statistik dari data sample. Hitung p-value sesuai dengan uji statistik yang\n",
    "#    digunakan.\n",
    "# 6. Ambil keputusan dengan TOLAK H0 jika nilai uji terletak di daerah kritis atau dengan tes\n",
    "#    signifikan, TOLAK H0 jika p-value lebih kecil dibanding tingkat signifikansi α yang diinginkan."
   ]
  },
  {
   "cell_type": "code",
   "execution_count": 147,
   "metadata": {},
   "outputs": [],
   "source": [
    "import pandas as pd\n",
    "import matplotlib.pyplot as plt\n",
    "from statsmodels.stats.weightstats import ztest\n",
    "from statsmodels.stats.proportion import proportions_ztest\n",
    "import scipy.stats as st\n",
    "from IPython.display import display, Markdown, Latex\n",
    "\n",
    "df = pd.read_csv(\"water_potability.csv\", \n",
    "                    names=[\"id\", \n",
    "                            \"pH\", \n",
    "                            \"Hardness\", \n",
    "                            \"Solids\", \n",
    "                            \"Chloramines\", \n",
    "                            \"Sulfate\", \n",
    "                            \"Conductivity\", \n",
    "                            \"OrganicCarbon\", \n",
    "                            \"Trihalomethanes\", \n",
    "                            \"Turbidity\", \n",
    "                            \"Potability\"]\n",
    "                    ).set_index(\"id\")"
   ]
  },
  {
   "cell_type": "markdown",
   "metadata": {},
   "source": [
    "## Melakukan test hipotesis 1 sampel, dengan menuliskan 6 langkah testing dan menampilkan juga boxplotnya untuk kolom/bagian yang bersesuaian."
   ]
  },
  {
   "cell_type": "markdown",
   "metadata": {},
   "source": [
    "### a. Nilai Rata-rata pH di atas 7?"
   ]
  },
  {
   "cell_type": "markdown",
   "metadata": {},
   "source": [
    "###### Tentukan Hipotesis nol ($H_0: θ = θ_0$), dimana θ bisa berupa $\\mu$, $σ^2$, $p$, atau data lain berdistribusi tertentu (normal, binomial, dsc.).\n",
    "\n",
    "$H_0:\\mu=7$"
   ]
  },
  {
   "cell_type": "markdown",
   "metadata": {},
   "source": [
    "###### Pilih hipotesis alternatif $H_1$ salah dari dari $θ > θ_0$ , $θ < θ_0$ , atau $θ ≠ θ_0$.\n",
    "\n",
    "$H_1:\\mu>7$"
   ]
  },
  {
   "cell_type": "markdown",
   "metadata": {},
   "source": [
    "###### Tentukan tingkat signifikan α.\n",
    "\n",
    "$α = 0.05$"
   ]
  },
  {
   "cell_type": "markdown",
   "metadata": {},
   "source": [
    "###### Tentukan uji statistik yang sesuai dan tentukan daerah kritis.\n",
    "\n",
    "Daerah kritis:"
   ]
  },
  {
   "cell_type": "code",
   "execution_count": 148,
   "metadata": {},
   "outputs": [
    {
     "data": {
      "text/markdown": [
       "$z> 1.645 $"
      ],
      "text/plain": [
       "<IPython.core.display.Markdown object>"
      ]
     },
     "metadata": {},
     "output_type": "display_data"
    }
   ],
   "source": [
    "display(Markdown(f'$z> {round(st.norm.ppf(1-0.05), 3)} $'))"
   ]
  },
  {
   "cell_type": "markdown",
   "metadata": {},
   "source": [
    "Tes statistik:"
   ]
  },
  {
   "cell_type": "markdown",
   "metadata": {},
   "source": [
    "\\begin{equation}\n",
    "z=\\frac{\\bar{x}-\\mu_0}{\\sigma/\\sqrt{n}}\n",
    "\\end{equation}"
   ]
  },
  {
   "cell_type": "markdown",
   "metadata": {},
   "source": [
    "###### Hitung nilai uji statistik dari data sample. Hitung p-value sesuai dengan uji statistik yang digunakan."
   ]
  },
  {
   "cell_type": "code",
   "execution_count": 149,
   "metadata": {},
   "outputs": [
    {
     "data": {
      "text/markdown": [
       "$z=2.485$"
      ],
      "text/plain": [
       "<IPython.core.display.Markdown object>"
      ]
     },
     "metadata": {},
     "output_type": "display_data"
    },
    {
     "data": {
      "text/markdown": [
       "$p=0.006$"
      ],
      "text/plain": [
       "<IPython.core.display.Markdown object>"
      ]
     },
     "metadata": {},
     "output_type": "display_data"
    }
   ],
   "source": [
    "z, p = ztest(df['pH'], value=7, alternative='larger')\n",
    "\n",
    "display(Markdown(f'$z={round(z,3)}$'))\n",
    "display(Markdown(f'$p={round(p,3)}$'))"
   ]
  },
  {
   "cell_type": "markdown",
   "metadata": {},
   "source": [
    "###### Ambil keputusan dengan TOLAK H0 jika nilai uji terletak di daerah kritis atau dengan tes signifikan, TOLAK H0 jika p-value lebih kecil dibanding tingkat signifikansi α yang diinginkan."
   ]
  },
  {
   "cell_type": "code",
   "execution_count": 150,
   "metadata": {
    "scrolled": true
   },
   "outputs": [
    {
     "data": {
      "text/markdown": [
       "**Keputusan:**\n",
       "\n",
       "Tolak $H_0$ karena $z=2.485>1.645$"
      ],
      "text/plain": [
       "<IPython.core.display.Markdown object>"
      ]
     },
     "metadata": {},
     "output_type": "display_data"
    },
    {
     "data": {
      "text/markdown": [
       "**Tes signifikan:**\n",
       "\n",
       "Tolak $H_0$ karena $p=0.006<α=0.05$"
      ],
      "text/plain": [
       "<IPython.core.display.Markdown object>"
      ]
     },
     "metadata": {},
     "output_type": "display_data"
    },
    {
     "data": {
      "text/markdown": [
       "**Jadi, pH rata-rata diatas 7**"
      ],
      "text/plain": [
       "<IPython.core.display.Markdown object>"
      ]
     },
     "metadata": {},
     "output_type": "display_data"
    }
   ],
   "source": [
    "if (z > st.norm.ppf(1-0.05) and p < 0.05):\n",
    "    display(Markdown(f\"**Keputusan:**\\n\\nTolak $H_0$ karena $z={round(z,3)}>{round(st.norm.ppf(1-0.05), 3)}$\"))\n",
    "    display(Markdown(f\"**Tes signifikan:**\\n\\nTolak $H_0$ karena $p={round(p,3)}<α=0.05$\"))\n",
    "    display(Markdown(\"**Jadi, pH rata-rata diatas 7**\"))\n",
    "else:\n",
    "    display(Markdown(f\"**Keputusan:**\\n\\nTidak menolak $H_0$ karena $z={round(z,3)}≤{round(st.norm.ppf(1-0.05), 3)}$\"))\n",
    "    display(Markdown(f\"**Tes signifikan:**\\n\\nTidak menolak $H_0$ karena $p={round(p,3)}≥α=0.05$\"))\n",
    "    display(Markdown(\"**Jadi, pH rata-rata sama dengan 7**\"))"
   ]
  },
  {
   "cell_type": "code",
   "execution_count": 151,
   "metadata": {},
   "outputs": [
    {
     "data": {
      "text/plain": [
       "Text(0.5, 1.0, 'pH')"
      ]
     },
     "execution_count": 151,
     "metadata": {},
     "output_type": "execute_result"
    },
    {
     "data": {
      "image/png": "[encoded data removed]",
      "text/plain": [
       "<Figure size 432x288 with 1 Axes>"
      ]
     },
     "metadata": {
      "needs_background": "light"
     },
     "output_type": "display_data"
    }
   ],
   "source": [
    "plt.boxplot(df['pH'])\n",
    "boxplot.set_title('pH')"
   ]
  },
  {
   "cell_type": "markdown",
   "metadata": {},
   "source": [
    "### b. Nilai Rata-rata Hardness tidak sama dengan 205?"
   ]
  },
  {
   "cell_type": "markdown",
   "metadata": {},
   "source": [
    "###### Tentukan Hipotesis nol ($H_0: θ = θ_0$), dimana θ bisa berupa $\\mu$, $σ^2$, $p$, atau data lain berdistribusi tertentu (normal, binomial, dsc.).\n",
    "\n",
    "$H_0:\\mu=205$"
   ]
  },
  {
   "cell_type": "markdown",
   "metadata": {},
   "source": [
    "###### Pilih hipotesis alternatif $H_1$ salah dari dari $θ > θ_0$ , $θ < θ_0$ , atau $θ ≠ θ_0$.\n",
    "\n",
    "$H_1:\\mu≠205$"
   ]
  },
  {
   "cell_type": "markdown",
   "metadata": {},
   "source": [
    "###### Tentukan tingkat signifikan α.\n",
    "\n",
    "$α = 0.05$"
   ]
  },
  {
   "cell_type": "markdown",
   "metadata": {},
   "source": [
    "###### Tentukan uji statistik yang sesuai dan tentukan daerah kritis.\n",
    "\n",
    "Daerah kritis:"
   ]
  },
  {
   "cell_type": "code",
   "execution_count": 152,
   "metadata": {},
   "outputs": [
    {
     "data": {
      "text/markdown": [
       "$z< -1.96$ dan $z> 1.96 $"
      ],
      "text/plain": [
       "<IPython.core.display.Markdown object>"
      ]
     },
     "metadata": {},
     "output_type": "display_data"
    }
   ],
   "source": [
    "display(Markdown(f'$z< -{round(st.norm.ppf(1-0.05/2), 3)}$ dan $z> {round(st.norm.ppf(1-0.05/2), 3)} $'))"
   ]
  },
  {
   "cell_type": "markdown",
   "metadata": {},
   "source": [
    "Tes statistik:"
   ]
  },
  {
   "cell_type": "markdown",
   "metadata": {},
   "source": [
    "\\begin{equation}\n",
    "z=\\frac{\\bar{x}-\\mu_0}{\\sigma/\\sqrt{n}}\n",
    "\\end{equation}"
   ]
  },
  {
   "cell_type": "markdown",
   "metadata": {},
   "source": [
    "###### Hitung nilai uji statistik dari data sample. Hitung p-value sesuai dengan uji statistik yang digunakan."
   ]
  },
  {
   "cell_type": "code",
   "execution_count": 153,
   "metadata": {},
   "outputs": [
    {
     "data": {
      "text/markdown": [
       "$z=-12.403$"
      ],
      "text/plain": [
       "<IPython.core.display.Markdown object>"
      ]
     },
     "metadata": {},
     "output_type": "display_data"
    },
    {
     "data": {
      "text/markdown": [
       "$p=0.0$"
      ],
      "text/plain": [
       "<IPython.core.display.Markdown object>"
      ]
     },
     "metadata": {},
     "output_type": "display_data"
    }
   ],
   "source": [
    "z, p = ztest(df['Hardness'], value=205, alternative='two-sided')\n",
    "\n",
    "display(Markdown(f'$z={round(z,3)}$'))\n",
    "display(Markdown(f'$p={round(p,3)}$'))"
   ]
  },
  {
   "cell_type": "markdown",
   "metadata": {},
   "source": [
    "###### Ambil keputusan dengan TOLAK H0 jika nilai uji terletak di daerah kritis atau dengan tes signifikan, TOLAK H0 jika p-value lebih kecil dibanding tingkat signifikansi α yang diinginkan."
   ]
  },
  {
   "cell_type": "code",
   "execution_count": 154,
   "metadata": {
    "scrolled": true
   },
   "outputs": [
    {
     "data": {
      "text/markdown": [
       "**Keputusan:**\n",
       "\n",
       "Tolak $H_0$ karena $z=-12.403<-1.96$"
      ],
      "text/plain": [
       "<IPython.core.display.Markdown object>"
      ]
     },
     "metadata": {},
     "output_type": "display_data"
    },
    {
     "data": {
      "text/markdown": [
       "**Tes signifikan:**\n",
       "\n",
       "Tolak $H_0$ karena $p=0.0<α=0.05$"
      ],
      "text/plain": [
       "<IPython.core.display.Markdown object>"
      ]
     },
     "metadata": {},
     "output_type": "display_data"
    },
    {
     "data": {
      "text/markdown": [
       "**Jadi, Hardness rata-rata tidak sama dengan 205**"
      ],
      "text/plain": [
       "<IPython.core.display.Markdown object>"
      ]
     },
     "metadata": {},
     "output_type": "display_data"
    }
   ],
   "source": [
    "if ((z < -1 * st.norm.ppf(1-0.05/2) or z > st.norm.ppf(1-0.05/2)) and p < 0.05):\n",
    "    if (z < -1 * st.norm.ppf(1-0.05/2)):\n",
    "        display(Markdown(f\"**Keputusan:**\\n\\nTolak $H_0$ karena $z={round(z,3)}<-{round(st.norm.ppf(1-0.05/2), 3)}$\"))\n",
    "    else:\n",
    "        display(Markdown(f\"**Keputusan:**\\n\\nTolak $H_0$ karena $z={round(z,3)}>{round(st.norm.ppf(1-0.05/2), 3)}$\"))\n",
    "    display(Markdown(f\"**Tes signifikan:**\\n\\nTolak $H_0$ karena $p={round(p,3)}<α=0.05$\"))\n",
    "    display(Markdown(\"**Jadi, Hardness rata-rata tidak sama dengan 205**\"))\n",
    "else:\n",
    "    display(Markdown(f\"**Keputusan:**\\n\\nTidak menolak $H_0$ karena $z={round(z,3)}$ berada pada $-{round(st.norm.ppf(1-0.05/2), 3)}≤z≤{round(st.norm.ppf(1-0.05/2), 3)}$\"))\n",
    "    display(Markdown(f\"**Tes signifikan:**\\n\\nTidak menolak $H_0$ karena $p={round(p,3)}≥α=0.05$\"))\n",
    "    display(Markdown(\"**Jadi, Hardness rata-rata sama dengan 205**\"))"
   ]
  },
  {
   "cell_type": "code",
   "execution_count": 155,
   "metadata": {
    "scrolled": true
   },
   "outputs": [
    {
     "data": {
      "text/plain": [
       "Text(0.5, 1.0, 'Hardness')"
      ]
     },
     "execution_count": 155,
     "metadata": {},
     "output_type": "execute_result"
    },
    {
     "data": {
      "image/png": "[encoded data removed]",
      "text/plain": [
       "<Figure size 432x288 with 1 Axes>"
      ]
     },
     "metadata": {
      "needs_background": "light"
     },
     "output_type": "display_data"
    }
   ],
   "source": [
    "plt.boxplot(df['Hardness'])\n",
    "boxplot.set_title('Hardness')"
   ]
  },
  {
   "cell_type": "markdown",
   "metadata": {},
   "source": [
    "### c. Nilai Rata-rata 100 baris pertama kolom Solids bukan 21900?"
   ]
  },
  {
   "cell_type": "markdown",
   "metadata": {},
   "source": [
    "###### Tentukan Hipotesis nol ($H_0: θ = θ_0$), dimana θ bisa berupa $\\mu$, $σ^2$, $p$, atau data lain berdistribusi tertentu (normal, binomial, dsc.).\n",
    "\n",
    "$H_0:\\mu=21900$"
   ]
  },
  {
   "cell_type": "markdown",
   "metadata": {},
   "source": [
    "###### Pilih hipotesis alternatif $H_1$ salah dari dari $θ > θ_0$ , $θ < θ_0$ , atau $θ ≠ θ_0$.\n",
    "\n",
    "$H_1:\\mu≠21900$"
   ]
  },
  {
   "cell_type": "markdown",
   "metadata": {},
   "source": [
    "###### Tentukan tingkat signifikan α.\n",
    "\n",
    "$α = 0.05$"
   ]
  },
  {
   "cell_type": "markdown",
   "metadata": {},
   "source": [
    "###### Tentukan uji statistik yang sesuai dan tentukan daerah kritis.\n",
    "\n",
    "Daerah kritis:"
   ]
  },
  {
   "cell_type": "code",
   "execution_count": 156,
   "metadata": {},
   "outputs": [
    {
     "data": {
      "text/markdown": [
       "$z< -1.96$ dan $z> 1.96 $"
      ],
      "text/plain": [
       "<IPython.core.display.Markdown object>"
      ]
     },
     "metadata": {},
     "output_type": "display_data"
    }
   ],
   "source": [
    "display(Markdown(f'$z< -{round(st.norm.ppf(1-0.05/2), 3)}$ dan $z> {round(st.norm.ppf(1-0.05/2), 3)} $'))"
   ]
  },
  {
   "cell_type": "markdown",
   "metadata": {},
   "source": [
    "Tes statistik:"
   ]
  },
  {
   "cell_type": "markdown",
   "metadata": {},
   "source": [
    "\\begin{equation}\n",
    "z=\\frac{\\bar{x}-\\mu_0}{\\sigma/\\sqrt{n}}\n",
    "\\end{equation}"
   ]
  },
  {
   "cell_type": "markdown",
   "metadata": {},
   "source": [
    "###### Hitung nilai uji statistik dari data sample. Hitung p-value sesuai dengan uji statistik yang digunakan."
   ]
  },
  {
   "cell_type": "code",
   "execution_count": 157,
   "metadata": {},
   "outputs": [
    {
     "data": {
      "text/markdown": [
       "$z=0.564$"
      ],
      "text/plain": [
       "<IPython.core.display.Markdown object>"
      ]
     },
     "metadata": {},
     "output_type": "display_data"
    },
    {
     "data": {
      "text/markdown": [
       "$p=0.573$"
      ],
      "text/plain": [
       "<IPython.core.display.Markdown object>"
      ]
     },
     "metadata": {},
     "output_type": "display_data"
    }
   ],
   "source": [
    "z, p = ztest(df.iloc[:100]['Solids'], value=21900)\n",
    "\n",
    "display(Markdown(f'$z={round(z,3)}$'))\n",
    "display(Markdown(f'$p={round(p,3)}$'))"
   ]
  },
  {
   "cell_type": "markdown",
   "metadata": {},
   "source": [
    "###### Ambil keputusan dengan TOLAK $H_0$ jika nilai uji terletak di daerah kritis atau dengan tes signifikan, TOLAK $H_0$ jika p-value lebih kecil dibanding tingkat signifikansi α yang diinginkan."
   ]
  },
  {
   "cell_type": "code",
   "execution_count": 158,
   "metadata": {
    "scrolled": true
   },
   "outputs": [
    {
     "data": {
      "text/markdown": [
       "**Keputusan:**\n",
       "\n",
       "Tidak menolak $H_0$ karena $z=0.564$ berada pada $-1.96≤z≤1.96$"
      ],
      "text/plain": [
       "<IPython.core.display.Markdown object>"
      ]
     },
     "metadata": {},
     "output_type": "display_data"
    },
    {
     "data": {
      "text/markdown": [
       "**Tes signifikan:**\n",
       "\n",
       "Tidak menolak $H_0$ karena $p=0.573≥α=0.05$"
      ],
      "text/plain": [
       "<IPython.core.display.Markdown object>"
      ]
     },
     "metadata": {},
     "output_type": "display_data"
    },
    {
     "data": {
      "text/markdown": [
       "**Jadi, 100 baris pertama Solids rata-rata sama dengan 205**"
      ],
      "text/plain": [
       "<IPython.core.display.Markdown object>"
      ]
     },
     "metadata": {},
     "output_type": "display_data"
    }
   ],
   "source": [
    "if ((z < -1 * st.norm.ppf(1-0.05/2) or z > st.norm.ppf(1-0.05/2)) and p < 0.05):\n",
    "    if (z < -1 * st.norm.ppf(1-0.05/2)):\n",
    "        display(Markdown(f\"**Keputusan:**\\n\\nTolak $H_0$ karena $z={round(z,3)}<-{round(st.norm.ppf(1-0.05/2), 3)}$\"))\n",
    "    else:\n",
    "        display(Markdown(f\"**Keputusan:**\\n\\nTolak $H_0$ karena $z={round(z,3)}>{round(st.norm.ppf(1-0.05/2), 3)}$\"))\n",
    "    display(Markdown(f\"**Tes signifikan:**\\n\\nTolak $H_0$ karena $p={round(p,3)}<α=0.05$\"))\n",
    "    display(Markdown(\"**Jadi, 100 baris pertama Solids rata-rata tidak sama dengan 205**\"))\n",
    "else:\n",
    "    display(Markdown(f\"**Keputusan:**\\n\\nTidak menolak $H_0$ karena $z={round(z,3)}$ berada pada $-{round(st.norm.ppf(1-0.05/2), 3)}≤z≤{round(st.norm.ppf(1-0.05/2), 3)}$\"))\n",
    "    display(Markdown(f\"**Tes signifikan:**\\n\\nTidak menolak $H_0$ karena $p={round(p,3)}≥α=0.05$\"))\n",
    "    display(Markdown(\"**Jadi, 100 baris pertama Solids rata-rata sama dengan 205**\"))"
   ]
  },
  {
   "cell_type": "code",
   "execution_count": 159,
   "metadata": {
    "scrolled": false
   },
   "outputs": [
    {
     "data": {
      "text/plain": [
       "Text(0.5, 1.0, 'Solids')"
      ]
     },
     "execution_count": 159,
     "metadata": {},
     "output_type": "execute_result"
    },
    {
     "data": {
      "image/png": "[encoded data removed]",
      "text/plain": [
       "<Figure size 432x288 with 1 Axes>"
      ]
     },
     "metadata": {
      "needs_background": "light"
     },
     "output_type": "display_data"
    }
   ],
   "source": [
    "plt.boxplot(df.iloc[:100]['Solids'])\n",
    "boxplot.set_title('Solids')"
   ]
  },
  {
   "cell_type": "markdown",
   "metadata": {},
   "source": [
    "### d. Proporsi nilai Conductivity yang lebih dari 450, adalah tidak sama dengan 10%?"
   ]
  },
  {
   "cell_type": "markdown",
   "metadata": {},
   "source": [
    "###### Tentukan Hipotesis nol ($H_0: θ = θ_0$), dimana θ bisa berupa $\\mu$, $σ^2$, $p$, atau data lain berdistribusi tertentu (normal, binomial, dsc.).\n",
    "\n",
    "$H_0:p=0.1$"
   ]
  },
  {
   "cell_type": "markdown",
   "metadata": {},
   "source": [
    "###### Pilih hipotesis alternatif $H_1$ salah dari dari $θ > θ_0$ , $θ < θ_0$ , atau $θ ≠ θ_0$.\n",
    "\n",
    "$H_1:p≠0.1$"
   ]
  },
  {
   "cell_type": "markdown",
   "metadata": {},
   "source": [
    "###### Tentukan tingkat signifikan α.\n",
    "\n",
    "$α = 0.05$"
   ]
  },
  {
   "cell_type": "markdown",
   "metadata": {},
   "source": [
    "###### Tentukan uji statistik yang sesuai dan tentukan daerah kritis.\n",
    "\n",
    "Daerah kritis:"
   ]
  },
  {
   "cell_type": "code",
   "execution_count": 160,
   "metadata": {},
   "outputs": [
    {
     "data": {
      "text/markdown": [
       "$z< -1.96$ dan $z> 1.96 $"
      ],
      "text/plain": [
       "<IPython.core.display.Markdown object>"
      ]
     },
     "metadata": {},
     "output_type": "display_data"
    }
   ],
   "source": [
    "display(Markdown(f'$z< -{round(st.norm.ppf(1-0.05/2), 3)}$ dan $z> {round(st.norm.ppf(1-0.05/2), 3)} $'))"
   ]
  },
  {
   "cell_type": "markdown",
   "metadata": {},
   "source": [
    "Tes statistik:"
   ]
  },
  {
   "cell_type": "markdown",
   "metadata": {},
   "source": [
    "\\begin{equation}\n",
    "z = \\frac{\\hat{p_{}} - p_{0}} {\\sqrt{p_{0}q_{0}/n}}\n",
    "\\end{equation}"
   ]
  },
  {
   "cell_type": "markdown",
   "metadata": {},
   "source": [
    "###### Hitung nilai uji statistik dari data sample. Hitung p-value sesuai dengan uji statistik yang digunakan."
   ]
  },
  {
   "cell_type": "code",
   "execution_count": 161,
   "metadata": {},
   "outputs": [
    {
     "data": {
      "text/markdown": [
       "$z=40.446$"
      ],
      "text/plain": [
       "<IPython.core.display.Markdown object>"
      ]
     },
     "metadata": {},
     "output_type": "display_data"
    },
    {
     "data": {
      "text/markdown": [
       "$p=0.0$"
      ],
      "text/plain": [
       "<IPython.core.display.Markdown object>"
      ]
     },
     "metadata": {},
     "output_type": "display_data"
    }
   ],
   "source": [
    "z, p = proportions_ztest(len(df[df[\"Conductivity\"] > 450]), len(df), value=0.1, prop_var=0.1)\n",
    "\n",
    "display(Markdown(f'$z={round(z,3)}$'))\n",
    "display(Markdown(f'$p={round(p,3)}$'))"
   ]
  },
  {
   "cell_type": "markdown",
   "metadata": {},
   "source": [
    "###### Ambil keputusan dengan TOLAK $H_0$ jika nilai uji terletak di daerah kritis atau dengan tes signifikan, TOLAK $H_0$ jika p-value lebih kecil dibanding tingkat signifikansi $α$ yang diinginkan."
   ]
  },
  {
   "cell_type": "code",
   "execution_count": 162,
   "metadata": {
    "scrolled": true
   },
   "outputs": [
    {
     "data": {
      "text/markdown": [
       "**Keputusan:**\n",
       "\n",
       "Tolak $H_0$ karena $z=40.446>1.96$"
      ],
      "text/plain": [
       "<IPython.core.display.Markdown object>"
      ]
     },
     "metadata": {},
     "output_type": "display_data"
    },
    {
     "data": {
      "text/markdown": [
       "**Tes signifikan:**\n",
       "\n",
       "Tolak $H_0$ karena $p=0.0<α=0.05$"
      ],
      "text/plain": [
       "<IPython.core.display.Markdown object>"
      ]
     },
     "metadata": {},
     "output_type": "display_data"
    },
    {
     "data": {
      "text/markdown": [
       "**Jadi, proporsi nilai Conductivity yang lebih dari 450 tidak sama dengan 10%**"
      ],
      "text/plain": [
       "<IPython.core.display.Markdown object>"
      ]
     },
     "metadata": {},
     "output_type": "display_data"
    }
   ],
   "source": [
    "if ((z < -1 * st.norm.ppf(1-0.05/2) or z > st.norm.ppf(1-0.05/2)) and p < 0.05):\n",
    "    if (z < -1 * st.norm.ppf(1-0.05/2)):\n",
    "        display(Markdown(f\"**Keputusan:**\\n\\nTolak $H_0$ karena $z={round(z,3)}<-{round(st.norm.ppf(1-0.05/2), 3)}$\"))\n",
    "    else:\n",
    "        display(Markdown(f\"**Keputusan:**\\n\\nTolak $H_0$ karena $z={round(z,3)}>{round(st.norm.ppf(1-0.05/2), 3)}$\"))\n",
    "    display(Markdown(f\"**Tes signifikan:**\\n\\nTolak $H_0$ karena $p={round(p,3)}<α=0.05$\"))\n",
    "    display(Markdown(\"**Jadi, proporsi nilai Conductivity yang lebih dari 450 tidak sama dengan 10%**\"))\n",
    "else:\n",
    "    display(Markdown(f\"**Keputusan:**\\n\\nTidak menolak $H_0$ karena $z={round(z,3)}$ berada pada $-{round(st.norm.ppf(1-0.05/2), 3)}≤z≤{round(st.norm.ppf(1-0.05/2), 3)}$\"))\n",
    "    display(Markdown(f\"**Tes signifikan:**\\n\\nTidak menolak $H_0$ karena $p={round(p,3)}≥α=0.05$\"))\n",
    "    display(Markdown(\"**Jadi, proporsi nilai Conductivity yang lebih dari 450 sama dengan 10%**\"))"
   ]
  },
  {
   "cell_type": "code",
   "execution_count": 163,
   "metadata": {
    "scrolled": false
   },
   "outputs": [
    {
     "data": {
      "text/plain": [
       "Text(0.5, 1.0, 'Conductivity')"
      ]
     },
     "execution_count": 163,
     "metadata": {},
     "output_type": "execute_result"
    },
    {
     "data": {
      "image/png": "[encoded data removed]",
      "text/plain": [
       "<Figure size 432x288 with 1 Axes>"
      ]
     },
     "metadata": {
      "needs_background": "light"
     },
     "output_type": "display_data"
    }
   ],
   "source": [
    "plt.boxplot(df['Conductivity'])\n",
    "boxplot.set_title('Conductivity')"
   ]
  },
  {
   "cell_type": "markdown",
   "metadata": {},
   "source": [
    "### e. Proporsi nilai Trihalomethanes yang kurang dari 40, adalah kurang dari 5%?"
   ]
  },
  {
   "cell_type": "markdown",
   "metadata": {},
   "source": [
    "###### Tentukan Hipotesis nol ($H_0: θ = θ_0$), dimana θ bisa berupa $\\mu$, $σ^2$, $p$, atau data lain berdistribusi tertentu (normal, binomial, dsc.).\n",
    "\n",
    "$H_0:p=0.05$"
   ]
  },
  {
   "cell_type": "markdown",
   "metadata": {},
   "source": [
    "###### Pilih hipotesis alternatif $H_1$ salah dari dari $θ > θ_0$ , $θ < θ_0$ , atau $θ ≠ θ_0$.\n",
    "\n",
    "$H_1:p<0.05$"
   ]
  },
  {
   "cell_type": "markdown",
   "metadata": {},
   "source": [
    "###### Tentukan tingkat signifikan α.\n",
    "\n",
    "$α = 0.05$"
   ]
  },
  {
   "cell_type": "markdown",
   "metadata": {},
   "source": [
    "###### Tentukan uji statistik yang sesuai dan tentukan daerah kritis.\n",
    "\n",
    "Daerah kritis:"
   ]
  },
  {
   "cell_type": "code",
   "execution_count": 164,
   "metadata": {},
   "outputs": [
    {
     "data": {
      "text/markdown": [
       "$z< -1.645$"
      ],
      "text/plain": [
       "<IPython.core.display.Markdown object>"
      ]
     },
     "metadata": {},
     "output_type": "display_data"
    }
   ],
   "source": [
    "display(Markdown(f'$z< -{round(st.norm.ppf(1-0.05), 3)}$'))"
   ]
  },
  {
   "cell_type": "markdown",
   "metadata": {},
   "source": [
    "Tes statistik:"
   ]
  },
  {
   "cell_type": "markdown",
   "metadata": {},
   "source": [
    "\\begin{equation}\n",
    "z = \\frac{\\hat{p_{}} - p_{0}} {\\sqrt{p_{0}q_{0}/n}}\n",
    "\\end{equation}"
   ]
  },
  {
   "cell_type": "markdown",
   "metadata": {},
   "source": [
    "###### Hitung nilai uji statistik dari data sample. Hitung p-value sesuai dengan uji statistik yang digunakan."
   ]
  },
  {
   "cell_type": "code",
   "execution_count": 165,
   "metadata": {},
   "outputs": [
    {
     "data": {
      "text/markdown": [
       "$z=0.549$"
      ],
      "text/plain": [
       "<IPython.core.display.Markdown object>"
      ]
     },
     "metadata": {},
     "output_type": "display_data"
    },
    {
     "data": {
      "text/markdown": [
       "$p=0.708$"
      ],
      "text/plain": [
       "<IPython.core.display.Markdown object>"
      ]
     },
     "metadata": {},
     "output_type": "display_data"
    }
   ],
   "source": [
    "z, p = proportions_ztest(len(df[df[\"Trihalomethanes\"] < 40]), len(df), value=0.05, alternative=\"smaller\")\n",
    "\n",
    "display(Markdown(f'$z={round(z,3)}$'))\n",
    "display(Markdown(f'$p={round(p,3)}$'))"
   ]
  },
  {
   "cell_type": "markdown",
   "metadata": {},
   "source": [
    "###### Ambil keputusan dengan TOLAK $H_0$ jika nilai uji terletak di daerah kritis atau dengan tes signifikan, TOLAK $H_0$ jika p-value lebih kecil dibanding tingkat signifikansi $α$ yang diinginkan."
   ]
  },
  {
   "cell_type": "code",
   "execution_count": 166,
   "metadata": {
    "scrolled": true
   },
   "outputs": [
    {
     "data": {
      "text/markdown": [
       "**Keputusan:**\n",
       "\n",
       "Tidak menolak $H_0$ karena $z=0.549≥-1.645$"
      ],
      "text/plain": [
       "<IPython.core.display.Markdown object>"
      ]
     },
     "metadata": {},
     "output_type": "display_data"
    },
    {
     "data": {
      "text/markdown": [
       "**Tes signifikan:**\n",
       "\n",
       "Tidak menolak $H_0$ karena $p=0.708≥α=0.05$"
      ],
      "text/plain": [
       "<IPython.core.display.Markdown object>"
      ]
     },
     "metadata": {},
     "output_type": "display_data"
    },
    {
     "data": {
      "text/markdown": [
       "**Jadi, proporsi nilai Trihalomethanes yang kurang dari 40 adalah 5%**"
      ],
      "text/plain": [
       "<IPython.core.display.Markdown object>"
      ]
     },
     "metadata": {},
     "output_type": "display_data"
    }
   ],
   "source": [
    "if ((z < -1 * st.norm.ppf(1-0.05/2) or z > st.norm.ppf(1-0.05/2)) and p < 0.05):\n",
    "    display(Markdown(f\"**Keputusan:**\\n\\nTolak $H_0$ karena $z={round(z,3)}<-{round(st.norm.ppf(1-0.05), 3)}$\"))\n",
    "    display(Markdown(f\"**Tes signifikan:**\\n\\nTolak $H_0$ karena $p={round(p,3)}<α=0.05$\"))\n",
    "    display(Markdown(\"**Jadi, proporsi nilai Trihalomethanes yang kurang dari 40 kurang dari 5%**\"))\n",
    "else:\n",
    "    display(Markdown(f\"**Keputusan:**\\n\\nTidak menolak $H_0$ karena $z={round(z,3)}≥-{round(st.norm.ppf(1-0.05), 3)}$\"))\n",
    "    display(Markdown(f\"**Tes signifikan:**\\n\\nTidak menolak $H_0$ karena $p={round(p,3)}≥α=0.05$\"))\n",
    "    display(Markdown(\"**Jadi, proporsi nilai Trihalomethanes yang kurang dari 40 adalah 5%**\"))"
   ]
  },
  {
   "cell_type": "code",
   "execution_count": 167,
   "metadata": {
    "scrolled": false
   },
   "outputs": [
    {
     "data": {
      "text/plain": [
       "Text(0.5, 1.0, 'Trihalomethanes')"
      ]
     },
     "execution_count": 167,
     "metadata": {},
     "output_type": "execute_result"
    },
    {
     "data": {
      "image/png": "[encoded data removed]",
      "text/plain": [
       "<Figure size 432x288 with 1 Axes>"
      ]
     },
     "metadata": {
      "needs_background": "light"
     },
     "output_type": "display_data"
    }
   ],
   "source": [
    "plt.boxplot(df['Trihalomethanes'])\n",
    "boxplot.set_title('Trihalomethanes')"
   ]
  }
 ],
 "metadata": {
  "interpreter": {
   "hash": "40d3a090f54c6569ab1632332b64b2c03c39dcf918b08424e98f38b5ae0af88f"
  },
  "kernelspec": {
   "display_name": "Python 3",
   "language": "python",
   "name": "python3"
  },
  "language_info": {
   "codemirror_mode": {
    "name": "ipython",
    "version": 3
   },
   "file_extension": ".py",
   "mimetype": "text/x-python",
   "name": "python",
   "nbconvert_exporter": "python",
   "pygments_lexer": "ipython3",
   "version": "3.8.8"
  }
 },
 "nbformat": 4,
 "nbformat_minor": 2
}
