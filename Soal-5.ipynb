{
 "cells": [
  {
   "cell_type": "code",
   "execution_count": null,
   "metadata": {},
   "outputs": [],
   "source": [
    "import pandas as pd\n",
    "from statsmodels.stats.weightstats import ztest\n",
    "import scipy.stats as st\n",
    "from IPython.display import display, Markdown\n",
    "\n",
    "df = pd.read_csv(\"water_potability.csv\", \n",
    "                    names=[\"id\", \n",
    "                            \"pH\", \n",
    "                            \"Hardness\", \n",
    "                            \"Solids\", \n",
    "                            \"Chloramines\", \n",
    "                            \"Sulfate\", \n",
    "                            \"Conductivity\", \n",
    "                            \"OrganicCarbon\", \n",
    "                            \"Trihalomethanes\", \n",
    "                            \"Turbidity\", \n",
    "                            \"Potability\"]\n",
    "                    ).set_index(\"id\")"
   ]
  },
  {
   "cell_type": "markdown",
   "metadata": {},
   "source": [
    "### a. Data kolom Sulfate dibagi 2 sama rata: bagian awal dan bagian akhir kolom. Benarkah rata-rata kedua bagian tersebut sama?"
   ]
  },
  {
   "cell_type": "markdown",
   "metadata": {},
   "source": [
    "###### Tentukan Hipotesis nol ($H_0: θ = θ_0$), dimana θ bisa berupa $\\mu$, $σ^2$, $p$, atau data lain berdistribusi tertentu (normal, binomial, dsc.).\n",
    "\n",
    "$H_0:\\mu1 - \\mu2= 0 $\n",
    "\n",
    "###### Pilih hipotesis alternatif $H_1$ salah dari dari $θ > θ_0$ , $θ < θ_0$ , atau $θ ≠ θ_0$.\n",
    "\n",
    "$H_1:\\mu1 - \\mu2 ≠ 0$\n",
    "\n",
    "###### Tentukan tingkat signifikan α.\n",
    "\n",
    "$α = 0.05$\n",
    "\n",
    "###### Tentukan uji statistik yang sesuai dan tentukan daerah kritis.\n",
    "\n",
    "Daerah kritis:"
   ]
  },
  {
   "cell_type": "code",
   "execution_count": null,
   "metadata": {},
   "outputs": [],
   "source": [
    "crit = st.norm.ppf(1-0.05/2)\n",
    "display(Markdown(f'$z< -{crit}$ dan $z> {crit} $'))"
   ]
  },
  {
   "cell_type": "markdown",
   "metadata": {},
   "source": [
    "Tes Statistik\n",
    "\n",
    "$$ z = \\frac{(\\bar{x_{1}} - \\bar{x_{2}}) - d_{0}} {\\sqrt{\\sigma_{1}^{2}/n_{1} + \\sigma_{2}^{2}/n_{2}}}$$\n",
    "\n",
    "###### Hitung nilai uji statistik dari data sample. Hitung p-value sesuai dengan uji statistik yang digunakan."
   ]
  },
  {
   "cell_type": "code",
   "execution_count": null,
   "metadata": {},
   "outputs": [],
   "source": [
    "df1 = df[\"Sulfate\"][:1005]\n",
    "df2 = df[\"Sulfate\"][1005:]\n",
    "\n",
    "z, p = ztest(df1, x2=df2, value=0, alternative=\"two-sided\")\n",
    "\n",
    "display(Markdown(f'$z={z}$'))\n",
    "display(Markdown(f'$p={p}$'))\n",
    "display(Markdown(f'Ambil keputusan dengan TOLAK $H_0$ jika nilai uji terletak di daerah kritis atau dengan tes signifikan, TOLAK $H_0$ jika p-value lebih kecil dibanding tingkat signifikansi α yang diinginkan.'))"
   ]
  },
  {
   "cell_type": "code",
   "execution_count": null,
   "metadata": {},
   "outputs": [],
   "source": [
    "if ((z < -1 * crit or z > crit) and p < 0.05):\n",
    "    if (z < -1 * crit):\n",
    "        display(Markdown(f\"**Keputusan:**\\n\\nTolak $H_0$ karena $z = {z} <- {crit}$\"))\n",
    "    else:\n",
    "        display(Markdown(f\"**Keputusan:**\\n\\nTolak $H_0$ karena $z = {z} > {crit}$\"))\n",
    "    display(Markdown(f\"**Tes signifikan:**\\n\\nTolak $H_0$ karena $p = {p} < α = 0.05$\"))\n",
    "    display(Markdown(\"**Jadi, rata-rata bagian awal dan akhir data Sulfate tidak sama**\"))\n",
    "else:\n",
    "    display(Markdown(f\"**Keputusan:**\\n\\nTidak menolak $H_0$ karena $z = {z}$ berada pada $-{crit} ≤ z ≤ {crit}$\"))\n",
    "    display(Markdown(f\"**Tes signifikan:**\\n\\nTidak menolak $H_0$ karena $p = {p} ≥ α = 0.05$\"))\n",
    "    display(Markdown(\"**Jadi, rata-rata bagian awal dan akhir data Sulfate sama**\"))"
   ]
  },
  {
   "cell_type": "markdown",
   "metadata": {},
   "source": [
    "### b. Data kolom OrganicCarbon dibagi 2 sama rata: bagian awal dan bagian akhir kolom. Benarkah rata-rata bagian awal lebih besar dari pada bagian akhir sebesar 0.15?"
   ]
  },
  {
   "cell_type": "markdown",
   "metadata": {},
   "source": [
    "###### Tentukan Hipotesis nol ($H_0: θ = θ_0$), dimana θ bisa berupa $\\mu$, $σ^2$, $p$, atau data lain berdistribusi tertentu (normal, binomial, dsc.).\n",
    "\n",
    "$H_0:\\mu1 - \\mu2 = 0.15 $\n",
    "\n",
    "###### Pilih hipotesis alternatif $H_1$ salah dari dari $θ > θ_0$ , $θ < θ_0$ , atau $θ ≠ θ_0$.\n",
    "\n",
    "$H_1:\\mu1 - \\mu2 \\ne 0.15$\n",
    "\n",
    "###### Tentukan tingkat signifikan α.\n",
    "\n",
    "$α = 0.05$\n",
    "\n",
    "###### Tentukan uji statistik yang sesuai dan tentukan daerah kritis.\n",
    "\n",
    "Daerah kritis:"
   ]
  },
  {
   "cell_type": "code",
   "execution_count": null,
   "metadata": {},
   "outputs": [],
   "source": [
    "crit = st.norm.ppf(1-0.05/2)\n",
    "display(Markdown(f'$z< -{crit}$ dan $z> {crit} $'))"
   ]
  },
  {
   "cell_type": "markdown",
   "metadata": {},
   "source": [
    "Tes Statistik\n",
    "\n",
    "$$ z = \\frac{(\\bar{x_{1}} - \\bar{x_{2}}) - d_{0}} {\\sqrt{\\sigma_{1}^{2}/n_{1} + \\sigma_{2}^{2}/n_{2}}}$$\n",
    "\n",
    "###### Hitung nilai uji statistik dari data sample. Hitung p-value sesuai dengan uji statistik yang digunakan."
   ]
  },
  {
   "cell_type": "code",
   "execution_count": null,
   "metadata": {},
   "outputs": [],
   "source": [
    "df1 = df[\"OrganicCarbon\"][:1005]\n",
    "df2 = df[\"OrganicCarbon\"][1005:]\n",
    "\n",
    "z, p = ztest(df1, x2=df2, value=0.15, alternative=\"two-sided\")\n",
    "\n",
    "display(Markdown(f'$z={z}$'))\n",
    "display(Markdown(f'$p={p}$'))\n",
    "display(Markdown(f'Ambil keputusan dengan TOLAK $H_0$ jika nilai uji terletak di daerah kritis atau dengan tes signifikan, TOLAK $H_0$ jika p-value lebih kecil dibanding tingkat signifikansi α yang diinginkan.'))"
   ]
  },
  {
   "cell_type": "code",
   "execution_count": null,
   "metadata": {},
   "outputs": [],
   "source": [
    "if ((z < -1 * crit or z > crit) and p < 0.05):\n",
    "    if (z < -1 * crit):\n",
    "        display(Markdown(f\"**Keputusan:**\\n\\nTolak $H_0$ karena $z = {z} <- {crit}$\"))\n",
    "    else:\n",
    "        display(Markdown(f\"**Keputusan:**\\n\\nTolak $H_0$ karena $z = {z} > {crit}$\"))\n",
    "    display(Markdown(f\"**Tes signifikan:**\\n\\nTolak $H_0$ karena $p = {p} < α = 0.05$\"))\n",
    "    display(Markdown(\"**Jadi, rata-rata bagian awal data OrganicCarbon tidak lebih besar sebesar 0.15 dari bagian akhir datanya**\"))\n",
    "else:\n",
    "    display(Markdown(f\"**Keputusan:**\\n\\nTidak menolak $H_0$ karena $z = {z}$ berada pada $-{crit} ≤ z ≤ {crit}$\"))\n",
    "    display(Markdown(f\"**Tes signifikan:**\\n\\nTidak menolak $H_0$ karena $p = {p} ≥ α = 0.05$\"))\n",
    "    display(Markdown(\"**adi, rata-rata bagian awal data OrganicCarbon lebih besar sebesar 0.15 dari bagian akhir datanya**\"))"
   ]
  },
  {
   "cell_type": "markdown",
   "metadata": {},
   "source": [
    "### c. Rata-rata 100 baris pertama kolom Chloramines sama dengan 100 baris terakhirnya?"
   ]
  },
  {
   "cell_type": "markdown",
   "metadata": {},
   "source": [
    "###### Tentukan Hipotesis nol ($H_0: θ = θ_0$), dimana θ bisa berupa $\\mu$, $σ^2$, $p$, atau data lain berdistribusi tertentu (normal, binomial, dsc.).\n",
    "\n",
    "$H_0:\\mu1 - \\mu2 = 0 $\n",
    "\n",
    "###### Pilih hipotesis alternatif $H_1$ salah dari dari $θ > θ_0$ , $θ < θ_0$ , atau $θ ≠ θ_0$.\n",
    "\n",
    "$H_1:\\mu1 - \\mu2 \\ne 0$\n",
    "\n",
    "###### Tentukan tingkat signifikan α.\n",
    "\n",
    "$α = 0.05$\n",
    "\n",
    "###### Tentukan uji statistik yang sesuai dan tentukan daerah kritis.\n",
    "\n",
    "Daerah kritis:"
   ]
  },
  {
   "cell_type": "code",
   "execution_count": null,
   "metadata": {},
   "outputs": [],
   "source": [
    "crit = st.norm.ppf(1-0.05/2)\n",
    "display(Markdown(f'$z< -{crit}$ dan $z> {crit} $'))"
   ]
  },
  {
   "cell_type": "markdown",
   "metadata": {},
   "source": [
    "Tes Statistik\n",
    "\n",
    "$$ z = \\frac{(\\bar{x_{1}} - \\bar{x_{2}}) - d_{0}} {\\sqrt{\\sigma_{1}^{2}/n_{1} + \\sigma_{2}^{2}/n_{2}}}$$\n",
    "\n",
    "###### Hitung nilai uji statistik dari data sample. Hitung p-value sesuai dengan uji statistik yang digunakan."
   ]
  },
  {
   "cell_type": "code",
   "execution_count": null,
   "metadata": {},
   "outputs": [],
   "source": [
    "df1 = df[\"Chloramines\"][:100]\n",
    "df2 = df[\"Chloramines\"][len(df)-100:]\n",
    "\n",
    "z, p = ztest(df1, x2=df2, value=0, alternative=\"two-sided\")\n",
    "\n",
    "display(Markdown(f'$z={z}$'))\n",
    "display(Markdown(f'$p={p}$'))\n",
    "display(Markdown(f'Ambil keputusan dengan TOLAK $H_0$ jika nilai uji terletak di daerah kritis atau dengan tes signifikan, TOLAK $H_0$ jika p-value lebih kecil dibanding tingkat signifikansi α yang diinginkan.'))"
   ]
  },
  {
   "cell_type": "code",
   "execution_count": null,
   "metadata": {},
   "outputs": [],
   "source": [
    "if ((z < -1 * crit or z > crit) and p < 0.05):\n",
    "    if (z < -1 * crit):\n",
    "        display(Markdown(f\"**Keputusan:**\\n\\nTolak $H_0$ karena $z= {z} <- {crit}$\"))\n",
    "    else:\n",
    "        display(Markdown(f\"**Keputusan:**\\n\\nTolak $H_0$ karena $z= {z} > {crit}$\"))\n",
    "    display(Markdown(f\"**Tes signifikan:**\\n\\nTolak $H_0$ karena $p = {p} < α = 0.05$\"))\n",
    "    display(Markdown(\"**Jadi, rata-rata 100 data awal Chloramines tidak sama dengan rata-rata 100 data akhir Chloramines**\"))\n",
    "else:\n",
    "    display(Markdown(f\"**Keputusan:**\\n\\nTidak menolak $H_0$ karena $z = {z}$ berada pada $-{crit} ≤ z ≤ {crit}$\"))\n",
    "    display(Markdown(f\"**Tes signifikan:**\\n\\nTidak menolak $H_0$ karena $p = {p} ≥ α = 0.05$\"))\n",
    "    display(Markdown(\"**Jadi, rata-rata 100 data awal Chloramines sama dengan rata-rata 100 data akhir Chloramines**\"))"
   ]
  },
  {
   "cell_type": "markdown",
   "metadata": {},
   "source": [
    "### d. Proporsi nilai bagian awal Turbidity yang lebih dari 4, adalah lebih besar daripada, proporsi nilai yang sama di bagian akhir Turbidity ?"
   ]
  },
  {
   "cell_type": "markdown",
   "metadata": {},
   "source": [
    "###### Tentukan Hipotesis nol ($H_0: θ = θ_0$), dimana θ bisa berupa $\\mu$, $σ^2$, $p$, atau data lain berdistribusi tertentu (normal, binomial, dsc.).\n",
    "\n",
    "$H_0:p1 > p2 $\n",
    "\n",
    "###### Pilih hipotesis alternatif $H_1$ salah dari dari $θ > θ_0$ , $θ < θ_0$ , atau $θ ≠ θ_0$.\n",
    "\n",
    "$H_1:p1 \\le p2 $\n",
    "\n",
    "###### Tentukan tingkat signifikan α.\n",
    "\n",
    "$α = 0.05$\n",
    "\n",
    "###### Tentukan uji statistik yang sesuai dan tentukan daerah kritis.\n",
    "\n",
    "Daerah kritis:"
   ]
  },
  {
   "cell_type": "code",
   "execution_count": null,
   "metadata": {},
   "outputs": [],
   "source": [
    "display(Markdown(f'$z > {crit} $'))"
   ]
  },
  {
   "cell_type": "markdown",
   "metadata": {},
   "source": [
    "$$ z = \\frac{\\hat{p_{1}}-\\hat{p_{2}}}{\\sqrt{\\hat{p}\\hat{q}(1/n_{1}+1/n_{2})}} $$\n",
    "\n",
    "###### Hitung nilai uji statistik dari data sample. Hitung p-value sesuai dengan uji statistik yang digunakan."
   ]
  },
  {
   "cell_type": "code",
   "execution_count": null,
   "metadata": {},
   "outputs": [],
   "source": [
    "crit = st.norm.ppf(1-0.05)\n",
    "\n",
    "df1 = df[\"Turbidity\"][:1005]\n",
    "df1 = df1[df1 > 4]\n",
    "df2 = df[\"Turbidity\"][1005:]\n",
    "df2 = df2[df2 > 4]\n",
    "\n",
    "x1 = len(df1)\n",
    "x2 = len(df2)\n",
    "p1 = x1/1005\n",
    "p2 = x2/1005\n",
    "\n",
    "p = (x1 + x2)/(2010)\n",
    "q = 1 - p\n",
    "\n",
    "z = (p1 - p2)/((p*q*(1/1005 + 1/1005))**0.5)\n",
    "\n",
    "if z < 0:\n",
    "  pValue = (st.norm.cdf(z))\n",
    "else:\n",
    "  pValue = (st.norm.sf(z))\n",
    "\n",
    "display(Markdown(f'$z={z}$'))\n",
    "display(Markdown(f'$p={pValue}$'))"
   ]
  },
  {
   "cell_type": "code",
   "execution_count": null,
   "metadata": {},
   "outputs": [],
   "source": [
    "if (z > crit and pValue < 0.05):\n",
    "    display(Markdown(f\"**Keputusan:**\\n\\nTolak $H_0$ karena $z = {z} > {crit}$\"))\n",
    "    display(Markdown(f\"**Tes signifikan:**\\n\\nTolak $H_0$ karena $p={pValue} < α = 0.05$\"))\n",
    "    display(Markdown(\"**Jadi, proporsi nilai bagian awal Turbidity yang lebih dari 4, tidak lebih besar daripada, proporsi nilai yang sama di bagian akhir Turbidity**\"))\n",
    "else:\n",
    "    display(Markdown(f\"**Keputusan:**\\n\\nTidak menolak $H_0$ karena $z = {z}$ berada pada $z ≤ {crit}$\"))\n",
    "    display(Markdown(f\"**Tes signifikan:**\\n\\nTidak menolak $H_0$ karena $p={pValue} ≥ α = 0.05$\"))\n",
    "    display(Markdown(\"**Jadi, proporsi nilai bagian awal Turbidity yang lebih dari 4, lebih besar daripada, proporsi nilai yang sama di bagian akhir Turbidity**\"))"
   ]
  },
  {
   "cell_type": "markdown",
   "metadata": {},
   "source": [
    "### e. Bagian awal kolom Sulfate memiliki variansi yang sama dengan bagian akhirnya?"
   ]
  },
  {
   "cell_type": "markdown",
   "metadata": {},
   "source": [
    "###### Tentukan Hipotesis nol ($H_0: θ = θ_0$), dimana θ bisa berupa $\\mu$, $σ^2$, $p$, atau data lain berdistribusi tertentu (normal, binomial, dsc.).\n",
    "\n",
    "$H_0:σ1^2 = σ2^2 $\n",
    "\n",
    "###### Pilih hipotesis alternatif $H_1$ salah dari dari $θ > θ_0$ , $θ < θ_0$ , atau $θ ≠ θ_0$.\n",
    "\n",
    "$H_1:σ1^2 \\ne σ2^2 $\n",
    "\n",
    "###### Tentukan tingkat signifikan α.\n",
    "\n",
    "$α = 0.05$\n",
    "\n",
    "###### Tentukan uji statistik yang sesuai dan tentukan daerah kritis.\n",
    "\n",
    "Daerah kritis:"
   ]
  },
  {
   "cell_type": "code",
   "execution_count": null,
   "metadata": {},
   "outputs": [],
   "source": [
    "display(Markdown(f'$f < f(1-α/2) (v1,v2) atau f > f(α/2)(v1,v2)$'))"
   ]
  },
  {
   "cell_type": "markdown",
   "metadata": {},
   "source": [
    "$$ f = \\frac{s_{1}^{2}}{s_{2}^{2}} $$\n",
    "\n",
    "###### Hitung nilai uji statistik dari data sample. Hitung p-value sesuai dengan uji statistik yang digunakan."
   ]
  },
  {
   "cell_type": "code",
   "execution_count": null,
   "metadata": {},
   "outputs": [],
   "source": [
    "df1 = df[\"Sulfate\"][:1005]\n",
    "df2 = df[\"Sulfate\"][1005:]\n",
    "\n",
    "s1 = df1.var()\n",
    "s2 = df2.var()\n",
    "\n",
    "f = s1**2/s2**2\n",
    "\n",
    "critLeft = st.f.ppf(1-0.05/2, 1004, 1004)\n",
    "critRight = st.f.ppf(0.05/2, 1004, 1004)\n",
    "\n",
    "display(Markdown(f'$f={f}$'))\n",
    "display(Markdown(f'$critLeft={critLeft}$'))\n",
    "display(Markdown(f'$critRight={critRight}$'))"
   ]
  },
  {
   "cell_type": "code",
   "execution_count": null,
   "metadata": {},
   "outputs": [],
   "source": [
    "if (f < critLeft or f > critRight):\n",
    "    if (f < critLeft):\n",
    "        display(Markdown(f\"**Keputusan:**\\n\\nTolak $H_0$ karena $f = {f} < {critLeft}$\"))\n",
    "    else:\n",
    "        display(Markdown(f\"**Keputusan:**\\n\\nTolak $H_0$ karena $f = {f} > {critRight}$\"))\n",
    "    display(Markdown(\"**Jadi, bagian awal kolom Sulfate tidak memiliki variansi yang sama dengan bagian akhirnya**\"))\n",
    "else:\n",
    "    display(Markdown(f'**Keputusan:**\\n\\nTidak menolak $H_0$ karena $f = {critLeft} ≤ {f} ≤ {critRight}$'))\n",
    "    display(Markdown(\"**Jadi, bagian awal kolom Sulfate memiliki variansi yang sama dengan bagian akhirnya**\"))"
   ]
  }
 ],
 "metadata": {
  "interpreter": {
   "hash": "d406864f2ee78ecc67afccccd0a48c216f41ca3a0f9ca739a0b9d8b15ae422ba"
  },
  "kernelspec": {
   "display_name": "Python 3.10.4 64-bit",
   "language": "python",
   "name": "python3"
  },
  "language_info": {
   "codemirror_mode": {
    "name": "ipython",
    "version": 3
   },
   "file_extension": ".py",
   "mimetype": "text/x-python",
   "name": "python",
   "nbconvert_exporter": "python",
   "pygments_lexer": "ipython3",
   "version": "3.10.4"
  },
  "orig_nbformat": 4
 },
 "nbformat": 4,
 "nbformat_minor": 2
}
