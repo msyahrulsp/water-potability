{
 "cells": [
  {
   "cell_type": "markdown",
   "id": "1524ae7c",
   "metadata": {},
   "source": [
    "Data pH terlihat dari plot histogram yang berbentuk simetris dapat dikatakan memiliki distribusi normal. Akan tetapi, jika dilihat dari plot box plot, pencilan terlihat tidak simetris. Sehingga, data pH bukan termasuk distribusi normal."
   ]
  },
  {
   "cell_type": "markdown",
   "id": "bbc08ef5",
   "metadata": {},
   "source": [
    "Data Hardness terlihat dari plot histogram yang berbentuk simetris dapat dikatakan memiliki distribusi normal, walaupun memiliki sedikit kecenderungan ke arah kiri. Akan tetapi, jika dilihat dari plot box plot, pencilan terlihat tidak simetris. Sehingga, data Hardness bukan termasuk distribusi normal."
   ]
  },
  {
   "cell_type": "markdown",
   "id": "ac3bcfab",
   "metadata": {},
   "source": [
    "Data Solids terlihat dari plot histogram yang memiliki kecenderungan ke arah kanan. Sehingga, data Solids bukan termasuk distribusi normal."
   ]
  },
  {
   "cell_type": "markdown",
   "id": "7b40f68a",
   "metadata": {},
   "source": [
    "Data Chloromines terlihat dari plot histogram yang berbentuk simetris dapat dikatakan memiliki distribusi normal. Akan tetapi, jika dilihat dari plot box plot, pencilan terlihat tidak simetris. Sehingga, data Chloromines bukan termasuk distribusi normal."
   ]
  },
  {
   "cell_type": "markdown",
   "id": "0934c155",
   "metadata": {},
   "source": [
    "Data Sulfate terlihat dari plot histogram yang memiliki kecenderungan ke arah kiri. Sehingga, data Sulfate bukan termasuk distribusi normal."
   ]
  },
  {
   "cell_type": "markdown",
   "id": "b51f2610",
   "metadata": {},
   "source": [
    "Data Conductivity terlihat dari plot histogram yang memiliki kecenderungan ke arah kanan. Sehingga, data Conductivity bukan termasuk distribusi normal."
   ]
  },
  {
   "cell_type": "markdown",
   "id": "b4864eef",
   "metadata": {},
   "source": [
    "Data OrganicCarbon terlihat dari plot histogram yang berbentuk simetris dapat dikatakan memiliki distribusi normal. Jika dilihat dari plot box plot, pencilan terlihat terdistribusi secara simetris. Sehingga, data OrganicCarbon termasuk distribusi normal."
   ]
  },
  {
   "cell_type": "markdown",
   "id": "f6f57cfd",
   "metadata": {},
   "source": [
    "Data Trihalomethanes terlihat dari plot histogram yang berbentuk simetris dapat dikatakan memiliki distribusi normal. Jika dilihat dari plot box plot, pencilan terlihat terdistribusi secara simetris. Sehingga, data Trihalomethanes termasuk distribusi normal."
   ]
  },
  {
   "cell_type": "markdown",
   "id": "831bace3",
   "metadata": {},
   "source": [
    "Data Turbidity terlihat dari plot histogram yang berbentuk simetris dapat dikatakan memiliki distribusi normal. Jika dilihat dari plot box plot, pencilan terlihat terdistribusi secara simetris. Sehingga, data Turbidity termasuk distribusi normal."
   ]
  }
 ],
 "metadata": {
  "kernelspec": {
   "display_name": "Python 3",
   "language": "python",
   "name": "python3"
  },
  "language_info": {
   "codemirror_mode": {
    "name": "ipython",
    "version": 3
   },
   "file_extension": ".py",
   "mimetype": "text/x-python",
   "name": "python",
   "nbconvert_exporter": "python",
   "pygments_lexer": "ipython3",
   "version": "3.8.8"
  }
 },
 "nbformat": 4,
 "nbformat_minor": 5
}
