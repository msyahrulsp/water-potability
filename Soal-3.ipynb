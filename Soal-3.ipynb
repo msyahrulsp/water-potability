{
 "cells": [
  {
   "cell_type": "code",
   "execution_count": 1,
   "id": "f84d5fac",
   "metadata": {},
   "outputs": [
    {
     "name": "stdout",
     "output_type": "stream",
     "text": [
      "pH bukan distribusi normal\n",
      "Hardness bukan distribusi normal\n",
      "Solids bukan distribusi normal\n",
      "Chloramines bukan distribusi normal\n",
      "Sulfate bukan distribusi normal\n",
      "Conductivity bukan distribusi normal\n",
      "OrganicCarbon termasuk distribusi normal\n",
      "Trihalomethanes termasuk distribusi normal\n",
      "Turbidity termasuk distribusi normal\n"
     ]
    }
   ],
   "source": [
    "import pandas as pd\n",
    "import matplotlib.pyplot as plt\n",
    "import scipy.stats as st\n",
    "\n",
    "df = pd.read_csv(\"water_potability.csv\", \n",
    "                    names=[\"id\", \n",
    "                            \"pH\", \n",
    "                            \"Hardness\", \n",
    "                            \"Solids\", \n",
    "                            \"Chloramines\", \n",
    "                            \"Sulfate\", \n",
    "                            \"Conductivity\", \n",
    "                            \"OrganicCarbon\", \n",
    "                            \"Trihalomethanes\", \n",
    "                            \"Turbidity\", \n",
    "                            \"Potability\"]\n",
    "                    ).set_index(\"id\")\n",
    "\n",
    "names = [\"pH\", \n",
    "         \"Hardness\", \n",
    "         \"Solids\", \n",
    "         \"Chloramines\", \n",
    "         \"Sulfate\", \n",
    "         \"Conductivity\", \n",
    "         \"OrganicCarbon\", \n",
    "         \"Trihalomethanes\", \n",
    "         \"Turbidity\"]\n",
    "\n",
    "for name in names:\n",
    "    stat, p = st.normaltest(df[name])\n",
    "    if p <= 0.05:\n",
    "        print(name + \" bukan distribusi normal\")\n",
    "    else:\n",
    "        print(name + \" termasuk distribusi normal\")"
   ]
  },
  {
   "cell_type": "code",
   "execution_count": null,
   "id": "bbe48f54",
   "metadata": {},
   "outputs": [],
   "source": []
  }
 ],
 "metadata": {
  "kernelspec": {
   "display_name": "Python 3",
   "language": "python",
   "name": "python3"
  },
  "language_info": {
   "codemirror_mode": {
    "name": "ipython",
    "version": 3
   },
   "file_extension": ".py",
   "mimetype": "text/x-python",
   "name": "python",
   "nbconvert_exporter": "python",
   "pygments_lexer": "ipython3",
   "version": "3.8.8"
  }
 },
 "nbformat": 4,
 "nbformat_minor": 5
}
