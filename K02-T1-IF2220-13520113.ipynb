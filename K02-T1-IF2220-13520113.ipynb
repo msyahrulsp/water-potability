{
 "cells": [
  {
   "cell_type": "code",
   "execution_count": null,
   "metadata": {},
   "outputs": [],
   "source": [
    "# Tugas Besar Mata Kuliah Probabilitas dan Statistika\n",
    "\n",
    "# Anggota\n",
    "# - Brianaldo Phandiarta  - 13520113\n",
    "# - M Syahrul Surya Putra - 13520161"
   ]
  },
  {
   "cell_type": "code",
   "execution_count": 1,
   "metadata": {},
   "outputs": [],
   "source": [
    "import pandas as pd\n",
    "import matplotlib.pyplot as plt\n",
    "import statistics\n",
    "import scipy.stats as st\n",
    "from statsmodels.stats.proportion import proportions_ztest\n",
    "from IPython.display import display, Markdown\n",
    "\n",
    "df = pd.read_csv(\"water_potability.csv\", \n",
    "                    names=[\"id\", \n",
    "                            \"pH\", \n",
    "                            \"Hardness\", \n",
    "                            \"Solids\", \n",
    "                            \"Chloramines\", \n",
    "                            \"Sulfate\", \n",
    "                            \"Conductivity\", \n",
    "                            \"OrganicCarbon\", \n",
    "                            \"Trihalomethanes\", \n",
    "                            \"Turbidity\", \n",
    "                            \"Potability\"]\n",
    "                    ).set_index(\"id\")"
   ]
  },
  {
   "cell_type": "markdown",
   "metadata": {},
   "source": [
    "### Soal 1"
   ]
  },
  {
   "cell_type": "code",
   "execution_count": 2,
   "metadata": {},
   "outputs": [],
   "source": [
    "def dataDescription(data):\n",
    "    dataFrame = df[data]\n",
    "\n",
    "    display(Markdown(\"-- Deskripsi Data %s --\" % data))\n",
    "    display(Markdown(\"Mean: %s\" % dataFrame.mean()))\n",
    "    display(Markdown(\"Median: %s\" % dataFrame.median()))\n",
    "    display(Markdown(\"Modus: %s\" % statistics.mode(dataFrame)))\n",
    "    display(Markdown(\"Standar Deviasi: %s\" % dataFrame.std()))\n",
    "    display(Markdown(\"Variansi: %s\" % dataFrame.var()))\n",
    "    display(Markdown(\"Range: %s\" % (dataFrame.max() - dataFrame.min())))\n",
    "    display(Markdown(\"Nilai Minimum: %s\" % dataFrame.min()))\n",
    "    display(Markdown(\"Nilai Maksimum: %s\" % dataFrame.max()))\n",
    "    display(Markdown(\"Skewness: %s\" % dataFrame.skew()))\n",
    "    display(Markdown(\"Kurtosis: %s\\n\" % dataFrame.kurt()))\n",
    "    display(Markdown(\"<br>-- Kuartil --\"))\n",
    "    display(Markdown(\"Kuartil 1: %s<br>Kuartil 2: %s<br>Kuartil 3: %s\" % (dataFrame.quantile(0.25), dataFrame.quantile(0.5), dataFrame.quantile(0.75))))\n",
    "    display(Markdown(\"IQR: %s\" % (dataFrame.quantile(0.75) - dataFrame.quantile(0.25))))"
   ]
  },
  {
   "cell_type": "code",
   "execution_count": 3,
   "metadata": {},
   "outputs": [
    {
     "data": {
      "text/markdown": [
       "-- Deskripsi Data pH --"
      ],
      "text/plain": [
       "<IPython.core.display.Markdown object>"
      ]
     },
     "metadata": {},
     "output_type": "display_data"
    },
    {
     "data": {
      "text/markdown": [
       "Mean: 7.0871927687138285"
      ],
      "text/plain": [
       "<IPython.core.display.Markdown object>"
      ]
     },
     "metadata": {},
     "output_type": "display_data"
    },
    {
     "data": {
      "text/markdown": [
       "Median: 7.029490455474185"
      ],
      "text/plain": [
       "<IPython.core.display.Markdown object>"
      ]
     },
     "metadata": {},
     "output_type": "display_data"
    },
    {
     "data": {
      "text/markdown": [
       "Modus: 8.316765884214679"
      ],
      "text/plain": [
       "<IPython.core.display.Markdown object>"
      ]
     },
     "metadata": {},
     "output_type": "display_data"
    },
    {
     "data": {
      "text/markdown": [
       "Standar Deviasi: 1.5728029470456655"
      ],
      "text/plain": [
       "<IPython.core.display.Markdown object>"
      ]
     },
     "metadata": {},
     "output_type": "display_data"
    },
    {
     "data": {
      "text/markdown": [
       "Variansi: 2.4737091102355304"
      ],
      "text/plain": [
       "<IPython.core.display.Markdown object>"
      ]
     },
     "metadata": {},
     "output_type": "display_data"
    },
    {
     "data": {
      "text/markdown": [
       "Range: 13.7725009497978"
      ],
      "text/plain": [
       "<IPython.core.display.Markdown object>"
      ]
     },
     "metadata": {},
     "output_type": "display_data"
    },
    {
     "data": {
      "text/markdown": [
       "Nilai Minimum: 0.2274990502021987"
      ],
      "text/plain": [
       "<IPython.core.display.Markdown object>"
      ]
     },
     "metadata": {},
     "output_type": "display_data"
    },
    {
     "data": {
      "text/markdown": [
       "Nilai Maksimum: 13.999999999999998"
      ],
      "text/plain": [
       "<IPython.core.display.Markdown object>"
      ]
     },
     "metadata": {},
     "output_type": "display_data"
    },
    {
     "data": {
      "text/markdown": [
       "Skewness: 0.04853451405270669"
      ],
      "text/plain": [
       "<IPython.core.display.Markdown object>"
      ]
     },
     "metadata": {},
     "output_type": "display_data"
    },
    {
     "data": {
      "text/markdown": [
       "Kurtosis: 0.6269041256617065\n"
      ],
      "text/plain": [
       "<IPython.core.display.Markdown object>"
      ]
     },
     "metadata": {},
     "output_type": "display_data"
    },
    {
     "data": {
      "text/markdown": [
       "<br>-- Kuartil --"
      ],
      "text/plain": [
       "<IPython.core.display.Markdown object>"
      ]
     },
     "metadata": {},
     "output_type": "display_data"
    },
    {
     "data": {
      "text/markdown": [
       "Kuartil 1: 6.09078502142353<br>Kuartil 2: 7.029490455474185<br>Kuartil 3: 8.053006240791538"
      ],
      "text/plain": [
       "<IPython.core.display.Markdown object>"
      ]
     },
     "metadata": {},
     "output_type": "display_data"
    },
    {
     "data": {
      "text/markdown": [
       "IQR: 1.9622212193680078"
      ],
      "text/plain": [
       "<IPython.core.display.Markdown object>"
      ]
     },
     "metadata": {},
     "output_type": "display_data"
    }
   ],
   "source": [
    "dataDescription(\"pH\")"
   ]
  },
  {
   "cell_type": "code",
   "execution_count": 4,
   "metadata": {},
   "outputs": [
    {
     "data": {
      "text/markdown": [
       "-- Deskripsi Data Hardness --"
      ],
      "text/plain": [
       "<IPython.core.display.Markdown object>"
      ]
     },
     "metadata": {},
     "output_type": "display_data"
    },
    {
     "data": {
      "text/markdown": [
       "Mean: 195.96920903783524"
      ],
      "text/plain": [
       "<IPython.core.display.Markdown object>"
      ]
     },
     "metadata": {},
     "output_type": "display_data"
    },
    {
     "data": {
      "text/markdown": [
       "Median: 197.20352491941043"
      ],
      "text/plain": [
       "<IPython.core.display.Markdown object>"
      ]
     },
     "metadata": {},
     "output_type": "display_data"
    },
    {
     "data": {
      "text/markdown": [
       "Modus: 214.3733940856225"
      ],
      "text/plain": [
       "<IPython.core.display.Markdown object>"
      ]
     },
     "metadata": {},
     "output_type": "display_data"
    },
    {
     "data": {
      "text/markdown": [
       "Standar Deviasi: 32.643165859429864"
      ],
      "text/plain": [
       "<IPython.core.display.Markdown object>"
      ]
     },
     "metadata": {},
     "output_type": "display_data"
    },
    {
     "data": {
      "text/markdown": [
       "Variansi: 1065.5762773262472"
      ],
      "text/plain": [
       "<IPython.core.display.Markdown object>"
      ]
     },
     "metadata": {},
     "output_type": "display_data"
    },
    {
     "data": {
      "text/markdown": [
       "Range: 243.84589036652147"
      ],
      "text/plain": [
       "<IPython.core.display.Markdown object>"
      ]
     },
     "metadata": {},
     "output_type": "display_data"
    },
    {
     "data": {
      "text/markdown": [
       "Nilai Minimum: 73.4922336890611"
      ],
      "text/plain": [
       "<IPython.core.display.Markdown object>"
      ]
     },
     "metadata": {},
     "output_type": "display_data"
    },
    {
     "data": {
      "text/markdown": [
       "Nilai Maksimum: 317.33812405558257"
      ],
      "text/plain": [
       "<IPython.core.display.Markdown object>"
      ]
     },
     "metadata": {},
     "output_type": "display_data"
    },
    {
     "data": {
      "text/markdown": [
       "Skewness: -0.08532104172868622"
      ],
      "text/plain": [
       "<IPython.core.display.Markdown object>"
      ]
     },
     "metadata": {},
     "output_type": "display_data"
    },
    {
     "data": {
      "text/markdown": [
       "Kurtosis: 0.5254804942991402\n"
      ],
      "text/plain": [
       "<IPython.core.display.Markdown object>"
      ]
     },
     "metadata": {},
     "output_type": "display_data"
    },
    {
     "data": {
      "text/markdown": [
       "<br>-- Kuartil --"
      ],
      "text/plain": [
       "<IPython.core.display.Markdown object>"
      ]
     },
     "metadata": {},
     "output_type": "display_data"
    },
    {
     "data": {
      "text/markdown": [
       "Kuartil 1: 176.74065667669896<br>Kuartil 2: 197.20352491941043<br>Kuartil 3: 216.44758866727156"
      ],
      "text/plain": [
       "<IPython.core.display.Markdown object>"
      ]
     },
     "metadata": {},
     "output_type": "display_data"
    },
    {
     "data": {
      "text/markdown": [
       "IQR: 39.7069319905726"
      ],
      "text/plain": [
       "<IPython.core.display.Markdown object>"
      ]
     },
     "metadata": {},
     "output_type": "display_data"
    }
   ],
   "source": [
    "dataDescription(\"Hardness\")"
   ]
  },
  {
   "cell_type": "code",
   "execution_count": 5,
   "metadata": {},
   "outputs": [
    {
     "data": {
      "text/markdown": [
       "-- Deskripsi Data Solids --"
      ],
      "text/plain": [
       "<IPython.core.display.Markdown object>"
      ]
     },
     "metadata": {},
     "output_type": "display_data"
    },
    {
     "data": {
      "text/markdown": [
       "Mean: 21904.673439053095"
      ],
      "text/plain": [
       "<IPython.core.display.Markdown object>"
      ]
     },
     "metadata": {},
     "output_type": "display_data"
    },
    {
     "data": {
      "text/markdown": [
       "Median: 20926.88215534375"
      ],
      "text/plain": [
       "<IPython.core.display.Markdown object>"
      ]
     },
     "metadata": {},
     "output_type": "display_data"
    },
    {
     "data": {
      "text/markdown": [
       "Modus: 22018.41744077529"
      ],
      "text/plain": [
       "<IPython.core.display.Markdown object>"
      ]
     },
     "metadata": {},
     "output_type": "display_data"
    },
    {
     "data": {
      "text/markdown": [
       "Standar Deviasi: 8625.397911190576"
      ],
      "text/plain": [
       "<IPython.core.display.Markdown object>"
      ]
     },
     "metadata": {},
     "output_type": "display_data"
    },
    {
     "data": {
      "text/markdown": [
       "Variansi: 74397489.12637076"
      ],
      "text/plain": [
       "<IPython.core.display.Markdown object>"
      ]
     },
     "metadata": {},
     "output_type": "display_data"
    },
    {
     "data": {
      "text/markdown": [
       "Range: 56167.72980146483"
      ],
      "text/plain": [
       "<IPython.core.display.Markdown object>"
      ]
     },
     "metadata": {},
     "output_type": "display_data"
    },
    {
     "data": {
      "text/markdown": [
       "Nilai Minimum: 320.942611274359"
      ],
      "text/plain": [
       "<IPython.core.display.Markdown object>"
      ]
     },
     "metadata": {},
     "output_type": "display_data"
    },
    {
     "data": {
      "text/markdown": [
       "Nilai Maksimum: 56488.67241273919"
      ],
      "text/plain": [
       "<IPython.core.display.Markdown object>"
      ]
     },
     "metadata": {},
     "output_type": "display_data"
    },
    {
     "data": {
      "text/markdown": [
       "Skewness: 0.5910113724580447"
      ],
      "text/plain": [
       "<IPython.core.display.Markdown object>"
      ]
     },
     "metadata": {},
     "output_type": "display_data"
    },
    {
     "data": {
      "text/markdown": [
       "Kurtosis: 0.33732026745944976\n"
      ],
      "text/plain": [
       "<IPython.core.display.Markdown object>"
      ]
     },
     "metadata": {},
     "output_type": "display_data"
    },
    {
     "data": {
      "text/markdown": [
       "<br>-- Kuartil --"
      ],
      "text/plain": [
       "<IPython.core.display.Markdown object>"
      ]
     },
     "metadata": {},
     "output_type": "display_data"
    },
    {
     "data": {
      "text/markdown": [
       "Kuartil 1: 15614.412961614333<br>Kuartil 2: 20926.88215534375<br>Kuartil 3: 27170.534648603603"
      ],
      "text/plain": [
       "<IPython.core.display.Markdown object>"
      ]
     },
     "metadata": {},
     "output_type": "display_data"
    },
    {
     "data": {
      "text/markdown": [
       "IQR: 11556.12168698927"
      ],
      "text/plain": [
       "<IPython.core.display.Markdown object>"
      ]
     },
     "metadata": {},
     "output_type": "display_data"
    }
   ],
   "source": [
    "dataDescription(\"Solids\")"
   ]
  },
  {
   "cell_type": "code",
   "execution_count": 6,
   "metadata": {},
   "outputs": [
    {
     "data": {
      "text/markdown": [
       "-- Deskripsi Data Chloramines --"
      ],
      "text/plain": [
       "<IPython.core.display.Markdown object>"
      ]
     },
     "metadata": {},
     "output_type": "display_data"
    },
    {
     "data": {
      "text/markdown": [
       "Mean: 7.134322344600104"
      ],
      "text/plain": [
       "<IPython.core.display.Markdown object>"
      ]
     },
     "metadata": {},
     "output_type": "display_data"
    },
    {
     "data": {
      "text/markdown": [
       "Median: 7.1420143046226645"
      ],
      "text/plain": [
       "<IPython.core.display.Markdown object>"
      ]
     },
     "metadata": {},
     "output_type": "display_data"
    },
    {
     "data": {
      "text/markdown": [
       "Modus: 8.05933237743854"
      ],
      "text/plain": [
       "<IPython.core.display.Markdown object>"
      ]
     },
     "metadata": {},
     "output_type": "display_data"
    },
    {
     "data": {
      "text/markdown": [
       "Standar Deviasi: 1.5852140982642102"
      ],
      "text/plain": [
       "<IPython.core.display.Markdown object>"
      ]
     },
     "metadata": {},
     "output_type": "display_data"
    },
    {
     "data": {
      "text/markdown": [
       "Variansi: 2.512903737335613"
      ],
      "text/plain": [
       "<IPython.core.display.Markdown object>"
      ]
     },
     "metadata": {},
     "output_type": "display_data"
    },
    {
     "data": {
      "text/markdown": [
       "Range: 11.736129095114823"
      ],
      "text/plain": [
       "<IPython.core.display.Markdown object>"
      ]
     },
     "metadata": {},
     "output_type": "display_data"
    },
    {
     "data": {
      "text/markdown": [
       "Nilai Minimum: 1.3908709048851806"
      ],
      "text/plain": [
       "<IPython.core.display.Markdown object>"
      ]
     },
     "metadata": {},
     "output_type": "display_data"
    },
    {
     "data": {
      "text/markdown": [
       "Nilai Maksimum: 13.127000000000002"
      ],
      "text/plain": [
       "<IPython.core.display.Markdown object>"
      ]
     },
     "metadata": {},
     "output_type": "display_data"
    },
    {
     "data": {
      "text/markdown": [
       "Skewness: 0.013003497779569528"
      ],
      "text/plain": [
       "<IPython.core.display.Markdown object>"
      ]
     },
     "metadata": {},
     "output_type": "display_data"
    },
    {
     "data": {
      "text/markdown": [
       "Kurtosis: 0.5497821097667472\n"
      ],
      "text/plain": [
       "<IPython.core.display.Markdown object>"
      ]
     },
     "metadata": {},
     "output_type": "display_data"
    },
    {
     "data": {
      "text/markdown": [
       "<br>-- Kuartil --"
      ],
      "text/plain": [
       "<IPython.core.display.Markdown object>"
      ]
     },
     "metadata": {},
     "output_type": "display_data"
    },
    {
     "data": {
      "text/markdown": [
       "Kuartil 1: 6.138326387572855<br>Kuartil 2: 7.1420143046226645<br>Kuartil 3: 8.109933216133502"
      ],
      "text/plain": [
       "<IPython.core.display.Markdown object>"
      ]
     },
     "metadata": {},
     "output_type": "display_data"
    },
    {
     "data": {
      "text/markdown": [
       "IQR: 1.9716068285606472"
      ],
      "text/plain": [
       "<IPython.core.display.Markdown object>"
      ]
     },
     "metadata": {},
     "output_type": "display_data"
    }
   ],
   "source": [
    "dataDescription(\"Chloramines\")"
   ]
  },
  {
   "cell_type": "code",
   "execution_count": 7,
   "metadata": {},
   "outputs": [
    {
     "data": {
      "text/markdown": [
       "-- Deskripsi Data Sulfate --"
      ],
      "text/plain": [
       "<IPython.core.display.Markdown object>"
      ]
     },
     "metadata": {},
     "output_type": "display_data"
    },
    {
     "data": {
      "text/markdown": [
       "Mean: 333.211376415189"
      ],
      "text/plain": [
       "<IPython.core.display.Markdown object>"
      ]
     },
     "metadata": {},
     "output_type": "display_data"
    },
    {
     "data": {
      "text/markdown": [
       "Median: 332.2141128069568"
      ],
      "text/plain": [
       "<IPython.core.display.Markdown object>"
      ]
     },
     "metadata": {},
     "output_type": "display_data"
    },
    {
     "data": {
      "text/markdown": [
       "Modus: 356.88613564305666"
      ],
      "text/plain": [
       "<IPython.core.display.Markdown object>"
      ]
     },
     "metadata": {},
     "output_type": "display_data"
    },
    {
     "data": {
      "text/markdown": [
       "Standar Deviasi: 41.21111102560979"
      ],
      "text/plain": [
       "<IPython.core.display.Markdown object>"
      ]
     },
     "metadata": {},
     "output_type": "display_data"
    },
    {
     "data": {
      "text/markdown": [
       "Variansi: 1698.355671965137"
      ],
      "text/plain": [
       "<IPython.core.display.Markdown object>"
      ]
     },
     "metadata": {},
     "output_type": "display_data"
    },
    {
     "data": {
      "text/markdown": [
       "Range: 352.03064230599716"
      ],
      "text/plain": [
       "<IPython.core.display.Markdown object>"
      ]
     },
     "metadata": {},
     "output_type": "display_data"
    },
    {
     "data": {
      "text/markdown": [
       "Nilai Minimum: 129.00000000000003"
      ],
      "text/plain": [
       "<IPython.core.display.Markdown object>"
      ]
     },
     "metadata": {},
     "output_type": "display_data"
    },
    {
     "data": {
      "text/markdown": [
       "Nilai Maksimum: 481.0306423059972"
      ],
      "text/plain": [
       "<IPython.core.display.Markdown object>"
      ]
     },
     "metadata": {},
     "output_type": "display_data"
    },
    {
     "data": {
      "text/markdown": [
       "Skewness: -0.04572780443653543"
      ],
      "text/plain": [
       "<IPython.core.display.Markdown object>"
      ]
     },
     "metadata": {},
     "output_type": "display_data"
    },
    {
     "data": {
      "text/markdown": [
       "Kurtosis: 0.7868544988131605\n"
      ],
      "text/plain": [
       "<IPython.core.display.Markdown object>"
      ]
     },
     "metadata": {},
     "output_type": "display_data"
    },
    {
     "data": {
      "text/markdown": [
       "<br>-- Kuartil --"
      ],
      "text/plain": [
       "<IPython.core.display.Markdown object>"
      ]
     },
     "metadata": {},
     "output_type": "display_data"
    },
    {
     "data": {
      "text/markdown": [
       "Kuartil 1: 307.6269864860709<br>Kuartil 2: 332.2141128069568<br>Kuartil 3: 359.26814739141554"
      ],
      "text/plain": [
       "<IPython.core.display.Markdown object>"
      ]
     },
     "metadata": {},
     "output_type": "display_data"
    },
    {
     "data": {
      "text/markdown": [
       "IQR: 51.641160905344634"
      ],
      "text/plain": [
       "<IPython.core.display.Markdown object>"
      ]
     },
     "metadata": {},
     "output_type": "display_data"
    }
   ],
   "source": [
    "dataDescription(\"Sulfate\")"
   ]
  },
  {
   "cell_type": "code",
   "execution_count": 8,
   "metadata": {},
   "outputs": [
    {
     "data": {
      "text/markdown": [
       "-- Deskripsi Data Conductivity --"
      ],
      "text/plain": [
       "<IPython.core.display.Markdown object>"
      ]
     },
     "metadata": {},
     "output_type": "display_data"
    },
    {
     "data": {
      "text/markdown": [
       "Mean: 426.47670835257907"
      ],
      "text/plain": [
       "<IPython.core.display.Markdown object>"
      ]
     },
     "metadata": {},
     "output_type": "display_data"
    },
    {
     "data": {
      "text/markdown": [
       "Median: 423.43837202443706"
      ],
      "text/plain": [
       "<IPython.core.display.Markdown object>"
      ]
     },
     "metadata": {},
     "output_type": "display_data"
    },
    {
     "data": {
      "text/markdown": [
       "Modus: 363.2665161642437"
      ],
      "text/plain": [
       "<IPython.core.display.Markdown object>"
      ]
     },
     "metadata": {},
     "output_type": "display_data"
    },
    {
     "data": {
      "text/markdown": [
       "Standar Deviasi: 80.70187180729437"
      ],
      "text/plain": [
       "<IPython.core.display.Markdown object>"
      ]
     },
     "metadata": {},
     "output_type": "display_data"
    },
    {
     "data": {
      "text/markdown": [
       "Variansi: 6512.792113200974"
      ],
      "text/plain": [
       "<IPython.core.display.Markdown object>"
      ]
     },
     "metadata": {},
     "output_type": "display_data"
    },
    {
     "data": {
      "text/markdown": [
       "Range: 551.7228828031471"
      ],
      "text/plain": [
       "<IPython.core.display.Markdown object>"
      ]
     },
     "metadata": {},
     "output_type": "display_data"
    },
    {
     "data": {
      "text/markdown": [
       "Nilai Minimum: 201.6197367551575"
      ],
      "text/plain": [
       "<IPython.core.display.Markdown object>"
      ]
     },
     "metadata": {},
     "output_type": "display_data"
    },
    {
     "data": {
      "text/markdown": [
       "Nilai Maksimum: 753.3426195583046"
      ],
      "text/plain": [
       "<IPython.core.display.Markdown object>"
      ]
     },
     "metadata": {},
     "output_type": "display_data"
    },
    {
     "data": {
      "text/markdown": [
       "Skewness: 0.26801233302645316"
      ],
      "text/plain": [
       "<IPython.core.display.Markdown object>"
      ]
     },
     "metadata": {},
     "output_type": "display_data"
    },
    {
     "data": {
      "text/markdown": [
       "Kurtosis: -0.23720600574806516\n"
      ],
      "text/plain": [
       "<IPython.core.display.Markdown object>"
      ]
     },
     "metadata": {},
     "output_type": "display_data"
    },
    {
     "data": {
      "text/markdown": [
       "<br>-- Kuartil --"
      ],
      "text/plain": [
       "<IPython.core.display.Markdown object>"
      ]
     },
     "metadata": {},
     "output_type": "display_data"
    },
    {
     "data": {
      "text/markdown": [
       "Kuartil 1: 366.61921929632433<br>Kuartil 2: 423.43837202443706<br>Kuartil 3: 482.2097724598859"
      ],
      "text/plain": [
       "<IPython.core.display.Markdown object>"
      ]
     },
     "metadata": {},
     "output_type": "display_data"
    },
    {
     "data": {
      "text/markdown": [
       "IQR: 115.5905531635616"
      ],
      "text/plain": [
       "<IPython.core.display.Markdown object>"
      ]
     },
     "metadata": {},
     "output_type": "display_data"
    }
   ],
   "source": [
    "dataDescription(\"Conductivity\")"
   ]
  },
  {
   "cell_type": "code",
   "execution_count": 9,
   "metadata": {},
   "outputs": [
    {
     "data": {
      "text/markdown": [
       "-- Deskripsi Data OrganicCarbon --"
      ],
      "text/plain": [
       "<IPython.core.display.Markdown object>"
      ]
     },
     "metadata": {},
     "output_type": "display_data"
    },
    {
     "data": {
      "text/markdown": [
       "Mean: 14.357939902048074"
      ],
      "text/plain": [
       "<IPython.core.display.Markdown object>"
      ]
     },
     "metadata": {},
     "output_type": "display_data"
    },
    {
     "data": {
      "text/markdown": [
       "Median: 14.323285610653329"
      ],
      "text/plain": [
       "<IPython.core.display.Markdown object>"
      ]
     },
     "metadata": {},
     "output_type": "display_data"
    },
    {
     "data": {
      "text/markdown": [
       "Modus: 18.436524495493305"
      ],
      "text/plain": [
       "<IPython.core.display.Markdown object>"
      ]
     },
     "metadata": {},
     "output_type": "display_data"
    },
    {
     "data": {
      "text/markdown": [
       "Standar Deviasi: 3.3257700016987197"
      ],
      "text/plain": [
       "<IPython.core.display.Markdown object>"
      ]
     },
     "metadata": {},
     "output_type": "display_data"
    },
    {
     "data": {
      "text/markdown": [
       "Variansi: 11.0607461041991"
      ],
      "text/plain": [
       "<IPython.core.display.Markdown object>"
      ]
     },
     "metadata": {},
     "output_type": "display_data"
    },
    {
     "data": {
      "text/markdown": [
       "Range: 24.80670661116602"
      ],
      "text/plain": [
       "<IPython.core.display.Markdown object>"
      ]
     },
     "metadata": {},
     "output_type": "display_data"
    },
    {
     "data": {
      "text/markdown": [
       "Nilai Minimum: 2.1999999999999886"
      ],
      "text/plain": [
       "<IPython.core.display.Markdown object>"
      ]
     },
     "metadata": {},
     "output_type": "display_data"
    },
    {
     "data": {
      "text/markdown": [
       "Nilai Maksimum: 27.00670661116601"
      ],
      "text/plain": [
       "<IPython.core.display.Markdown object>"
      ]
     },
     "metadata": {},
     "output_type": "display_data"
    },
    {
     "data": {
      "text/markdown": [
       "Skewness: -0.02021975629181238"
      ],
      "text/plain": [
       "<IPython.core.display.Markdown object>"
      ]
     },
     "metadata": {},
     "output_type": "display_data"
    },
    {
     "data": {
      "text/markdown": [
       "Kurtosis: 0.031018388192253\n"
      ],
      "text/plain": [
       "<IPython.core.display.Markdown object>"
      ]
     },
     "metadata": {},
     "output_type": "display_data"
    },
    {
     "data": {
      "text/markdown": [
       "<br>-- Kuartil --"
      ],
      "text/plain": [
       "<IPython.core.display.Markdown object>"
      ]
     },
     "metadata": {},
     "output_type": "display_data"
    },
    {
     "data": {
      "text/markdown": [
       "Kuartil 1: 12.122530374047727<br>Kuartil 2: 14.323285610653329<br>Kuartil 3: 16.683561746173808"
      ],
      "text/plain": [
       "<IPython.core.display.Markdown object>"
      ]
     },
     "metadata": {},
     "output_type": "display_data"
    },
    {
     "data": {
      "text/markdown": [
       "IQR: 4.561031372126081"
      ],
      "text/plain": [
       "<IPython.core.display.Markdown object>"
      ]
     },
     "metadata": {},
     "output_type": "display_data"
    }
   ],
   "source": [
    "dataDescription(\"OrganicCarbon\")"
   ]
  },
  {
   "cell_type": "code",
   "execution_count": 10,
   "metadata": {},
   "outputs": [
    {
     "data": {
      "text/markdown": [
       "-- Deskripsi Data Trihalomethanes --"
      ],
      "text/plain": [
       "<IPython.core.display.Markdown object>"
      ]
     },
     "metadata": {},
     "output_type": "display_data"
    },
    {
     "data": {
      "text/markdown": [
       "Mean: 66.40071666307466"
      ],
      "text/plain": [
       "<IPython.core.display.Markdown object>"
      ]
     },
     "metadata": {},
     "output_type": "display_data"
    },
    {
     "data": {
      "text/markdown": [
       "Median: 66.48204080309809"
      ],
      "text/plain": [
       "<IPython.core.display.Markdown object>"
      ]
     },
     "metadata": {},
     "output_type": "display_data"
    },
    {
     "data": {
      "text/markdown": [
       "Modus: 100.34167436508008"
      ],
      "text/plain": [
       "<IPython.core.display.Markdown object>"
      ]
     },
     "metadata": {},
     "output_type": "display_data"
    },
    {
     "data": {
      "text/markdown": [
       "Standar Deviasi: 16.08110898232513"
      ],
      "text/plain": [
       "<IPython.core.display.Markdown object>"
      ]
     },
     "metadata": {},
     "output_type": "display_data"
    },
    {
     "data": {
      "text/markdown": [
       "Variansi: 258.60206610141796"
      ],
      "text/plain": [
       "<IPython.core.display.Markdown object>"
      ]
     },
     "metadata": {},
     "output_type": "display_data"
    },
    {
     "data": {
      "text/markdown": [
       "Range: 115.4229870670162"
      ],
      "text/plain": [
       "<IPython.core.display.Markdown object>"
      ]
     },
     "metadata": {},
     "output_type": "display_data"
    },
    {
     "data": {
      "text/markdown": [
       "Nilai Minimum: 8.577012932983806"
      ],
      "text/plain": [
       "<IPython.core.display.Markdown object>"
      ]
     },
     "metadata": {},
     "output_type": "display_data"
    },
    {
     "data": {
      "text/markdown": [
       "Nilai Maksimum: 124.0"
      ],
      "text/plain": [
       "<IPython.core.display.Markdown object>"
      ]
     },
     "metadata": {},
     "output_type": "display_data"
    },
    {
     "data": {
      "text/markdown": [
       "Skewness: -0.05138268451619478"
      ],
      "text/plain": [
       "<IPython.core.display.Markdown object>"
      ]
     },
     "metadata": {},
     "output_type": "display_data"
    },
    {
     "data": {
      "text/markdown": [
       "Kurtosis: 0.2230167810639787\n"
      ],
      "text/plain": [
       "<IPython.core.display.Markdown object>"
      ]
     },
     "metadata": {},
     "output_type": "display_data"
    },
    {
     "data": {
      "text/markdown": [
       "<br>-- Kuartil --"
      ],
      "text/plain": [
       "<IPython.core.display.Markdown object>"
      ]
     },
     "metadata": {},
     "output_type": "display_data"
    },
    {
     "data": {
      "text/markdown": [
       "Kuartil 1: 55.94999302803186<br>Kuartil 2: 66.48204080309809<br>Kuartil 3: 77.2946128060674"
      ],
      "text/plain": [
       "<IPython.core.display.Markdown object>"
      ]
     },
     "metadata": {},
     "output_type": "display_data"
    },
    {
     "data": {
      "text/markdown": [
       "IQR: 21.344619778035543"
      ],
      "text/plain": [
       "<IPython.core.display.Markdown object>"
      ]
     },
     "metadata": {},
     "output_type": "display_data"
    }
   ],
   "source": [
    "dataDescription(\"Trihalomethanes\")"
   ]
  },
  {
   "cell_type": "code",
   "execution_count": 11,
   "metadata": {},
   "outputs": [
    {
     "data": {
      "text/markdown": [
       "-- Deskripsi Data Turbidity --"
      ],
      "text/plain": [
       "<IPython.core.display.Markdown object>"
      ]
     },
     "metadata": {},
     "output_type": "display_data"
    },
    {
     "data": {
      "text/markdown": [
       "Mean: 3.9694969126303676"
      ],
      "text/plain": [
       "<IPython.core.display.Markdown object>"
      ]
     },
     "metadata": {},
     "output_type": "display_data"
    },
    {
     "data": {
      "text/markdown": [
       "Median: 3.967373963531836"
      ],
      "text/plain": [
       "<IPython.core.display.Markdown object>"
      ]
     },
     "metadata": {},
     "output_type": "display_data"
    },
    {
     "data": {
      "text/markdown": [
       "Modus: 4.628770536837084"
      ],
      "text/plain": [
       "<IPython.core.display.Markdown object>"
      ]
     },
     "metadata": {},
     "output_type": "display_data"
    },
    {
     "data": {
      "text/markdown": [
       "Standar Deviasi: 0.7804710407083957"
      ],
      "text/plain": [
       "<IPython.core.display.Markdown object>"
      ]
     },
     "metadata": {},
     "output_type": "display_data"
    },
    {
     "data": {
      "text/markdown": [
       "Variansi: 0.6091350453844462"
      ],
      "text/plain": [
       "<IPython.core.display.Markdown object>"
      ]
     },
     "metadata": {},
     "output_type": "display_data"
    },
    {
     "data": {
      "text/markdown": [
       "Range: 5.044748555990993"
      ],
      "text/plain": [
       "<IPython.core.display.Markdown object>"
      ]
     },
     "metadata": {},
     "output_type": "display_data"
    },
    {
     "data": {
      "text/markdown": [
       "Nilai Minimum: 1.45"
      ],
      "text/plain": [
       "<IPython.core.display.Markdown object>"
      ]
     },
     "metadata": {},
     "output_type": "display_data"
    },
    {
     "data": {
      "text/markdown": [
       "Nilai Maksimum: 6.494748555990993"
      ],
      "text/plain": [
       "<IPython.core.display.Markdown object>"
      ]
     },
     "metadata": {},
     "output_type": "display_data"
    },
    {
     "data": {
      "text/markdown": [
       "Skewness: -0.03226597968019271"
      ],
      "text/plain": [
       "<IPython.core.display.Markdown object>"
      ]
     },
     "metadata": {},
     "output_type": "display_data"
    },
    {
     "data": {
      "text/markdown": [
       "Kurtosis: -0.049830796949249745\n"
      ],
      "text/plain": [
       "<IPython.core.display.Markdown object>"
      ]
     },
     "metadata": {},
     "output_type": "display_data"
    },
    {
     "data": {
      "text/markdown": [
       "<br>-- Kuartil --"
      ],
      "text/plain": [
       "<IPython.core.display.Markdown object>"
      ]
     },
     "metadata": {},
     "output_type": "display_data"
    },
    {
     "data": {
      "text/markdown": [
       "Kuartil 1: 3.442881623557439<br>Kuartil 2: 3.967373963531836<br>Kuartil 3: 4.5146627202018825"
      ],
      "text/plain": [
       "<IPython.core.display.Markdown object>"
      ]
     },
     "metadata": {},
     "output_type": "display_data"
    },
    {
     "data": {
      "text/markdown": [
       "IQR: 1.0717810966444437"
      ],
      "text/plain": [
       "<IPython.core.display.Markdown object>"
      ]
     },
     "metadata": {},
     "output_type": "display_data"
    }
   ],
   "source": [
    "dataDescription(\"Turbidity\")"
   ]
  },
  {
   "cell_type": "markdown",
   "metadata": {},
   "source": [
    "### Soal 2"
   ]
  },
  {
   "cell_type": "code",
   "execution_count": 12,
   "metadata": {},
   "outputs": [],
   "source": [
    "def plotHistogramAndBoxplot(name):\n",
    "    fig = plt.figure(figsize=(10, 5))\n",
    "\n",
    "    histogram = plt.subplot(1, 2, 1)\n",
    "    plt.hist(df[name], rwidth=0.9)\n",
    "    histogram.set_title(name)\n",
    "    histogram.set_xlabel(name)\n",
    "    histogram.set_ylabel(\"Frequency\")\n",
    "\n",
    "    boxplot = plt.subplot(1, 2, 2)\n",
    "    plt.boxplot(df[name])\n",
    "    boxplot.set_title(name)\n",
    "\n",
    "    fig"
   ]
  },
  {
   "cell_type": "code",
   "execution_count": 13,
   "metadata": {},
   "outputs": [
    {
     "data": {
      "image/png": "[encoded data removed]",
      "text/plain": [
       "<Figure size 720x360 with 2 Axes>"
      ]
     },
     "metadata": {
      "needs_background": "light"
     },
     "output_type": "display_data"
    }
   ],
   "source": [
    "plotHistogramAndBoxplot(\"pH\")"
   ]
  },
  {
   "cell_type": "markdown",
   "metadata": {},
   "source": [
    "Berdasarkan plot histogram, histogram dari data pH berbentuk simetris.\n",
    "\n",
    "Berdasarkan plot box plot, data dari median berada di tengah dengan whisker bagian atas dan bawah sama panjang. Terlihat juga bahwa terdapat pencilan yang banyak."
   ]
  },
  {
   "cell_type": "code",
   "execution_count": 14,
   "metadata": {},
   "outputs": [
    {
     "data": {
      "image/png": "[encoded data removed]",
      "text/plain": [
       "<Figure size 720x360 with 2 Axes>"
      ]
     },
     "metadata": {
      "needs_background": "light"
     },
     "output_type": "display_data"
    }
   ],
   "source": [
    "plotHistogramAndBoxplot(\"Hardness\")"
   ]
  },
  {
   "cell_type": "markdown",
   "metadata": {},
   "source": [
    "Berdasarkan plot histogram, histogram dari data Hardness berbentuk simetris, tetapi memiliki sedikit kecenderungan ke arah kiri (*left skewed*).\n",
    "\n",
    "Berdasarkan plot box plot, data dari median berada di tengah dengan whisker bagian atas dan bawah sama panjang. Terlihat juga bahwa terdapat pencilan yang banyak."
   ]
  },
  {
   "cell_type": "code",
   "execution_count": 15,
   "metadata": {},
   "outputs": [
    {
     "data": {
      "image/png": "[encoded data removed]",
      "text/plain": [
       "<Figure size 720x360 with 2 Axes>"
      ]
     },
     "metadata": {
      "needs_background": "light"
     },
     "output_type": "display_data"
    }
   ],
   "source": [
    "plotHistogramAndBoxplot(\"Solids\")"
   ]
  },
  {
   "cell_type": "markdown",
   "metadata": {},
   "source": [
    "Berdasarkan plot histogram, histogram dari data Solids memiliki kecenderungan ke arah kanan (*right skewed*).\n",
    "\n",
    "Berdasarkan plot box plot, terlihat terdapat pencilan yang banyak pada batas atas yang berarti banyak data yang memiliki nilai lebih besar dari batas atas nilai maksimum."
   ]
  },
  {
   "cell_type": "code",
   "execution_count": 16,
   "metadata": {},
   "outputs": [
    {
     "data": {
      "image/png": "[encoded data removed]",
      "text/plain": [
       "<Figure size 720x360 with 2 Axes>"
      ]
     },
     "metadata": {
      "needs_background": "light"
     },
     "output_type": "display_data"
    }
   ],
   "source": [
    "plotHistogramAndBoxplot(\"Chloramines\")"
   ]
  },
  {
   "cell_type": "markdown",
   "metadata": {},
   "source": [
    "Berdasarkan plot histogram, histogram dari data Chloromines berbentuk simetris.\n",
    "\n",
    "Berdasarkan plot box plot, data dari median berada di tengah dengan whisker bagian atas dan bawah sama panjang. Terlihat juga bahwa terdapat pencilan yang banyak."
   ]
  },
  {
   "cell_type": "code",
   "execution_count": 17,
   "metadata": {},
   "outputs": [
    {
     "data": {
      "image/png": "[encoded data removed]",
      "text/plain": [
       "<Figure size 720x360 with 2 Axes>"
      ]
     },
     "metadata": {
      "needs_background": "light"
     },
     "output_type": "display_data"
    }
   ],
   "source": [
    "plotHistogramAndBoxplot(\"Sulfate\")"
   ]
  },
  {
   "cell_type": "markdown",
   "metadata": {},
   "source": [
    "Berdasarkan plot histogram, histogram dari data Sulfate memiliki kecenderungan ke arah kiri (*right skewed*).\n",
    "\n",
    "Berdasarkan plot box plot, terlihat terdapat pencilan yang banyak pada batas bawah yang berarti banyak data yang memiliki nilai lebih kecil dari batas bawah nilai minimum."
   ]
  },
  {
   "cell_type": "code",
   "execution_count": 18,
   "metadata": {},
   "outputs": [
    {
     "data": {
      "image/png": "[encoded data removed]",
      "text/plain": [
       "<Figure size 720x360 with 2 Axes>"
      ]
     },
     "metadata": {
      "needs_background": "light"
     },
     "output_type": "display_data"
    }
   ],
   "source": [
    "plotHistogramAndBoxplot(\"Conductivity\")"
   ]
  },
  {
   "cell_type": "markdown",
   "metadata": {},
   "source": [
    "Berdasarkan plot histogram, histogram dari data Conductivity memiliki kecenderungan ke arah kanan (*right skewed*).\n",
    "\n",
    "Berdasarkan plot box plot, terlihat terdapat pencilan yang banyak pada batas atas yang berarti banyak data yang memiliki nilai lebih besar dari batas atas nilai maksimum."
   ]
  },
  {
   "cell_type": "code",
   "execution_count": 19,
   "metadata": {},
   "outputs": [
    {
     "data": {
      "image/png": "[encoded data removed]",
      "text/plain": [
       "<Figure size 720x360 with 2 Axes>"
      ]
     },
     "metadata": {
      "needs_background": "light"
     },
     "output_type": "display_data"
    }
   ],
   "source": [
    "plotHistogramAndBoxplot(\"OrganicCarbon\")"
   ]
  },
  {
   "cell_type": "markdown",
   "metadata": {},
   "source": [
    "Berdasarkan plot histogram, histogram dari data OrganicCarbon berbentuk simetris.\n",
    "\n",
    "Berdasarkan plot box plot, data dari median berada di tengah dengan whisker bagian atas dan bawah sama panjang. Terlihat juga bahwa terdapat pencilan yang banyak. Distribusi pencilan atas dan bawah juga terlihat simetris."
   ]
  },
  {
   "cell_type": "code",
   "execution_count": 20,
   "metadata": {},
   "outputs": [
    {
     "data": {
      "image/png": "[encoded data removed]",
      "text/plain": [
       "<Figure size 720x360 with 2 Axes>"
      ]
     },
     "metadata": {
      "needs_background": "light"
     },
     "output_type": "display_data"
    }
   ],
   "source": [
    "plotHistogramAndBoxplot(\"Trihalomethanes\")"
   ]
  },
  {
   "cell_type": "markdown",
   "metadata": {},
   "source": [
    "Berdasarkan plot histogram, histogram dari data Trihalomethanes berbentuk simetris.\n",
    "\n",
    "Berdasarkan plot box plot, data dari median berada di tengah dengan whisker bagian atas dan bawah sama panjang. Terlihat juga bahwa terdapat pencilan yang banyak. Distribusi pencilan atas dan bawah juga terlihat simetris."
   ]
  },
  {
   "cell_type": "code",
   "execution_count": 21,
   "metadata": {},
   "outputs": [
    {
     "data": {
      "image/png": "[encoded data removed]",
      "text/plain": [
       "<Figure size 720x360 with 2 Axes>"
      ]
     },
     "metadata": {
      "needs_background": "light"
     },
     "output_type": "display_data"
    }
   ],
   "source": [
    "plotHistogramAndBoxplot(\"Turbidity\")"
   ]
  },
  {
   "cell_type": "markdown",
   "metadata": {},
   "source": [
    "Berdasarkan plot histogram, histogram dari data Turbidity berbentuk simetris.\n",
    "\n",
    "Berdasarkan plot box plot, data dari median berada di tengah dengan whisker bagian atas dan bawah sama panjang. Terlihat juga bahwa terdapat pencilan yang banyak. Distribusi pencilan atas dan bawah juga terlihat simetris."
   ]
  },
  {
   "cell_type": "markdown",
   "metadata": {},
   "source": [
    "### Soal 3"
   ]
  },
  {
   "cell_type": "markdown",
   "id": "1524ae7c",
   "metadata": {},
   "source": [
    "Data pH terlihat dari plot histogram yang berbentuk simetris dapat dikatakan memiliki distribusi normal. Akan tetapi, jika dilihat dari plot box plot, pencilan terlihat tidak simetris. Sehingga, data pH bukan termasuk distribusi normal."
   ]
  },
  {
   "cell_type": "markdown",
   "id": "bbc08ef5",
   "metadata": {},
   "source": [
    "Data Hardness terlihat dari plot histogram yang berbentuk simetris dapat dikatakan memiliki distribusi normal, walaupun memiliki sedikit kecenderungan ke arah kiri. Akan tetapi, jika dilihat dari plot box plot, pencilan terlihat tidak simetris. Sehingga, data Hardness bukan termasuk distribusi normal."
   ]
  },
  {
   "cell_type": "markdown",
   "id": "ac3bcfab",
   "metadata": {},
   "source": [
    "Data Solids terlihat dari plot histogram yang memiliki kecenderungan ke arah kanan. Sehingga, data Solids bukan termasuk distribusi normal."
   ]
  },
  {
   "cell_type": "markdown",
   "id": "7b40f68a",
   "metadata": {},
   "source": [
    "Data Chloromines terlihat dari plot histogram yang berbentuk simetris dapat dikatakan memiliki distribusi normal. Akan tetapi, jika dilihat dari plot box plot, pencilan terlihat tidak simetris. Sehingga, data Chloromines bukan termasuk distribusi normal."
   ]
  },
  {
   "cell_type": "markdown",
   "id": "0934c155",
   "metadata": {},
   "source": [
    "Data Sulfate terlihat dari plot histogram yang memiliki kecenderungan ke arah kiri. Sehingga, data Sulfate bukan termasuk distribusi normal."
   ]
  },
  {
   "cell_type": "markdown",
   "id": "b51f2610",
   "metadata": {},
   "source": [
    "Data Conductivity terlihat dari plot histogram yang memiliki kecenderungan ke arah kanan. Sehingga, data Conductivity bukan termasuk distribusi normal."
   ]
  },
  {
   "cell_type": "markdown",
   "id": "b4864eef",
   "metadata": {},
   "source": [
    "Data OrganicCarbon terlihat dari plot histogram yang berbentuk simetris dapat dikatakan memiliki distribusi normal. Jika dilihat dari plot box plot, pencilan terlihat terdistribusi secara simetris. Sehingga, data OrganicCarbon termasuk distribusi normal."
   ]
  },
  {
   "cell_type": "markdown",
   "id": "f6f57cfd",
   "metadata": {},
   "source": [
    "Data Trihalomethanes terlihat dari plot histogram yang berbentuk simetris dapat dikatakan memiliki distribusi normal. Jika dilihat dari plot box plot, pencilan terlihat terdistribusi secara simetris. Sehingga, data Trihalomethanes termasuk distribusi normal."
   ]
  },
  {
   "cell_type": "markdown",
   "id": "831bace3",
   "metadata": {},
   "source": [
    "Data Turbidity terlihat dari plot histogram yang berbentuk simetris dapat dikatakan memiliki distribusi normal. Jika dilihat dari plot box plot, pencilan terlihat terdistribusi secara simetris. Sehingga, data Turbidity termasuk distribusi normal."
   ]
  },
  {
   "cell_type": "markdown",
   "metadata": {},
   "source": [
    "### Soal 4"
   ]
  },
  {
   "cell_type": "markdown",
   "metadata": {},
   "source": [
    "## Melakukan test hipotesis 1 sampel, dengan menuliskan 6 langkah testing dan menampilkan juga boxplotnya untuk kolom/bagian yang bersesuaian."
   ]
  },
  {
   "cell_type": "markdown",
   "metadata": {},
   "source": [
    "### a. Nilai Rata-rata pH di atas 7?"
   ]
  },
  {
   "cell_type": "markdown",
   "metadata": {},
   "source": [
    "###### Tentukan Hipotesis nol ($H_0: θ = θ_0$), dimana θ bisa berupa $\\mu$, $σ^2$, $p$, atau data lain berdistribusi tertentu (normal, binomial, dsc.).\n",
    "\n",
    "$H_0:\\mu=7$"
   ]
  },
  {
   "cell_type": "markdown",
   "metadata": {},
   "source": [
    "###### Pilih hipotesis alternatif $H_1$ salah dari dari $θ > θ_0$ , $θ < θ_0$ , atau $θ ≠ θ_0$.\n",
    "\n",
    "$H_1:\\mu>7$"
   ]
  },
  {
   "cell_type": "markdown",
   "metadata": {},
   "source": [
    "###### Tentukan tingkat signifikan α.\n",
    "\n",
    "$α = 0.05$"
   ]
  },
  {
   "cell_type": "markdown",
   "metadata": {},
   "source": [
    "###### Tentukan uji statistik yang sesuai dan tentukan daerah kritis.\n",
    "\n",
    "Daerah kritis:"
   ]
  },
  {
   "cell_type": "code",
   "execution_count": 22,
   "metadata": {},
   "outputs": [
    {
     "data": {
      "text/markdown": [
       "$t_α> 1.645 $"
      ],
      "text/plain": [
       "<IPython.core.display.Markdown object>"
      ]
     },
     "metadata": {},
     "output_type": "display_data"
    }
   ],
   "source": [
    "display(Markdown(f'$t_α> {round(st.norm.ppf(1-0.05), 3)} $'))"
   ]
  },
  {
   "cell_type": "markdown",
   "metadata": {},
   "source": [
    "Tes statistik:"
   ]
  },
  {
   "cell_type": "markdown",
   "metadata": {},
   "source": [
    "\\begin{equation}\n",
    "t=\\frac{\\bar{x}-\\mu_0}{s/\\sqrt{n}}\n",
    "\\end{equation}"
   ]
  },
  {
   "cell_type": "code",
   "execution_count": 23,
   "metadata": {},
   "outputs": [
    {
     "data": {
      "text/plain": [
       "Text(0.5, 1.0, 'pH')"
      ]
     },
     "execution_count": 23,
     "metadata": {},
     "output_type": "execute_result"
    },
    {
     "data": {
      "image/png": "[encoded data removed]",
      "text/plain": [
       "<Figure size 432x288 with 1 Axes>"
      ]
     },
     "metadata": {
      "needs_background": "light"
     },
     "output_type": "display_data"
    }
   ],
   "source": [
    "boxplot = plt.subplot(1,1,1)\n",
    "\n",
    "plt.boxplot(df['pH'])\n",
    "boxplot.set_title('pH')"
   ]
  },
  {
   "cell_type": "markdown",
   "metadata": {},
   "source": [
    "###### Hitung nilai uji statistik dari data sample. Hitung p-value sesuai dengan uji statistik yang digunakan."
   ]
  },
  {
   "cell_type": "code",
   "execution_count": 24,
   "metadata": {},
   "outputs": [
    {
     "data": {
      "text/markdown": [
       "$t=2.485$"
      ],
      "text/plain": [
       "<IPython.core.display.Markdown object>"
      ]
     },
     "metadata": {},
     "output_type": "display_data"
    },
    {
     "data": {
      "text/markdown": [
       "$p=0.006$"
      ],
      "text/plain": [
       "<IPython.core.display.Markdown object>"
      ]
     },
     "metadata": {},
     "output_type": "display_data"
    }
   ],
   "source": [
    "t, p = st.ttest_1samp(df['pH'], popmean=7)\n",
    "p = st.norm.sf(t)\n",
    "\n",
    "display(Markdown(f'$t={round(t,3)}$'))\n",
    "display(Markdown(f'$p={round(p,3)}$'))"
   ]
  },
  {
   "cell_type": "markdown",
   "metadata": {},
   "source": [
    "###### Ambil keputusan dengan TOLAK H0 jika nilai uji terletak di daerah kritis atau dengan tes signifikan, TOLAK H0 jika p-value lebih kecil dibanding tingkat signifikansi α yang diinginkan."
   ]
  },
  {
   "cell_type": "code",
   "execution_count": 25,
   "metadata": {
    "scrolled": true
   },
   "outputs": [
    {
     "data": {
      "text/markdown": [
       "**Keputusan:**\n",
       "\n",
       "Tolak $H_0$ karena $t=2.485>1.645$"
      ],
      "text/plain": [
       "<IPython.core.display.Markdown object>"
      ]
     },
     "metadata": {},
     "output_type": "display_data"
    },
    {
     "data": {
      "text/markdown": [
       "**Tes signifikan:**\n",
       "\n",
       "Tolak $H_0$ karena $p=0.006<α=0.05$"
      ],
      "text/plain": [
       "<IPython.core.display.Markdown object>"
      ]
     },
     "metadata": {},
     "output_type": "display_data"
    },
    {
     "data": {
      "text/markdown": [
       "**Jadi, pH rata-rata diatas 7**"
      ],
      "text/plain": [
       "<IPython.core.display.Markdown object>"
      ]
     },
     "metadata": {},
     "output_type": "display_data"
    }
   ],
   "source": [
    "if (p < 0.05):\n",
    "    display(Markdown(f\"**Keputusan:**\\n\\nTolak $H_0$ karena $t={round(t,3)}>{round(st.norm.ppf(1-0.05), 3)}$\"))\n",
    "    display(Markdown(f\"**Tes signifikan:**\\n\\nTolak $H_0$ karena $p={round(p,3)}<α=0.05$\"))\n",
    "    display(Markdown(\"**Jadi, pH rata-rata diatas 7**\"))\n",
    "else:\n",
    "    display(Markdown(f\"**Keputusan:**\\n\\nTidak menolak $H_0$ karena $t={round(t,3)}≤{round(st.norm.ppf(1-0.05), 3)}$\"))\n",
    "    display(Markdown(f\"**Tes signifikan:**\\n\\nTidak menolak $H_0$ karena $p={round(p,3)}≥α=0.05$\"))\n",
    "    display(Markdown(\"**Jadi, pH rata-rata sama dengan 7**\"))"
   ]
  },
  {
   "cell_type": "markdown",
   "metadata": {},
   "source": [
    "### b. Nilai Rata-rata Hardness tidak sama dengan 205?"
   ]
  },
  {
   "cell_type": "markdown",
   "metadata": {},
   "source": [
    "###### Tentukan Hipotesis nol ($H_0: θ = θ_0$), dimana θ bisa berupa $\\mu$, $σ^2$, $p$, atau data lain berdistribusi tertentu (normal, binomial, dsc.).\n",
    "\n",
    "$H_0:\\mu=205$"
   ]
  },
  {
   "cell_type": "markdown",
   "metadata": {},
   "source": [
    "###### Pilih hipotesis alternatif $H_1$ salah dari dari $θ > θ_0$ , $θ < θ_0$ , atau $θ ≠ θ_0$.\n",
    "\n",
    "$H_1:\\mu≠205$"
   ]
  },
  {
   "cell_type": "markdown",
   "metadata": {},
   "source": [
    "###### Tentukan tingkat signifikan α.\n",
    "\n",
    "$α = 0.05$"
   ]
  },
  {
   "cell_type": "markdown",
   "metadata": {},
   "source": [
    "###### Tentukan uji statistik yang sesuai dan tentukan daerah kritis.\n",
    "\n",
    "Daerah kritis:"
   ]
  },
  {
   "cell_type": "code",
   "execution_count": 26,
   "metadata": {},
   "outputs": [
    {
     "data": {
      "text/markdown": [
       "t<sub>α/2</sub> < -1.96 dan t<sub>α/2</sub> > 1.96 "
      ],
      "text/plain": [
       "<IPython.core.display.Markdown object>"
      ]
     },
     "metadata": {},
     "output_type": "display_data"
    }
   ],
   "source": [
    "crit = round(st.norm.ppf(1-0.05/2), 3)\n",
    "display(Markdown(\"t<sub>α/2</sub> < -%s dan t<sub>α/2</sub> > %s \" % (crit, crit)))"
   ]
  },
  {
   "cell_type": "markdown",
   "metadata": {},
   "source": [
    "Tes statistik:"
   ]
  },
  {
   "cell_type": "markdown",
   "metadata": {},
   "source": [
    "\\begin{equation}\n",
    "t=\\frac{\\bar{x}-\\mu_0}{s/\\sqrt{n}}\n",
    "\\end{equation}"
   ]
  },
  {
   "cell_type": "code",
   "execution_count": 27,
   "metadata": {},
   "outputs": [
    {
     "data": {
      "text/plain": [
       "Text(0.5, 1.0, 'Hardness')"
      ]
     },
     "execution_count": 27,
     "metadata": {},
     "output_type": "execute_result"
    },
    {
     "data": {
      "image/png": "[encoded data removed]",
      "text/plain": [
       "<Figure size 432x288 with 1 Axes>"
      ]
     },
     "metadata": {
      "needs_background": "light"
     },
     "output_type": "display_data"
    }
   ],
   "source": [
    "boxplot = plt.subplot(1,1,1)\n",
    "\n",
    "plt.boxplot(df['Hardness'])\n",
    "boxplot.set_title('Hardness')"
   ]
  },
  {
   "cell_type": "markdown",
   "metadata": {},
   "source": [
    "###### Hitung nilai uji statistik dari data sample. Hitung p-value sesuai dengan uji statistik yang digunakan."
   ]
  },
  {
   "cell_type": "code",
   "execution_count": 28,
   "metadata": {},
   "outputs": [
    {
     "data": {
      "text/markdown": [
       "$t=-12.403$"
      ],
      "text/plain": [
       "<IPython.core.display.Markdown object>"
      ]
     },
     "metadata": {},
     "output_type": "display_data"
    },
    {
     "data": {
      "text/markdown": [
       "$p=0.0$"
      ],
      "text/plain": [
       "<IPython.core.display.Markdown object>"
      ]
     },
     "metadata": {},
     "output_type": "display_data"
    }
   ],
   "source": [
    "t, p = st.ttest_1samp(df['Hardness'], popmean=205)\n",
    "\n",
    "display(Markdown(f'$t={round(t,3)}$'))\n",
    "display(Markdown(f'$p={round(p,3)}$'))"
   ]
  },
  {
   "cell_type": "markdown",
   "metadata": {},
   "source": [
    "###### Ambil keputusan dengan TOLAK H0 jika nilai uji terletak di daerah kritis atau dengan tes signifikan, TOLAK H0 jika p-value lebih kecil dibanding tingkat signifikansi α yang diinginkan."
   ]
  },
  {
   "cell_type": "code",
   "execution_count": 29,
   "metadata": {
    "scrolled": true
   },
   "outputs": [
    {
     "data": {
      "text/markdown": [
       "**Keputusan:**\n",
       "\n",
       "Tolak $H_0$ karena $t=-12.403<-1.96$"
      ],
      "text/plain": [
       "<IPython.core.display.Markdown object>"
      ]
     },
     "metadata": {},
     "output_type": "display_data"
    },
    {
     "data": {
      "text/markdown": [
       "**Tes signifikan:**\n",
       "\n",
       "Tolak $H_0$ karena $p=0.0<α=0.05$"
      ],
      "text/plain": [
       "<IPython.core.display.Markdown object>"
      ]
     },
     "metadata": {},
     "output_type": "display_data"
    },
    {
     "data": {
      "text/markdown": [
       "**Jadi, Hardness rata-rata tidak sama dengan 205**"
      ],
      "text/plain": [
       "<IPython.core.display.Markdown object>"
      ]
     },
     "metadata": {},
     "output_type": "display_data"
    }
   ],
   "source": [
    "if (p < 0.05):\n",
    "    if (t < -1 * st.norm.ppf(1-0.05/2)):\n",
    "        display(Markdown(f\"**Keputusan:**\\n\\nTolak $H_0$ karena $t={round(t,3)}<-{round(st.norm.ppf(1-0.05/2), 3)}$\"))\n",
    "    else:\n",
    "        display(Markdown(f\"**Keputusan:**\\n\\nTolak $H_0$ karena $t={round(t,3)}>{round(st.norm.ppf(1-0.05/2), 3)}$\"))\n",
    "    display(Markdown(f\"**Tes signifikan:**\\n\\nTolak $H_0$ karena $p={round(p,3)}<α=0.05$\"))\n",
    "    display(Markdown(\"**Jadi, Hardness rata-rata tidak sama dengan 205**\"))\n",
    "else:\n",
    "    display(Markdown(f\"**Keputusan:**\\n\\nTidak menolak $H_0$ karena $t={round(t,3)}$ berada pada $-{round(st.norm.ppf(1-0.05/2), 3)}≤t≤{round(st.norm.ppf(1-0.05/2), 3)}$\"))\n",
    "    display(Markdown(f\"**Tes signifikan:**\\n\\nTidak menolak $H_0$ karena $p={round(p,3)}≥α=0.05$\"))\n",
    "    display(Markdown(\"**Jadi, Hardness rata-rata sama dengan 205**\"))"
   ]
  },
  {
   "cell_type": "markdown",
   "metadata": {},
   "source": [
    "### c. Nilai Rata-rata 100 baris pertama kolom Solids bukan 21900?"
   ]
  },
  {
   "cell_type": "markdown",
   "metadata": {},
   "source": [
    "###### Tentukan Hipotesis nol ($H_0: θ = θ_0$), dimana θ bisa berupa $\\mu$, $σ^2$, $p$, atau data lain berdistribusi tertentu (normal, binomial, dsc.).\n",
    "\n",
    "$H_0:\\mu=21900$"
   ]
  },
  {
   "cell_type": "markdown",
   "metadata": {},
   "source": [
    "###### Pilih hipotesis alternatif $H_1$ salah dari dari $θ > θ_0$ , $θ < θ_0$ , atau $θ ≠ θ_0$.\n",
    "\n",
    "$H_1:\\mu≠21900$"
   ]
  },
  {
   "cell_type": "markdown",
   "metadata": {},
   "source": [
    "###### Tentukan tingkat signifikan α.\n",
    "\n",
    "$α = 0.05$"
   ]
  },
  {
   "cell_type": "markdown",
   "metadata": {},
   "source": [
    "###### Tentukan uji statistik yang sesuai dan tentukan daerah kritis.\n",
    "\n",
    "Daerah kritis:"
   ]
  },
  {
   "cell_type": "code",
   "execution_count": 30,
   "metadata": {},
   "outputs": [
    {
     "data": {
      "text/markdown": [
       "t<sub>α/2</sub> < -1.96 dan t<sub>α/2</sub> > 1.96 "
      ],
      "text/plain": [
       "<IPython.core.display.Markdown object>"
      ]
     },
     "metadata": {},
     "output_type": "display_data"
    }
   ],
   "source": [
    "crit = round(st.norm.ppf(1-0.05/2), 3)\n",
    "display(Markdown(\"t<sub>α/2</sub> < -%s dan t<sub>α/2</sub> > %s \" % (crit, crit)))"
   ]
  },
  {
   "cell_type": "markdown",
   "metadata": {},
   "source": [
    "Tes statistik:"
   ]
  },
  {
   "cell_type": "markdown",
   "metadata": {},
   "source": [
    "\\begin{equation}\n",
    "t=\\frac{\\bar{x}-\\mu_0}{s/\\sqrt{n}}\n",
    "\\end{equation}"
   ]
  },
  {
   "cell_type": "code",
   "execution_count": 31,
   "metadata": {},
   "outputs": [
    {
     "data": {
      "text/plain": [
       "Text(0.5, 1.0, 'Solids')"
      ]
     },
     "execution_count": 31,
     "metadata": {},
     "output_type": "execute_result"
    },
    {
     "data": {
      "image/png": "[encoded data removed]",
      "text/plain": [
       "<Figure size 432x288 with 1 Axes>"
      ]
     },
     "metadata": {
      "needs_background": "light"
     },
     "output_type": "display_data"
    }
   ],
   "source": [
    "boxplot = plt.subplot(1,1,1)\n",
    "\n",
    "plt.boxplot(df.iloc[:100]['Solids'])\n",
    "boxplot.set_title('Solids')"
   ]
  },
  {
   "cell_type": "markdown",
   "metadata": {},
   "source": [
    "###### Hitung nilai uji statistik dari data sample. Hitung p-value sesuai dengan uji statistik yang digunakan."
   ]
  },
  {
   "cell_type": "code",
   "execution_count": 32,
   "metadata": {},
   "outputs": [
    {
     "data": {
      "text/markdown": [
       "$t=0.024$"
      ],
      "text/plain": [
       "<IPython.core.display.Markdown object>"
      ]
     },
     "metadata": {},
     "output_type": "display_data"
    },
    {
     "data": {
      "text/markdown": [
       "$p=0.981$"
      ],
      "text/plain": [
       "<IPython.core.display.Markdown object>"
      ]
     },
     "metadata": {},
     "output_type": "display_data"
    }
   ],
   "source": [
    "t, p = st.ttest_1samp(df['Solids'], popmean=21900)\n",
    "\n",
    "display(Markdown(f'$t={round(t,3)}$'))\n",
    "display(Markdown(f'$p={round(p,3)}$'))"
   ]
  },
  {
   "cell_type": "markdown",
   "metadata": {},
   "source": [
    "###### Ambil keputusan dengan TOLAK $H_0$ jika nilai uji terletak di daerah kritis atau dengan tes signifikan, TOLAK $H_0$ jika p-value lebih kecil dibanding tingkat signifikansi α yang diinginkan."
   ]
  },
  {
   "cell_type": "code",
   "execution_count": 33,
   "metadata": {
    "scrolled": true
   },
   "outputs": [
    {
     "data": {
      "text/markdown": [
       "**Keputusan:**\n",
       "\n",
       "Tidak menolak $H_0$ karena $t=0.024$ berada pada $-1.96≤t≤1.96$"
      ],
      "text/plain": [
       "<IPython.core.display.Markdown object>"
      ]
     },
     "metadata": {},
     "output_type": "display_data"
    },
    {
     "data": {
      "text/markdown": [
       "**Tes signifikan:**\n",
       "\n",
       "Tidak menolak $H_0$ karena $p=0.981≥α=0.05$"
      ],
      "text/plain": [
       "<IPython.core.display.Markdown object>"
      ]
     },
     "metadata": {},
     "output_type": "display_data"
    },
    {
     "data": {
      "text/markdown": [
       "**Jadi, 100 baris pertama Solids rata-rata sama dengan 205**"
      ],
      "text/plain": [
       "<IPython.core.display.Markdown object>"
      ]
     },
     "metadata": {},
     "output_type": "display_data"
    }
   ],
   "source": [
    "if (p < 0.05):\n",
    "    if (t < -1 * st.norm.ppf(1-0.05/2)):\n",
    "        display(Markdown(f\"**Keputusan:**\\n\\nTolak $H_0$ karena $t={round(t,3)}<-{round(st.norm.ppf(1-0.05/2), 3)}$\"))\n",
    "    else:\n",
    "        display(Markdown(f\"**Keputusan:**\\n\\nTolak $H_0$ karena $t={round(t,3)}>{round(st.norm.ppf(1-0.05/2), 3)}$\"))\n",
    "    display(Markdown(f\"**Tes signifikan:**\\n\\nTolak $H_0$ karena $p={round(p,3)}<α=0.05$\"))\n",
    "    display(Markdown(\"**Jadi, 100 baris pertama Solids rata-rata tidak sama dengan 205**\"))\n",
    "else:\n",
    "    display(Markdown(f\"**Keputusan:**\\n\\nTidak menolak $H_0$ karena $t={round(t,3)}$ berada pada $-{round(st.norm.ppf(1-0.05/2), 3)}≤t≤{round(st.norm.ppf(1-0.05/2), 3)}$\"))\n",
    "    display(Markdown(f\"**Tes signifikan:**\\n\\nTidak menolak $H_0$ karena $p={round(p,3)}≥α=0.05$\"))\n",
    "    display(Markdown(\"**Jadi, 100 baris pertama Solids rata-rata sama dengan 205**\"))"
   ]
  },
  {
   "cell_type": "markdown",
   "metadata": {},
   "source": [
    "### d. Proporsi nilai Conductivity yang lebih dari 450, adalah tidak sama dengan 10%?"
   ]
  },
  {
   "cell_type": "markdown",
   "metadata": {},
   "source": [
    "###### Tentukan Hipotesis nol ($H_0: θ = θ_0$), dimana θ bisa berupa $\\mu$, $σ^2$, $p$, atau data lain berdistribusi tertentu (normal, binomial, dsc.).\n",
    "\n",
    "$H_0:p=0.1$"
   ]
  },
  {
   "cell_type": "markdown",
   "metadata": {},
   "source": [
    "###### Pilih hipotesis alternatif $H_1$ salah dari dari $θ > θ_0$ , $θ < θ_0$ , atau $θ ≠ θ_0$.\n",
    "\n",
    "$H_1:p≠0.1$"
   ]
  },
  {
   "cell_type": "markdown",
   "metadata": {},
   "source": [
    "###### Tentukan tingkat signifikan α.\n",
    "\n",
    "$α = 0.05$"
   ]
  },
  {
   "cell_type": "markdown",
   "metadata": {},
   "source": [
    "###### Tentukan uji statistik yang sesuai dan tentukan daerah kritis.\n",
    "\n",
    "Daerah kritis:"
   ]
  },
  {
   "cell_type": "code",
   "execution_count": 34,
   "metadata": {},
   "outputs": [
    {
     "data": {
      "text/markdown": [
       "z<sub>α/2</sub> < -1.96 dan z<sub>α/2</sub> > 1.96"
      ],
      "text/plain": [
       "<IPython.core.display.Markdown object>"
      ]
     },
     "metadata": {},
     "output_type": "display_data"
    }
   ],
   "source": [
    "crit = round(st.norm.ppf(1-0.05/2), 3)\n",
    "display(Markdown(\"z<sub>α/2</sub> < -%s dan z<sub>α/2</sub> > %s\" % (crit, crit)))"
   ]
  },
  {
   "cell_type": "markdown",
   "metadata": {},
   "source": [
    "Tes statistik:"
   ]
  },
  {
   "cell_type": "markdown",
   "metadata": {},
   "source": [
    "\\begin{equation}\n",
    "z = \\frac{\\hat{p_{}} - p_{0}} {\\sqrt{p_{0}q_{0}/n}}\n",
    "\\end{equation}"
   ]
  },
  {
   "cell_type": "code",
   "execution_count": 35,
   "metadata": {},
   "outputs": [
    {
     "data": {
      "text/plain": [
       "Text(0.5, 1.0, 'Conductivity')"
      ]
     },
     "execution_count": 35,
     "metadata": {},
     "output_type": "execute_result"
    },
    {
     "data": {
      "image/png": "[encoded data removed]",
      "text/plain": [
       "<Figure size 432x288 with 1 Axes>"
      ]
     },
     "metadata": {
      "needs_background": "light"
     },
     "output_type": "display_data"
    }
   ],
   "source": [
    "plt.boxplot(df['Conductivity'])\n",
    "boxplot.set_title('Conductivity')"
   ]
  },
  {
   "cell_type": "markdown",
   "metadata": {},
   "source": [
    "###### Hitung nilai uji statistik dari data sample. Hitung p-value sesuai dengan uji statistik yang digunakan."
   ]
  },
  {
   "cell_type": "code",
   "execution_count": 36,
   "metadata": {},
   "outputs": [
    {
     "data": {
      "text/markdown": [
       "$z=40.446$"
      ],
      "text/plain": [
       "<IPython.core.display.Markdown object>"
      ]
     },
     "metadata": {},
     "output_type": "display_data"
    },
    {
     "data": {
      "text/markdown": [
       "$p=0.0$"
      ],
      "text/plain": [
       "<IPython.core.display.Markdown object>"
      ]
     },
     "metadata": {},
     "output_type": "display_data"
    }
   ],
   "source": [
    "z, p = proportions_ztest(len(df[df[\"Conductivity\"] > 450]), len(df), value=0.1, prop_var=0.1)\n",
    "\n",
    "display(Markdown(f'$z={round(z,3)}$'))\n",
    "display(Markdown(f'$p={round(p,3)}$'))"
   ]
  },
  {
   "cell_type": "markdown",
   "metadata": {},
   "source": [
    "###### Ambil keputusan dengan TOLAK $H_0$ jika nilai uji terletak di daerah kritis atau dengan tes signifikan, TOLAK $H_0$ jika p-value lebih kecil dibanding tingkat signifikansi $α$ yang diinginkan."
   ]
  },
  {
   "cell_type": "code",
   "execution_count": 37,
   "metadata": {
    "scrolled": true
   },
   "outputs": [
    {
     "data": {
      "text/markdown": [
       "**Keputusan:**\n",
       "\n",
       "Tolak $H_0$ karena $z=40.446>1.96$"
      ],
      "text/plain": [
       "<IPython.core.display.Markdown object>"
      ]
     },
     "metadata": {},
     "output_type": "display_data"
    },
    {
     "data": {
      "text/markdown": [
       "**Tes signifikan:**\n",
       "\n",
       "Tolak $H_0$ karena $p=0.0<α=0.05$"
      ],
      "text/plain": [
       "<IPython.core.display.Markdown object>"
      ]
     },
     "metadata": {},
     "output_type": "display_data"
    },
    {
     "data": {
      "text/markdown": [
       "**Jadi, proporsi nilai Conductivity yang lebih dari 450 tidak sama dengan 10%**"
      ],
      "text/plain": [
       "<IPython.core.display.Markdown object>"
      ]
     },
     "metadata": {},
     "output_type": "display_data"
    }
   ],
   "source": [
    "if ((z < -1 * st.norm.ppf(1-0.05/2) or z > st.norm.ppf(1-0.05/2)) and p < 0.05):\n",
    "    if (z < -1 * st.norm.ppf(1-0.05/2)):\n",
    "        display(Markdown(f\"**Keputusan:**\\n\\nTolak $H_0$ karena $z={round(z,3)}<-{round(st.norm.ppf(1-0.05/2), 3)}$\"))\n",
    "    else:\n",
    "        display(Markdown(f\"**Keputusan:**\\n\\nTolak $H_0$ karena $z={round(z,3)}>{round(st.norm.ppf(1-0.05/2), 3)}$\"))\n",
    "    display(Markdown(f\"**Tes signifikan:**\\n\\nTolak $H_0$ karena $p={round(p,3)}<α=0.05$\"))\n",
    "    display(Markdown(\"**Jadi, proporsi nilai Conductivity yang lebih dari 450 tidak sama dengan 10%**\"))\n",
    "else:\n",
    "    display(Markdown(f\"**Keputusan:**\\n\\nTidak menolak $H_0$ karena $z={round(z,3)}$ berada pada $-{round(st.norm.ppf(1-0.05/2), 3)}≤z≤{round(st.norm.ppf(1-0.05/2), 3)}$\"))\n",
    "    display(Markdown(f\"**Tes signifikan:**\\n\\nTidak menolak $H_0$ karena $p={round(p,3)}≥α=0.05$\"))\n",
    "    display(Markdown(\"**Jadi, proporsi nilai Conductivity yang lebih dari 450 sama dengan 10%**\"))"
   ]
  },
  {
   "cell_type": "markdown",
   "metadata": {},
   "source": [
    "### e. Proporsi nilai Trihalomethanes yang kurang dari 40, adalah kurang dari 5%?"
   ]
  },
  {
   "cell_type": "markdown",
   "metadata": {},
   "source": [
    "###### Tentukan Hipotesis nol ($H_0: θ = θ_0$), dimana θ bisa berupa $\\mu$, $σ^2$, $p$, atau data lain berdistribusi tertentu (normal, binomial, dsc.).\n",
    "\n",
    "$H_0:p=0.05$"
   ]
  },
  {
   "cell_type": "markdown",
   "metadata": {},
   "source": [
    "###### Pilih hipotesis alternatif $H_1$ salah dari dari $θ > θ_0$ , $θ < θ_0$ , atau $θ ≠ θ_0$.\n",
    "\n",
    "$H_1:p<0.05$"
   ]
  },
  {
   "cell_type": "markdown",
   "metadata": {},
   "source": [
    "###### Tentukan tingkat signifikan α.\n",
    "\n",
    "$α = 0.05$"
   ]
  },
  {
   "cell_type": "markdown",
   "metadata": {},
   "source": [
    "###### Tentukan uji statistik yang sesuai dan tentukan daerah kritis.\n",
    "\n",
    "Daerah kritis:"
   ]
  },
  {
   "cell_type": "code",
   "execution_count": 38,
   "metadata": {},
   "outputs": [
    {
     "data": {
      "text/markdown": [
       "$z_α< -1.645$"
      ],
      "text/plain": [
       "<IPython.core.display.Markdown object>"
      ]
     },
     "metadata": {},
     "output_type": "display_data"
    }
   ],
   "source": [
    "display(Markdown(f'$z_α< -{round(st.norm.ppf(1-0.05), 3)}$'))"
   ]
  },
  {
   "cell_type": "markdown",
   "metadata": {},
   "source": [
    "Tes statistik:"
   ]
  },
  {
   "cell_type": "markdown",
   "metadata": {},
   "source": [
    "\\begin{equation}\n",
    "z = \\frac{\\hat{p_{}} - p_{0}} {\\sqrt{p_{0}q_{0}/n}}\n",
    "\\end{equation}"
   ]
  },
  {
   "cell_type": "code",
   "execution_count": 39,
   "metadata": {},
   "outputs": [
    {
     "data": {
      "text/plain": [
       "Text(0.5, 1.0, 'Trihalomethanes')"
      ]
     },
     "execution_count": 39,
     "metadata": {},
     "output_type": "execute_result"
    },
    {
     "data": {
      "image/png": "[encoded data removed]",
      "text/plain": [
       "<Figure size 432x288 with 1 Axes>"
      ]
     },
     "metadata": {
      "needs_background": "light"
     },
     "output_type": "display_data"
    }
   ],
   "source": [
    "plt.boxplot(df['Trihalomethanes'])\n",
    "boxplot.set_title('Trihalomethanes')"
   ]
  },
  {
   "cell_type": "markdown",
   "metadata": {},
   "source": [
    "###### Hitung nilai uji statistik dari data sample. Hitung p-value sesuai dengan uji statistik yang digunakan."
   ]
  },
  {
   "cell_type": "code",
   "execution_count": 40,
   "metadata": {},
   "outputs": [
    {
     "data": {
      "text/markdown": [
       "$z=0.549$"
      ],
      "text/plain": [
       "<IPython.core.display.Markdown object>"
      ]
     },
     "metadata": {},
     "output_type": "display_data"
    },
    {
     "data": {
      "text/markdown": [
       "$p=0.708$"
      ],
      "text/plain": [
       "<IPython.core.display.Markdown object>"
      ]
     },
     "metadata": {},
     "output_type": "display_data"
    }
   ],
   "source": [
    "z, p = proportions_ztest(len(df[df[\"Trihalomethanes\"] < 40]), len(df), value=0.05, alternative=\"smaller\")\n",
    "\n",
    "display(Markdown(f'$z={round(z,3)}$'))\n",
    "display(Markdown(f'$p={round(p,3)}$'))"
   ]
  },
  {
   "cell_type": "markdown",
   "metadata": {},
   "source": [
    "###### Ambil keputusan dengan TOLAK $H_0$ jika nilai uji terletak di daerah kritis atau dengan tes signifikan, TOLAK $H_0$ jika p-value lebih kecil dibanding tingkat signifikansi $α$ yang diinginkan."
   ]
  },
  {
   "cell_type": "code",
   "execution_count": 41,
   "metadata": {
    "scrolled": true
   },
   "outputs": [
    {
     "data": {
      "text/markdown": [
       "**Keputusan:**\n",
       "\n",
       "Tidak menolak $H_0$ karena $z=0.549≥-1.645$"
      ],
      "text/plain": [
       "<IPython.core.display.Markdown object>"
      ]
     },
     "metadata": {},
     "output_type": "display_data"
    },
    {
     "data": {
      "text/markdown": [
       "**Tes signifikan:**\n",
       "\n",
       "Tidak menolak $H_0$ karena $p=0.708≥α=0.05$"
      ],
      "text/plain": [
       "<IPython.core.display.Markdown object>"
      ]
     },
     "metadata": {},
     "output_type": "display_data"
    },
    {
     "data": {
      "text/markdown": [
       "**Jadi, proporsi nilai Trihalomethanes yang kurang dari 40 adalah 5%**"
      ],
      "text/plain": [
       "<IPython.core.display.Markdown object>"
      ]
     },
     "metadata": {},
     "output_type": "display_data"
    }
   ],
   "source": [
    "if ((z < -1 * st.norm.ppf(1-0.05/2) or z > st.norm.ppf(1-0.05/2)) and p < 0.05):\n",
    "    display(Markdown(f\"**Keputusan:**\\n\\nTolak $H_0$ karena $z={round(z,3)}<-{round(st.norm.ppf(1-0.05), 3)}$\"))\n",
    "    display(Markdown(f\"**Tes signifikan:**\\n\\nTolak $H_0$ karena $p={round(p,3)}<α=0.05$\"))\n",
    "    display(Markdown(\"**Jadi, proporsi nilai Trihalomethanes yang kurang dari 40 kurang dari 5%**\"))\n",
    "else:\n",
    "    display(Markdown(f\"**Keputusan:**\\n\\nTidak menolak $H_0$ karena $z={round(z,3)}≥-{round(st.norm.ppf(1-0.05), 3)}$\"))\n",
    "    display(Markdown(f\"**Tes signifikan:**\\n\\nTidak menolak $H_0$ karena $p={round(p,3)}≥α=0.05$\"))\n",
    "    display(Markdown(\"**Jadi, proporsi nilai Trihalomethanes yang kurang dari 40 adalah 5%**\"))"
   ]
  },
  {
   "cell_type": "markdown",
   "metadata": {},
   "source": [
    "### Soal 5"
   ]
  },
  {
   "cell_type": "markdown",
   "metadata": {},
   "source": [
    "### a. Data kolom Sulfate dibagi 2 sama rata: bagian awal dan bagian akhir kolom. Benarkah rata-rata kedua bagian tersebut sama?"
   ]
  },
  {
   "cell_type": "markdown",
   "metadata": {},
   "source": [
    "###### Tentukan Hipotesis nol ($H_0: θ = θ_0$), dimana θ bisa berupa $\\mu$, $σ^2$, $p$, atau data lain berdistribusi tertentu (normal, binomial, dsc.).\n",
    "\n",
    "$H_0:\\mu1 - \\mu2= 0 $\n",
    "\n",
    "###### Pilih hipotesis alternatif $H_1$ salah dari dari $θ > θ_0$ , $θ < θ_0$ , atau $θ ≠ θ_0$.\n",
    "\n",
    "$H_1:\\mu1 - \\mu2 ≠ 0$\n",
    "\n",
    "###### Tentukan tingkat signifikan α.\n",
    "\n",
    "$α = 0.05$\n",
    "\n",
    "###### Tentukan uji statistik yang sesuai dan tentukan daerah kritis.\n",
    "\n",
    "Daerah kritis:"
   ]
  },
  {
   "cell_type": "code",
   "execution_count": 42,
   "metadata": {},
   "outputs": [
    {
     "data": {
      "text/markdown": [
       "t<sub>α/2</sub> < -1.959963984540054 dan t<sub>α/2</sub> > 1.959963984540054"
      ],
      "text/plain": [
       "<IPython.core.display.Markdown object>"
      ]
     },
     "metadata": {},
     "output_type": "display_data"
    }
   ],
   "source": [
    "crit = st.norm.ppf(1-0.05/2)\n",
    "display(Markdown(\"t<sub>α/2</sub> < -%s dan t<sub>α/2</sub> > %s\" % (crit, crit)))"
   ]
  },
  {
   "cell_type": "markdown",
   "metadata": {},
   "source": [
    "Tes Statistik\n",
    "\n",
    "$$ t = \\frac{(\\bar{x_{1}} - \\bar{x_{2}}) - d_{0}} {s_p\\sqrt{1/n_{1} + 1/n_{2}}}$$\n",
    "\n",
    "###### Hitung nilai uji statistik dari data sample. Hitung p-value sesuai dengan uji statistik yang digunakan."
   ]
  },
  {
   "cell_type": "code",
   "execution_count": 43,
   "metadata": {},
   "outputs": [
    {
     "data": {
      "image/png": "[encoded data removed]",
      "text/plain": [
       "<Figure size 432x288 with 1 Axes>"
      ]
     },
     "metadata": {
      "needs_background": "light"
     },
     "output_type": "display_data"
    },
    {
     "data": {
      "image/png": "[encoded data removed]",
      "text/plain": [
       "<Figure size 432x288 with 1 Axes>"
      ]
     },
     "metadata": {
      "needs_background": "light"
     },
     "output_type": "display_data"
    }
   ],
   "source": [
    "df1 = df[\"Sulfate\"][:1005]\n",
    "df2 = df[\"Sulfate\"][1005:]\n",
    "\n",
    "df1.plot(kind=\"box\").set_title(\"Sulfate Data Awal\")\n",
    "plt.show()\n",
    "df2.plot(kind=\"box\").set_title(\"Sulfate Data Akhir\")\n",
    "plt.show()"
   ]
  },
  {
   "cell_type": "code",
   "execution_count": 44,
   "metadata": {},
   "outputs": [
    {
     "data": {
      "text/markdown": [
       "$t=-2.0752690696871983$"
      ],
      "text/plain": [
       "<IPython.core.display.Markdown object>"
      ]
     },
     "metadata": {},
     "output_type": "display_data"
    },
    {
     "data": {
      "text/markdown": [
       "$p=0.9809556740463125$"
      ],
      "text/plain": [
       "<IPython.core.display.Markdown object>"
      ]
     },
     "metadata": {},
     "output_type": "display_data"
    },
    {
     "data": {
      "text/markdown": [
       "Ambil keputusan dengan TOLAK $H_0$ jika nilai uji terletak di daerah kritis atau dengan tes signifikan, TOLAK $H_0$ jika p-value lebih kecil dibanding tingkat signifikansi α yang diinginkan."
      ],
      "text/plain": [
       "<IPython.core.display.Markdown object>"
      ]
     },
     "metadata": {},
     "output_type": "display_data"
    }
   ],
   "source": [
    "s1 = df1.var()\n",
    "s2 = df2.var()\n",
    "sp = ((1004 * s1 + 1004 * s2) / 2008)**0.5\n",
    "x1 = df1.mean()\n",
    "x2 = df2.mean()\n",
    "t = (x1 - x2) / (sp*(1/1005 + 1/1005)**0.5)\n",
    "p = 1 - st.t.cdf(t, 2008)\n",
    "\n",
    "display(Markdown(f'$t={t}$'))\n",
    "display(Markdown(f'$p={p}$'))\n",
    "display(Markdown(f'Ambil keputusan dengan TOLAK $H_0$ jika nilai uji terletak di daerah kritis atau dengan tes signifikan, TOLAK $H_0$ jika p-value lebih kecil dibanding tingkat signifikansi α yang diinginkan.'))"
   ]
  },
  {
   "cell_type": "code",
   "execution_count": 45,
   "metadata": {},
   "outputs": [
    {
     "data": {
      "text/markdown": [
       "**Keputusan:**\n",
       "\n",
       "Tolak $H_0$ karena $t = -2.0752690696871983 <- 1.959963984540054$"
      ],
      "text/plain": [
       "<IPython.core.display.Markdown object>"
      ]
     },
     "metadata": {},
     "output_type": "display_data"
    },
    {
     "data": {
      "text/markdown": [
       "**Tes signifikan:**\n",
       "\n",
       "Tolak $H_0$ karena $p = 0.9809556740463125 < α = 0.05$"
      ],
      "text/plain": [
       "<IPython.core.display.Markdown object>"
      ]
     },
     "metadata": {},
     "output_type": "display_data"
    },
    {
     "data": {
      "text/markdown": [
       "**Jadi, rata-rata bagian awal dan akhir data Sulfate tidak sama**"
      ],
      "text/plain": [
       "<IPython.core.display.Markdown object>"
      ]
     },
     "metadata": {},
     "output_type": "display_data"
    }
   ],
   "source": [
    "if (t < -1 * crit or t > crit and p < 0.05):\n",
    "    if (t < -1 * crit):\n",
    "        display(Markdown(f\"**Keputusan:**\\n\\nTolak $H_0$ karena $t = {t} <- {crit}$\"))\n",
    "    else:\n",
    "        display(Markdown(f\"**Keputusan:**\\n\\nTolak $H_0$ karena $t = {t} > {crit}$\"))\n",
    "    display(Markdown(f\"**Tes signifikan:**\\n\\nTolak $H_0$ karena $p = {p} < α = 0.05$\"))\n",
    "    display(Markdown(\"**Jadi, rata-rata bagian awal dan akhir data Sulfate tidak sama**\"))\n",
    "else:\n",
    "    display(Markdown(f\"**Keputusan:**\\n\\nTidak menolak $H_0$ karena $t = {t}$ berada pada $-{crit} ≤ t ≤ {crit}$\"))\n",
    "    display(Markdown(f\"**Tes signifikan:**\\n\\nTidak menolak $H_0$ karena $p = {p} ≥ α = 0.05$\"))\n",
    "    display(Markdown(\"**Jadi, rata-rata bagian awal dan akhir data Sulfate sama**\"))"
   ]
  },
  {
   "cell_type": "markdown",
   "metadata": {},
   "source": [
    "### b. Data kolom OrganicCarbon dibagi 2 sama rata: bagian awal dan bagian akhir kolom. Benarkah rata-rata bagian awal lebih besar dari pada bagian akhir sebesar 0.15?"
   ]
  },
  {
   "cell_type": "markdown",
   "metadata": {},
   "source": [
    "###### Tentukan Hipotesis nol ($H_0: θ = θ_0$), dimana θ bisa berupa $\\mu$, $σ^2$, $p$, atau data lain berdistribusi tertentu (normal, binomial, dsc.).\n",
    "\n",
    "$H_0:\\mu1 - \\mu2 = 0.15 $\n",
    "\n",
    "###### Pilih hipotesis alternatif $H_1$ salah dari dari $θ > θ_0$ , $θ < θ_0$ , atau $θ ≠ θ_0$.\n",
    "\n",
    "$H_1:\\mu1 - \\mu2 \\ne 0.15$\n",
    "\n",
    "###### Tentukan tingkat signifikan α.\n",
    "\n",
    "$α = 0.05$\n",
    "\n",
    "###### Tentukan uji statistik yang sesuai dan tentukan daerah kritis.\n",
    "\n",
    "Daerah kritis:"
   ]
  },
  {
   "cell_type": "code",
   "execution_count": 46,
   "metadata": {},
   "outputs": [
    {
     "data": {
      "text/markdown": [
       "t<sub>α/2</sub> < -1.959963984540054 dan t<sub>α/2</sub> > 1.959963984540054"
      ],
      "text/plain": [
       "<IPython.core.display.Markdown object>"
      ]
     },
     "metadata": {},
     "output_type": "display_data"
    }
   ],
   "source": [
    "crit = st.norm.ppf(1-0.05/2)\n",
    "display(Markdown(\"t<sub>α/2</sub> < -%s dan t<sub>α/2</sub> > %s\" % (crit, crit)))"
   ]
  },
  {
   "cell_type": "markdown",
   "metadata": {},
   "source": [
    "Tes Statistik\n",
    "\n",
    "$$ t = \\frac{(\\bar{x_{1}} - \\bar{x_{2}}) - d_{0}} {s_p\\sqrt{1/n_{1} + 1/n_{2}}}$$\n",
    "\n",
    "###### Hitung nilai uji statistik dari data sample. Hitung p-value sesuai dengan uji statistik yang digunakan."
   ]
  },
  {
   "cell_type": "code",
   "execution_count": 47,
   "metadata": {},
   "outputs": [
    {
     "data": {
      "image/png": "[encoded data removed]",
      "text/plain": [
       "<Figure size 432x288 with 1 Axes>"
      ]
     },
     "metadata": {
      "needs_background": "light"
     },
     "output_type": "display_data"
    },
    {
     "data": {
      "image/png": "[encoded data removed]",
      "text/plain": [
       "<Figure size 432x288 with 1 Axes>"
      ]
     },
     "metadata": {
      "needs_background": "light"
     },
     "output_type": "display_data"
    }
   ],
   "source": [
    "df1 = df[\"OrganicCarbon\"][:1005]\n",
    "df2 = df[\"OrganicCarbon\"][1005:]\n",
    "\n",
    "df1.plot(kind=\"box\").set_title(\"OrganicCarbon Data Awal\")\n",
    "plt.show()\n",
    "df2.plot(kind=\"box\").set_title(\"OrganicCarbon Data Akhir\")\n",
    "plt.show()"
   ]
  },
  {
   "cell_type": "code",
   "execution_count": 48,
   "metadata": {},
   "outputs": [
    {
     "data": {
      "text/markdown": [
       "$t=-2.413145517798807$"
      ],
      "text/plain": [
       "<IPython.core.display.Markdown object>"
      ]
     },
     "metadata": {},
     "output_type": "display_data"
    },
    {
     "data": {
      "text/markdown": [
       "$p=0.9920477254406633$"
      ],
      "text/plain": [
       "<IPython.core.display.Markdown object>"
      ]
     },
     "metadata": {},
     "output_type": "display_data"
    },
    {
     "data": {
      "text/markdown": [
       "Ambil keputusan dengan TOLAK $H_0$ jika nilai uji terletak di daerah kritis atau dengan tes signifikan, TOLAK $H_0$ jika p-value lebih kecil dibanding tingkat signifikansi α yang diinginkan."
      ],
      "text/plain": [
       "<IPython.core.display.Markdown object>"
      ]
     },
     "metadata": {},
     "output_type": "display_data"
    }
   ],
   "source": [
    "s1 = df1.var()\n",
    "s2 = df2.var()\n",
    "sp = ((1004 * s1 + 1004 * s2) / 2008)**0.5\n",
    "x1 = df1.mean()\n",
    "x2 = df2.mean()\n",
    "t = (x1 - x2 - 0.15) / (sp*(1/1005 + 1/1005)**0.5)\n",
    "p = 1 - st.t.cdf(t, 2008)\n",
    "\n",
    "display(Markdown(f'$t={t}$'))\n",
    "display(Markdown(f'$p={p}$'))\n",
    "display(Markdown(f'Ambil keputusan dengan TOLAK $H_0$ jika nilai uji terletak di daerah kritis atau dengan tes signifikan, TOLAK $H_0$ jika p-value lebih kecil dibanding tingkat signifikansi α yang diinginkan.'))"
   ]
  },
  {
   "cell_type": "code",
   "execution_count": 49,
   "metadata": {},
   "outputs": [
    {
     "data": {
      "text/markdown": [
       "**Keputusan:**\n",
       "\n",
       "Tolak $H_0$ karena $t = -2.413145517798807 <- 1.959963984540054$"
      ],
      "text/plain": [
       "<IPython.core.display.Markdown object>"
      ]
     },
     "metadata": {},
     "output_type": "display_data"
    },
    {
     "data": {
      "text/markdown": [
       "**Tes signifikan:**\n",
       "\n",
       "Tolak $H_0$ karena $p = 0.9920477254406633 < α = 0.05$"
      ],
      "text/plain": [
       "<IPython.core.display.Markdown object>"
      ]
     },
     "metadata": {},
     "output_type": "display_data"
    },
    {
     "data": {
      "text/markdown": [
       "**Jadi, rata-rata bagian awal data OrganicCarbon tidak lebih besar sebesar 0.15 dari bagian akhir datanya**"
      ],
      "text/plain": [
       "<IPython.core.display.Markdown object>"
      ]
     },
     "metadata": {},
     "output_type": "display_data"
    }
   ],
   "source": [
    "if (t < -1 * crit or t > crit and p < 0.05):\n",
    "    if (t < -1 * crit):\n",
    "        display(Markdown(f\"**Keputusan:**\\n\\nTolak $H_0$ karena $t = {t} <- {crit}$\"))\n",
    "    else:\n",
    "        display(Markdown(f\"**Keputusan:**\\n\\nTolak $H_0$ karena $t = {t} > {crit}$\"))\n",
    "    display(Markdown(f\"**Tes signifikan:**\\n\\nTolak $H_0$ karena $p = {p} < α = 0.05$\"))\n",
    "    display(Markdown(\"**Jadi, rata-rata bagian awal data OrganicCarbon tidak lebih besar sebesar 0.15 dari bagian akhir datanya**\"))\n",
    "else:\n",
    "    display(Markdown(f\"**Keputusan:**\\n\\nTidak menolak $H_0$ karena $t = {t}$ berada pada $-{crit} ≤ t ≤ {crit}$\"))\n",
    "    display(Markdown(f\"**Tes signifikan:**\\n\\nTidak menolak $H_0$ karena $p = {p} ≥ α = 0.05$\"))\n",
    "    display(Markdown(\"**adi, rata-rata bagian awal data OrganicCarbon lebih besar sebesar 0.15 dari bagian akhir datanya**\"))"
   ]
  },
  {
   "cell_type": "markdown",
   "metadata": {},
   "source": [
    "### c. Rata-rata 100 baris pertama kolom Chloramines sama dengan 100 baris terakhirnya?"
   ]
  },
  {
   "cell_type": "markdown",
   "metadata": {},
   "source": [
    "###### Tentukan Hipotesis nol ($H_0: θ = θ_0$), dimana θ bisa berupa $\\mu$, $σ^2$, $p$, atau data lain berdistribusi tertentu (normal, binomial, dsc.).\n",
    "\n",
    "$H_0:\\mu1 - \\mu2 = 0 $\n",
    "\n",
    "###### Pilih hipotesis alternatif $H_1$ salah dari dari $θ > θ_0$ , $θ < θ_0$ , atau $θ ≠ θ_0$.\n",
    "\n",
    "$H_1:\\mu1 - \\mu2 \\ne 0$\n",
    "\n",
    "###### Tentukan tingkat signifikan α.\n",
    "\n",
    "$α = 0.05$\n",
    "\n",
    "###### Tentukan uji statistik yang sesuai dan tentukan daerah kritis.\n",
    "\n",
    "Daerah kritis:"
   ]
  },
  {
   "cell_type": "code",
   "execution_count": 50,
   "metadata": {},
   "outputs": [
    {
     "data": {
      "text/markdown": [
       "t<sub>α/2</sub> < -1.959963984540054 dan t<sub>α/2</sub> > 1.959963984540054"
      ],
      "text/plain": [
       "<IPython.core.display.Markdown object>"
      ]
     },
     "metadata": {},
     "output_type": "display_data"
    }
   ],
   "source": [
    "crit = st.norm.ppf(1-0.05/2)\n",
    "display(Markdown(\"t<sub>α/2</sub> < -%s dan t<sub>α/2</sub> > %s\" % (crit, crit)))"
   ]
  },
  {
   "cell_type": "markdown",
   "metadata": {},
   "source": [
    "Tes Statistik\n",
    "\n",
    "$$ t = \\frac{(\\bar{x_{1}} - \\bar{x_{2}}) - d_{0}} {s_p\\sqrt{1/n_{1} + 1/n_{2}}}$$\n",
    "\n",
    "###### Hitung nilai uji statistik dari data sample. Hitung p-value sesuai dengan uji statistik yang digunakan."
   ]
  },
  {
   "cell_type": "code",
   "execution_count": 51,
   "metadata": {},
   "outputs": [
    {
     "data": {
      "image/png": "[encoded data removed]",
      "text/plain": [
       "<Figure size 432x288 with 1 Axes>"
      ]
     },
     "metadata": {
      "needs_background": "light"
     },
     "output_type": "display_data"
    },
    {
     "data": {
      "image/png": "[encoded data removed]",
      "text/plain": [
       "<Figure size 432x288 with 1 Axes>"
      ]
     },
     "metadata": {
      "needs_background": "light"
     },
     "output_type": "display_data"
    }
   ],
   "source": [
    "df1 = df[\"Chloramines\"][:100]\n",
    "df2 = df[\"Chloramines\"][len(df)-100:]\n",
    "\n",
    "df1.plot(kind=\"box\").set_title(\"Chloramines Data Awal\")\n",
    "plt.show()\n",
    "df2.plot(kind=\"box\").set_title(\"Chloramines Data Akhir\")\n",
    "plt.show()"
   ]
  },
  {
   "cell_type": "code",
   "execution_count": 52,
   "metadata": {},
   "outputs": [
    {
     "data": {
      "text/markdown": [
       "$t=-0.7059424842236872$"
      ],
      "text/plain": [
       "<IPython.core.display.Markdown object>"
      ]
     },
     "metadata": {},
     "output_type": "display_data"
    },
    {
     "data": {
      "text/markdown": [
       "$p=0.7590506311645496$"
      ],
      "text/plain": [
       "<IPython.core.display.Markdown object>"
      ]
     },
     "metadata": {},
     "output_type": "display_data"
    },
    {
     "data": {
      "text/markdown": [
       "Ambil keputusan dengan TOLAK $H_0$ jika nilai uji terletak di daerah kritis atau dengan tes signifikan, TOLAK $H_0$ jika p-value lebih kecil dibanding tingkat signifikansi α yang diinginkan."
      ],
      "text/plain": [
       "<IPython.core.display.Markdown object>"
      ]
     },
     "metadata": {},
     "output_type": "display_data"
    }
   ],
   "source": [
    "s1 = df1.var()\n",
    "s2 = df2.var()\n",
    "sp = ((99 * s1 + 99 * s2) / 198)**0.5\n",
    "x1 = df1.mean()\n",
    "x2 = df2.mean()\n",
    "t = (x1 - x2) / (sp*(1/100 + 1/100)**0.5)\n",
    "p = 1 - st.t.cdf(t, 98)\n",
    "\n",
    "display(Markdown(f'$t={t}$'))\n",
    "display(Markdown(f'$p={p}$'))\n",
    "display(Markdown(f'Ambil keputusan dengan TOLAK $H_0$ jika nilai uji terletak di daerah kritis atau dengan tes signifikan, TOLAK $H_0$ jika p-value lebih kecil dibanding tingkat signifikansi α yang diinginkan.'))"
   ]
  },
  {
   "cell_type": "code",
   "execution_count": 53,
   "metadata": {},
   "outputs": [
    {
     "data": {
      "text/markdown": [
       "**Keputusan:**\n",
       "\n",
       "Tidak menolak $H_0$ karena $t = -0.7059424842236872$ berada pada $-1.959963984540054 ≤ t ≤ 1.959963984540054$"
      ],
      "text/plain": [
       "<IPython.core.display.Markdown object>"
      ]
     },
     "metadata": {},
     "output_type": "display_data"
    },
    {
     "data": {
      "text/markdown": [
       "**Tes signifikan:**\n",
       "\n",
       "Tidak menolak $H_0$ karena $p = 0.7590506311645496 ≥ α = 0.05$"
      ],
      "text/plain": [
       "<IPython.core.display.Markdown object>"
      ]
     },
     "metadata": {},
     "output_type": "display_data"
    },
    {
     "data": {
      "text/markdown": [
       "**Jadi, rata-rata 100 data awal Chloramines sama dengan rata-rata 100 data akhir Chloramines**"
      ],
      "text/plain": [
       "<IPython.core.display.Markdown object>"
      ]
     },
     "metadata": {},
     "output_type": "display_data"
    }
   ],
   "source": [
    "if (t < -1 * crit or t > crit and p < 0.05):\n",
    "    if (t < -1 * crit):\n",
    "        display(Markdown(f\"**Keputusan:**\\n\\nTolak $H_0$ karena $t= {t} <- {crit}$\"))\n",
    "    else:\n",
    "        display(Markdown(f\"**Keputusan:**\\n\\nTolak $H_0$ karena $t= {t} > {crit}$\"))\n",
    "    display(Markdown(f\"**Tes signifikan:**\\n\\nTolak $H_0$ karena $p = {p} < α = 0.05$\"))\n",
    "    display(Markdown(\"**Jadi, rata-rata 100 data awal Chloramines tidak sama dengan rata-rata 100 data akhir Chloramines**\"))\n",
    "else:\n",
    "    display(Markdown(f\"**Keputusan:**\\n\\nTidak menolak $H_0$ karena $t = {t}$ berada pada $-{crit} ≤ t ≤ {crit}$\"))\n",
    "    display(Markdown(f\"**Tes signifikan:**\\n\\nTidak menolak $H_0$ karena $p = {p} ≥ α = 0.05$\"))\n",
    "    display(Markdown(\"**Jadi, rata-rata 100 data awal Chloramines sama dengan rata-rata 100 data akhir Chloramines**\"))"
   ]
  },
  {
   "cell_type": "markdown",
   "metadata": {},
   "source": [
    "### d. Proporsi nilai bagian awal Turbidity yang lebih dari 4, adalah lebih besar daripada, proporsi nilai yang sama di bagian akhir Turbidity ?"
   ]
  },
  {
   "cell_type": "markdown",
   "metadata": {},
   "source": [
    "###### Tentukan Hipotesis nol ($H_0: θ = θ_0$), dimana θ bisa berupa $\\mu$, $σ^2$, $p$, atau data lain berdistribusi tertentu (normal, binomial, dsc.).\n",
    "\n",
    "$H_0:p1 > p2 $\n",
    "\n",
    "###### Pilih hipotesis alternatif $H_1$ salah dari dari $θ > θ_0$ , $θ < θ_0$ , atau $θ ≠ θ_0$.\n",
    "\n",
    "$H_1:p1 \\le p2 $\n",
    "\n",
    "###### Tentukan tingkat signifikan α.\n",
    "\n",
    "$α = 0.05$\n",
    "\n",
    "###### Tentukan uji statistik yang sesuai dan tentukan daerah kritis.\n",
    "\n",
    "Daerah kritis:"
   ]
  },
  {
   "cell_type": "code",
   "execution_count": 54,
   "metadata": {},
   "outputs": [
    {
     "data": {
      "text/markdown": [
       "$z_α > 1.959963984540054 $"
      ],
      "text/plain": [
       "<IPython.core.display.Markdown object>"
      ]
     },
     "metadata": {},
     "output_type": "display_data"
    }
   ],
   "source": [
    "display(Markdown(f'$z_α > {crit} $'))"
   ]
  },
  {
   "cell_type": "markdown",
   "metadata": {},
   "source": [
    "$$ z = \\frac{\\hat{p_{1}}-\\hat{p_{2}}}{\\sqrt{\\hat{p}\\hat{q}(1/n_{1}+1/n_{2})}} $$\n",
    "\n",
    "###### Hitung nilai uji statistik dari data sample. Hitung p-value sesuai dengan uji statistik yang digunakan."
   ]
  },
  {
   "cell_type": "code",
   "execution_count": 55,
   "metadata": {},
   "outputs": [
    {
     "data": {
      "image/png": "[encoded data removed]",
      "text/plain": [
       "<Figure size 432x288 with 1 Axes>"
      ]
     },
     "metadata": {
      "needs_background": "light"
     },
     "output_type": "display_data"
    },
    {
     "data": {
      "image/png": "[encoded data removed]",
      "text/plain": [
       "<Figure size 432x288 with 1 Axes>"
      ]
     },
     "metadata": {
      "needs_background": "light"
     },
     "output_type": "display_data"
    }
   ],
   "source": [
    "df1 = df[\"Turbidity\"][:1005]\n",
    "df1 = df1[df1 > 4]\n",
    "df2 = df[\"Turbidity\"][1005:]\n",
    "df2 = df2[df2 > 4]\n",
    "\n",
    "df1.plot(kind=\"box\").set_title(\"Turbidity Data Awal\")\n",
    "plt.show()\n",
    "df2.plot(kind=\"box\").set_title(\"Turbidity Data Akhir\")\n",
    "plt.show()"
   ]
  },
  {
   "cell_type": "code",
   "execution_count": 56,
   "metadata": {},
   "outputs": [
    {
     "data": {
      "text/markdown": [
       "$z=-0.13388958661778735$"
      ],
      "text/plain": [
       "<IPython.core.display.Markdown object>"
      ]
     },
     "metadata": {},
     "output_type": "display_data"
    },
    {
     "data": {
      "text/markdown": [
       "$p=0.4467449424088169$"
      ],
      "text/plain": [
       "<IPython.core.display.Markdown object>"
      ]
     },
     "metadata": {},
     "output_type": "display_data"
    }
   ],
   "source": [
    "crit = st.norm.ppf(1-0.05)\n",
    "\n",
    "x1 = len(df1)\n",
    "x2 = len(df2)\n",
    "p1 = x1/1005\n",
    "p2 = x2/1005\n",
    "\n",
    "p = (x1 + x2)/(2010)\n",
    "q = 1 - p\n",
    "\n",
    "z = (p1 - p2)/((p*q*(2/1005))**0.5)\n",
    "\n",
    "if z < 0:\n",
    "  pValue = (st.norm.cdf(z))\n",
    "else:\n",
    "  pValue = (st.norm.sf(z))\n",
    "\n",
    "display(Markdown(f'$z={z}$'))\n",
    "display(Markdown(f'$p={pValue}$'))"
   ]
  },
  {
   "cell_type": "code",
   "execution_count": 57,
   "metadata": {},
   "outputs": [
    {
     "data": {
      "text/markdown": [
       "**Keputusan:**\n",
       "\n",
       "Tidak menolak $H_0$ karena $z = -0.13388958661778735$ berada pada $z ≤ 1.6448536269514722$"
      ],
      "text/plain": [
       "<IPython.core.display.Markdown object>"
      ]
     },
     "metadata": {},
     "output_type": "display_data"
    },
    {
     "data": {
      "text/markdown": [
       "**Tes signifikan:**\n",
       "\n",
       "Tidak menolak $H_0$ karena $p=0.4467449424088169 ≥ α = 0.05$"
      ],
      "text/plain": [
       "<IPython.core.display.Markdown object>"
      ]
     },
     "metadata": {},
     "output_type": "display_data"
    },
    {
     "data": {
      "text/markdown": [
       "**Jadi, proporsi nilai bagian awal Turbidity yang lebih dari 4, lebih besar daripada, proporsi nilai yang sama di bagian akhir Turbidity**"
      ],
      "text/plain": [
       "<IPython.core.display.Markdown object>"
      ]
     },
     "metadata": {},
     "output_type": "display_data"
    }
   ],
   "source": [
    "if (z > crit and pValue < 0.05):\n",
    "    display(Markdown(f\"**Keputusan:**\\n\\nTolak $H_0$ karena $z = {z} > {crit}$\"))\n",
    "    display(Markdown(f\"**Tes signifikan:**\\n\\nTolak $H_0$ karena $p={pValue} < α = 0.05$\"))\n",
    "    display(Markdown(\"**Jadi, proporsi nilai bagian awal Turbidity yang lebih dari 4, tidak lebih besar daripada, proporsi nilai yang sama di bagian akhir Turbidity**\"))\n",
    "else:\n",
    "    display(Markdown(f\"**Keputusan:**\\n\\nTidak menolak $H_0$ karena $z = {z}$ berada pada $z ≤ {crit}$\"))\n",
    "    display(Markdown(f\"**Tes signifikan:**\\n\\nTidak menolak $H_0$ karena $p={pValue} ≥ α = 0.05$\"))\n",
    "    display(Markdown(\"**Jadi, proporsi nilai bagian awal Turbidity yang lebih dari 4, lebih besar daripada, proporsi nilai yang sama di bagian akhir Turbidity**\"))"
   ]
  },
  {
   "cell_type": "markdown",
   "metadata": {},
   "source": [
    "### e. Bagian awal kolom Sulfate memiliki variansi yang sama dengan bagian akhirnya?"
   ]
  },
  {
   "cell_type": "markdown",
   "metadata": {},
   "source": [
    "###### Tentukan Hipotesis nol ($H_0: θ = θ_0$), dimana θ bisa berupa $\\mu$, $σ^2$, $p$, atau data lain berdistribusi tertentu (normal, binomial, dsc.).\n",
    "\n",
    "$H_0:σ1^2 = σ2^2 $\n",
    "\n",
    "###### Pilih hipotesis alternatif $H_1$ salah dari dari $θ > θ_0$ , $θ < θ_0$ , atau $θ ≠ θ_0$.\n",
    "\n",
    "$H_1:σ1^2 \\ne σ2^2 $\n",
    "\n",
    "###### Tentukan tingkat signifikan α.\n",
    "\n",
    "$α = 0.05$\n",
    "\n",
    "###### Tentukan uji statistik yang sesuai dan tentukan daerah kritis.\n",
    "\n",
    "Daerah kritis:"
   ]
  },
  {
   "cell_type": "code",
   "execution_count": 58,
   "metadata": {},
   "outputs": [
    {
     "data": {
      "text/markdown": [
       "f < f<sub>(1-α/2)</sub> (v1,v2) atau f > f<sub>(α/2)</sub>(v1,v2)"
      ],
      "text/plain": [
       "<IPython.core.display.Markdown object>"
      ]
     },
     "metadata": {},
     "output_type": "display_data"
    }
   ],
   "source": [
    "display(Markdown(\"f < f<sub>(1-α/2)</sub> (v1,v2) atau f > f<sub>(α/2)</sub>(v1,v2)\"))"
   ]
  },
  {
   "cell_type": "markdown",
   "metadata": {},
   "source": [
    "$$ f = \\frac{s_{1}^{2}}{s_{2}^{2}} $$\n",
    "\n",
    "###### Hitung nilai uji statistik dari data sample. Hitung p-value sesuai dengan uji statistik yang digunakan."
   ]
  },
  {
   "cell_type": "code",
   "execution_count": 59,
   "metadata": {},
   "outputs": [
    {
     "data": {
      "image/png": "[encoded data removed]",
      "text/plain": [
       "<Figure size 432x288 with 1 Axes>"
      ]
     },
     "metadata": {
      "needs_background": "light"
     },
     "output_type": "display_data"
    },
    {
     "data": {
      "image/png": "[encoded data removed]",
      "text/plain": [
       "<Figure size 432x288 with 1 Axes>"
      ]
     },
     "metadata": {
      "needs_background": "light"
     },
     "output_type": "display_data"
    }
   ],
   "source": [
    "df1 = df[\"Sulfate\"][:1005]\n",
    "df2 = df[\"Sulfate\"][1005:]\n",
    "\n",
    "df1.plot(kind=\"box\").set_title(\"Sulfate Data Awal\")\n",
    "plt.show()\n",
    "df2.plot(kind=\"box\").set_title(\"Sulfate Data Akhir\")\n",
    "plt.show()"
   ]
  },
  {
   "cell_type": "code",
   "execution_count": 60,
   "metadata": {},
   "outputs": [
    {
     "data": {
      "text/markdown": [
       "$f=1.0307348049752798$"
      ],
      "text/plain": [
       "<IPython.core.display.Markdown object>"
      ]
     },
     "metadata": {},
     "output_type": "display_data"
    },
    {
     "data": {
      "text/markdown": [
       "$critLeft=0.883572344355818$"
      ],
      "text/plain": [
       "<IPython.core.display.Markdown object>"
      ]
     },
     "metadata": {},
     "output_type": "display_data"
    },
    {
     "data": {
      "text/markdown": [
       "$critRight=1.1317692392568777$"
      ],
      "text/plain": [
       "<IPython.core.display.Markdown object>"
      ]
     },
     "metadata": {},
     "output_type": "display_data"
    }
   ],
   "source": [
    "s1 = df1.var()\n",
    "s2 = df2.var()\n",
    "\n",
    "f = s1**2/s2**2\n",
    "\n",
    "critRight = st.f.ppf(1-0.05/2, 1004, 1004)\n",
    "critLeft = st.f.ppf(0.05/2, 1004, 1004)\n",
    "\n",
    "display(Markdown(f'$f={f}$'))\n",
    "display(Markdown(f'$critLeft={critLeft}$'))\n",
    "display(Markdown(f'$critRight={critRight}$'))"
   ]
  },
  {
   "cell_type": "code",
   "execution_count": 61,
   "metadata": {},
   "outputs": [
    {
     "data": {
      "text/markdown": [
       "**Keputusan:**\n",
       "\n",
       "Tidak menolak $H_0$ karena $f = 0.883572344355818 ≤ 1.0307348049752798 ≤ 1.1317692392568777$"
      ],
      "text/plain": [
       "<IPython.core.display.Markdown object>"
      ]
     },
     "metadata": {},
     "output_type": "display_data"
    },
    {
     "data": {
      "text/markdown": [
       "**Jadi, bagian awal kolom Sulfate memiliki variansi yang sama dengan bagian akhirnya**"
      ],
      "text/plain": [
       "<IPython.core.display.Markdown object>"
      ]
     },
     "metadata": {},
     "output_type": "display_data"
    }
   ],
   "source": [
    "if (f < critLeft or f > critRight):\n",
    "    if (f < critLeft):\n",
    "        display(Markdown(f\"**Keputusan:**\\n\\nTolak $H_0$ karena $f = {f} < {critLeft}$\"))\n",
    "    else:\n",
    "        display(Markdown(f\"**Keputusan:**\\n\\nTolak $H_0$ karena $f = {f} > {critRight}$\"))\n",
    "    display(Markdown(\"**Jadi, bagian awal kolom Sulfate tidak memiliki variansi yang sama dengan bagian akhirnya**\"))\n",
    "else:\n",
    "    display(Markdown(f'**Keputusan:**\\n\\nTidak menolak $H_0$ karena $f = {critLeft} ≤ {f} ≤ {critRight}$'))\n",
    "    display(Markdown(\"**Jadi, bagian awal kolom Sulfate memiliki variansi yang sama dengan bagian akhirnya**\"))"
   ]
  },
  {
   "cell_type": "markdown",
   "metadata": {},
   "source": [
    "### Soal 6"
   ]
  },
  {
   "cell_type": "code",
   "execution_count": 62,
   "metadata": {},
   "outputs": [],
   "source": [
    "def korelasi(data):\n",
    "    x = df[data]\n",
    "\n",
    "    # Mendapatkan nilai korelasi\n",
    "    kor = x.corr(other=df[\"Potability\"])\n",
    "    \n",
    "    print(\"Nilai Koefisien Korelasi antara %s dan Potability: %s\" % (data, kor))\n",
    "    print(\"%s dan Potability \" % data, end=\"\")\n",
    "\n",
    "    if (kor > 0.25):\n",
    "        print(\"memiliki korelasi positif\")\n",
    "    else:\n",
    "        print(\"tidak memiliki korelasi\")\n",
    "\n",
    "    df.plot(kind=\"scatter\", x=data, y=\"Potability\").set_xlabel(data)"
   ]
  },
  {
   "cell_type": "code",
   "execution_count": 63,
   "metadata": {},
   "outputs": [
    {
     "name": "stdout",
     "output_type": "stream",
     "text": [
      "Nilai Koefisien Korelasi antara pH dan Potability: 0.01547509440843348\n",
      "pH dan Potability tidak memiliki korelasi\n"
     ]
    },
    {
     "data": {
      "image/png": "[encoded data removed]",
      "text/plain": [
       "<Figure size 432x288 with 1 Axes>"
      ]
     },
     "metadata": {
      "needs_background": "light"
     },
     "output_type": "display_data"
    }
   ],
   "source": [
    "korelasi(\"pH\")"
   ]
  },
  {
   "cell_type": "code",
   "execution_count": 64,
   "metadata": {},
   "outputs": [
    {
     "name": "stdout",
     "output_type": "stream",
     "text": [
      "Nilai Koefisien Korelasi antara Hardness dan Potability: -0.0014631528959479344\n",
      "Hardness dan Potability tidak memiliki korelasi\n"
     ]
    },
    {
     "data": {
      "image/png": "[encoded data removed]",
      "text/plain": [
       "<Figure size 432x288 with 1 Axes>"
      ]
     },
     "metadata": {
      "needs_background": "light"
     },
     "output_type": "display_data"
    }
   ],
   "source": [
    "korelasi(\"Hardness\")"
   ]
  },
  {
   "cell_type": "code",
   "execution_count": 65,
   "metadata": {},
   "outputs": [
    {
     "name": "stdout",
     "output_type": "stream",
     "text": [
      "Nilai Koefisien Korelasi antara Solids dan Potability: 0.03897657818173466\n",
      "Solids dan Potability tidak memiliki korelasi\n"
     ]
    },
    {
     "data": {
      "image/png": "[encoded data removed]",
      "text/plain": [
       "<Figure size 432x288 with 1 Axes>"
      ]
     },
     "metadata": {
      "needs_background": "light"
     },
     "output_type": "display_data"
    }
   ],
   "source": [
    "korelasi(\"Solids\")"
   ]
  },
  {
   "cell_type": "code",
   "execution_count": 66,
   "metadata": {},
   "outputs": [
    {
     "name": "stdout",
     "output_type": "stream",
     "text": [
      "Nilai Koefisien Korelasi antara Chloramines dan Potability: 0.02077892184052409\n",
      "Chloramines dan Potability tidak memiliki korelasi\n"
     ]
    },
    {
     "data": {
      "image/png": "[encoded data removed]",
      "text/plain": [
       "<Figure size 432x288 with 1 Axes>"
      ]
     },
     "metadata": {
      "needs_background": "light"
     },
     "output_type": "display_data"
    }
   ],
   "source": [
    "korelasi(\"Chloramines\")"
   ]
  },
  {
   "cell_type": "code",
   "execution_count": 67,
   "metadata": {},
   "outputs": [
    {
     "name": "stdout",
     "output_type": "stream",
     "text": [
      "Nilai Koefisien Korelasi antara Sulfate dan Potability: -0.015703164419273778\n",
      "Sulfate dan Potability tidak memiliki korelasi\n"
     ]
    },
    {
     "data": {
      "image/png": "[encoded data removed]",
      "text/plain": [
       "<Figure size 432x288 with 1 Axes>"
      ]
     },
     "metadata": {
      "needs_background": "light"
     },
     "output_type": "display_data"
    }
   ],
   "source": [
    "korelasi(\"Sulfate\")"
   ]
  },
  {
   "cell_type": "code",
   "execution_count": 68,
   "metadata": {},
   "outputs": [
    {
     "name": "stdout",
     "output_type": "stream",
     "text": [
      "Nilai Koefisien Korelasi antara Conductivity dan Potability: -0.016257120111377067\n",
      "Conductivity dan Potability tidak memiliki korelasi\n"
     ]
    },
    {
     "data": {
      "image/png": "[encoded data removed]",
      "text/plain": [
       "<Figure size 432x288 with 1 Axes>"
      ]
     },
     "metadata": {
      "needs_background": "light"
     },
     "output_type": "display_data"
    }
   ],
   "source": [
    "korelasi(\"Conductivity\")"
   ]
  },
  {
   "cell_type": "code",
   "execution_count": 69,
   "metadata": {},
   "outputs": [
    {
     "name": "stdout",
     "output_type": "stream",
     "text": [
      "Nilai Koefisien Korelasi antara OrganicCarbon dan Potability: -0.015488461910747259\n",
      "OrganicCarbon dan Potability tidak memiliki korelasi\n"
     ]
    },
    {
     "data": {
      "image/png": "[encoded data removed]",
      "text/plain": [
       "<Figure size 432x288 with 1 Axes>"
      ]
     },
     "metadata": {
      "needs_background": "light"
     },
     "output_type": "display_data"
    }
   ],
   "source": [
    "korelasi(\"OrganicCarbon\")"
   ]
  },
  {
   "cell_type": "code",
   "execution_count": 70,
   "metadata": {},
   "outputs": [
    {
     "name": "stdout",
     "output_type": "stream",
     "text": [
      "Nilai Koefisien Korelasi antara Trihalomethanes dan Potability: 0.009236711064712997\n",
      "Trihalomethanes dan Potability tidak memiliki korelasi\n"
     ]
    },
    {
     "data": {
      "image/png": "[encoded data removed]",
      "text/plain": [
       "<Figure size 432x288 with 1 Axes>"
      ]
     },
     "metadata": {
      "needs_background": "light"
     },
     "output_type": "display_data"
    }
   ],
   "source": [
    "korelasi(\"Trihalomethanes\")"
   ]
  },
  {
   "cell_type": "code",
   "execution_count": 71,
   "metadata": {},
   "outputs": [
    {
     "name": "stdout",
     "output_type": "stream",
     "text": [
      "Nilai Koefisien Korelasi antara Turbidity dan Potability: 0.022331042640622665\n",
      "Turbidity dan Potability tidak memiliki korelasi\n"
     ]
    },
    {
     "data": {
      "image/png": "[encoded data removed]",
      "text/plain": [
       "<Figure size 432x288 with 1 Axes>"
      ]
     },
     "metadata": {
      "needs_background": "light"
     },
     "output_type": "display_data"
    }
   ],
   "source": [
    "korelasi(\"Turbidity\")"
   ]
  }
 ],
 "metadata": {
  "interpreter": {
   "hash": "d406864f2ee78ecc67afccccd0a48c216f41ca3a0f9ca739a0b9d8b15ae422ba"
  },
  "kernelspec": {
   "display_name": "Python 3.10.4 64-bit",
   "language": "python",
   "name": "python3"
  },
  "language_info": {
   "codemirror_mode": {
    "name": "ipython",
    "version": 3
   },
   "file_extension": ".py",
   "mimetype": "text/x-python",
   "name": "python",
   "nbconvert_exporter": "python",
   "pygments_lexer": "ipython3",
   "version": "3.10.4"
  },
  "orig_nbformat": 4
 },
 "nbformat": 4,
 "nbformat_minor": 2
}
