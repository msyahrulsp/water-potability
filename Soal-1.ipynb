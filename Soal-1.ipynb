{
 "cells": [
  {
   "cell_type": "code",
   "execution_count": 1,
   "metadata": {},
   "outputs": [],
   "source": [
    "import pandas as pd\n",
    "import statistics\n",
    "\n",
    "df = pd.read_csv(\"water_potability.csv\", \n",
    "                    names=[\"id\", \n",
    "                            \"pH\", \n",
    "                            \"Hardness\", \n",
    "                            \"Solids\", \n",
    "                            \"Chloramines\", \n",
    "                            \"Sulfate\", \n",
    "                            \"Conductivity\", \n",
    "                            \"OrganicCarbon\", \n",
    "                            \"Trihalomethanes\", \n",
    "                            \"Turbidity\", \n",
    "                            \"Potability\"]\n",
    "                    ).set_index(\"id\")"
   ]
  },
  {
   "cell_type": "code",
   "execution_count": 2,
   "metadata": {},
   "outputs": [],
   "source": [
    "def dataDescription(data):\n",
    "    dataFrame = df[data]\n",
    "\n",
    "    print(\"-- Deskripsi Data %s --\" % data)\n",
    "    print(\"Mean: %s\" % dataFrame.mean())\n",
    "    print(\"Median: %s\" % dataFrame.median())\n",
    "    print(\"Modus: %s\" % statistics.mode(dataFrame))\n",
    "    print(\"Standar Deviasi: %s\" % dataFrame.std())\n",
    "    print(\"Variansi: %s\" % dataFrame.var())\n",
    "    print(\"Range: %s\" % (dataFrame.max() - dataFrame.min()))\n",
    "    print(\"Nilai Minimum: %s\" % dataFrame.min())\n",
    "    print(\"Kuartil 1: %s\\tKuartil 2: %s\\tKuartil 3: %s\" % (dataFrame.quantile(0.25), dataFrame.quantile(0.5), dataFrame.quantile(0.75)))\n",
    "    print(\"Nilai Maksimum: %s\" % dataFrame.max())\n",
    "    print(\"IQR: %s\" % (dataFrame.quantile(0.75) - dataFrame.quantile(0.25)))\n",
    "    print(\"Skewness: %s\" % dataFrame.skew())\n",
    "    print(\"Kurtosis: %s\\n\" % dataFrame.kurt())"
   ]
  },
  {
   "cell_type": "code",
   "execution_count": 3,
   "metadata": {},
   "outputs": [
    {
     "name": "stdout",
     "output_type": "stream",
     "text": [
      "-- Deskripsi Data pH --\n",
      "Mean: 7.0871927687138285\n",
      "Median: 7.029490455474185\n",
      "Modus: 8.316765884214679\n",
      "Standar Deviasi: 1.5728029470456655\n",
      "Variansi: 2.4737091102355304\n",
      "Range: 13.7725009497978\n",
      "Nilai Minimum: 0.2274990502021987\n",
      "Kuartil 1: 6.09078502142353\tKuartil 2: 7.029490455474185\tKuartil 3: 8.053006240791538\n",
      "Nilai Maksimum: 13.999999999999998\n",
      "IQR: 1.9622212193680078\n",
      "Skewness: 0.04853451405270669\n",
      "Kurtosis: 0.6269041256617065\n",
      "\n"
     ]
    }
   ],
   "source": [
    "dataDescription(\"pH\")"
   ]
  },
  {
   "cell_type": "code",
   "execution_count": 4,
   "metadata": {},
   "outputs": [
    {
     "name": "stdout",
     "output_type": "stream",
     "text": [
      "-- Deskripsi Data Hardness --\n",
      "Mean: 195.96920903783524\n",
      "Median: 197.20352491941043\n",
      "Modus: 214.3733940856225\n",
      "Standar Deviasi: 32.643165859429864\n",
      "Variansi: 1065.5762773262472\n",
      "Range: 243.84589036652147\n",
      "Nilai Minimum: 73.4922336890611\n",
      "Kuartil 1: 176.74065667669896\tKuartil 2: 197.20352491941043\tKuartil 3: 216.44758866727156\n",
      "Nilai Maksimum: 317.33812405558257\n",
      "IQR: 39.7069319905726\n",
      "Skewness: -0.08532104172868622\n",
      "Kurtosis: 0.5254804942991402\n",
      "\n"
     ]
    }
   ],
   "source": [
    "dataDescription(\"Hardness\")"
   ]
  },
  {
   "cell_type": "code",
   "execution_count": 5,
   "metadata": {},
   "outputs": [
    {
     "name": "stdout",
     "output_type": "stream",
     "text": [
      "-- Deskripsi Data Solids --\n",
      "Mean: 21904.673439053095\n",
      "Median: 20926.88215534375\n",
      "Modus: 22018.41744077529\n",
      "Standar Deviasi: 8625.397911190576\n",
      "Variansi: 74397489.12637076\n",
      "Range: 56167.72980146483\n",
      "Nilai Minimum: 320.942611274359\n",
      "Kuartil 1: 15614.412961614333\tKuartil 2: 20926.88215534375\tKuartil 3: 27170.534648603603\n",
      "Nilai Maksimum: 56488.67241273919\n",
      "IQR: 11556.12168698927\n",
      "Skewness: 0.5910113724580447\n",
      "Kurtosis: 0.33732026745944976\n",
      "\n"
     ]
    }
   ],
   "source": [
    "dataDescription(\"Solids\")"
   ]
  },
  {
   "cell_type": "code",
   "execution_count": 6,
   "metadata": {},
   "outputs": [
    {
     "name": "stdout",
     "output_type": "stream",
     "text": [
      "-- Deskripsi Data Chloramines --\n",
      "Mean: 7.134322344600104\n",
      "Median: 7.1420143046226645\n",
      "Modus: 8.05933237743854\n",
      "Standar Deviasi: 1.5852140982642102\n",
      "Variansi: 2.512903737335613\n",
      "Range: 11.736129095114823\n",
      "Nilai Minimum: 1.3908709048851806\n",
      "Kuartil 1: 6.138326387572855\tKuartil 2: 7.1420143046226645\tKuartil 3: 8.109933216133502\n",
      "Nilai Maksimum: 13.127000000000002\n",
      "IQR: 1.9716068285606472\n",
      "Skewness: 0.013003497779569528\n",
      "Kurtosis: 0.5497821097667472\n",
      "\n"
     ]
    }
   ],
   "source": [
    "dataDescription(\"Chloramines\")"
   ]
  },
  {
   "cell_type": "code",
   "execution_count": 7,
   "metadata": {},
   "outputs": [
    {
     "name": "stdout",
     "output_type": "stream",
     "text": [
      "-- Deskripsi Data Sulfate --\n",
      "Mean: 333.211376415189\n",
      "Median: 332.2141128069568\n",
      "Modus: 356.88613564305666\n",
      "Standar Deviasi: 41.21111102560979\n",
      "Variansi: 1698.355671965137\n",
      "Range: 352.03064230599716\n",
      "Nilai Minimum: 129.00000000000003\n",
      "Kuartil 1: 307.6269864860709\tKuartil 2: 332.2141128069568\tKuartil 3: 359.26814739141554\n",
      "Nilai Maksimum: 481.0306423059972\n",
      "IQR: 51.641160905344634\n",
      "Skewness: -0.04572780443653543\n",
      "Kurtosis: 0.7868544988131605\n",
      "\n"
     ]
    }
   ],
   "source": [
    "dataDescription(\"Sulfate\")"
   ]
  },
  {
   "cell_type": "code",
   "execution_count": 8,
   "metadata": {},
   "outputs": [
    {
     "name": "stdout",
     "output_type": "stream",
     "text": [
      "-- Deskripsi Data Conductivity --\n",
      "Mean: 426.47670835257907\n",
      "Median: 423.43837202443706\n",
      "Modus: 363.2665161642437\n",
      "Standar Deviasi: 80.70187180729437\n",
      "Variansi: 6512.792113200974\n",
      "Range: 551.7228828031471\n",
      "Nilai Minimum: 201.6197367551575\n",
      "Kuartil 1: 366.61921929632433\tKuartil 2: 423.43837202443706\tKuartil 3: 482.2097724598859\n",
      "Nilai Maksimum: 753.3426195583046\n",
      "IQR: 115.5905531635616\n",
      "Skewness: 0.26801233302645316\n",
      "Kurtosis: -0.23720600574806516\n",
      "\n"
     ]
    }
   ],
   "source": [
    "dataDescription(\"Conductivity\")"
   ]
  },
  {
   "cell_type": "code",
   "execution_count": 9,
   "metadata": {},
   "outputs": [
    {
     "name": "stdout",
     "output_type": "stream",
     "text": [
      "-- Deskripsi Data OrganicCarbon --\n",
      "Mean: 14.357939902048074\n",
      "Median: 14.323285610653329\n",
      "Modus: 18.436524495493305\n",
      "Standar Deviasi: 3.3257700016987197\n",
      "Variansi: 11.0607461041991\n",
      "Range: 24.80670661116602\n",
      "Nilai Minimum: 2.1999999999999886\n",
      "Kuartil 1: 12.122530374047727\tKuartil 2: 14.323285610653329\tKuartil 3: 16.683561746173808\n",
      "Nilai Maksimum: 27.00670661116601\n",
      "IQR: 4.561031372126081\n",
      "Skewness: -0.02021975629181238\n",
      "Kurtosis: 0.031018388192253\n",
      "\n"
     ]
    }
   ],
   "source": [
    "dataDescription(\"OrganicCarbon\")"
   ]
  },
  {
   "cell_type": "code",
   "execution_count": 10,
   "metadata": {},
   "outputs": [
    {
     "name": "stdout",
     "output_type": "stream",
     "text": [
      "-- Deskripsi Data Trihalomethanes --\n",
      "Mean: 66.40071666307466\n",
      "Median: 66.48204080309809\n",
      "Modus: 100.34167436508008\n",
      "Standar Deviasi: 16.08110898232513\n",
      "Variansi: 258.60206610141796\n",
      "Range: 115.4229870670162\n",
      "Nilai Minimum: 8.577012932983806\n",
      "Kuartil 1: 55.94999302803186\tKuartil 2: 66.48204080309809\tKuartil 3: 77.2946128060674\n",
      "Nilai Maksimum: 124.0\n",
      "IQR: 21.344619778035543\n",
      "Skewness: -0.05138268451619478\n",
      "Kurtosis: 0.2230167810639787\n",
      "\n"
     ]
    }
   ],
   "source": [
    "dataDescription(\"Trihalomethanes\")"
   ]
  },
  {
   "cell_type": "code",
   "execution_count": 11,
   "metadata": {},
   "outputs": [
    {
     "name": "stdout",
     "output_type": "stream",
     "text": [
      "-- Deskripsi Data Turbidity --\n",
      "Mean: 3.9694969126303676\n",
      "Median: 3.967373963531836\n",
      "Modus: 4.628770536837084\n",
      "Standar Deviasi: 0.7804710407083957\n",
      "Variansi: 0.6091350453844462\n",
      "Range: 5.044748555990993\n",
      "Nilai Minimum: 1.45\n",
      "Kuartil 1: 3.442881623557439\tKuartil 2: 3.967373963531836\tKuartil 3: 4.5146627202018825\n",
      "Nilai Maksimum: 6.494748555990993\n",
      "IQR: 1.0717810966444437\n",
      "Skewness: -0.03226597968019271\n",
      "Kurtosis: -0.049830796949249745\n",
      "\n"
     ]
    }
   ],
   "source": [
    "dataDescription(\"Turbidity\")"
   ]
  }
 ],
 "metadata": {
  "interpreter": {
   "hash": "d406864f2ee78ecc67afccccd0a48c216f41ca3a0f9ca739a0b9d8b15ae422ba"
  },
  "kernelspec": {
   "display_name": "Python 3.10.4 64-bit",
   "language": "python",
   "name": "python3"
  },
  "language_info": {
   "codemirror_mode": {
    "name": "ipython",
    "version": 3
   },
   "file_extension": ".py",
   "mimetype": "text/x-python",
   "name": "python",
   "nbconvert_exporter": "python",
   "pygments_lexer": "ipython3",
   "version": "3.10.4"
  },
  "orig_nbformat": 4
 },
 "nbformat": 4,
 "nbformat_minor": 2
}
