{
 "cells": [
  {
   "cell_type": "code",
   "execution_count": 25,
   "metadata": {},
   "outputs": [],
   "source": [
    "import pandas as pd\n",
    "import matplotlib.pyplot as plt\n",
    "import statistics\n",
    "from util import bcolors\n",
    "\n",
    "# JANGAN LUPA DIWARNAIN\n",
    "\n",
    "df = pd.read_csv(\"water_potability.csv\", names=[\"id\", \"pH\", \"Hardness\",\"Solids\",\"Chloramines\",\"Sulfate\", \"Conductivity\",\"OrganicCarbon\",\"Trihalomethanes\",\"Turbidity\",\"Potability\"]).set_index(\"id\")"
   ]
  },
  {
   "cell_type": "markdown",
   "metadata": {},
   "source": [
    "### Soal 1"
   ]
  },
  {
   "cell_type": "code",
   "execution_count": null,
   "metadata": {},
   "outputs": [],
   "source": [
    "pHdataFrame = df[\"pH\"]\n",
    "hardnessDataFrame = df[\"Hardness\"]\n",
    "solidsDataFrame = df[\"Solids\"]\n",
    "chloraminesDataFrame = df[\"Chloramines\"]\n",
    "sulfateDataFrame = df[\"Sulfate\"]\n",
    "conductivityDataFrame = df[\"Conductivity\"]\n",
    "organicCarbonDataFrame = df[\"OrganicCarbon\"]\n",
    "trihalomethanesDataFrame = df[\"Trihalomethanes\"]\n",
    "turbidityDataFrame = df[\"Turbidity\"]\n",
    "\n",
    "print(\"-- Deskripsi Data pH --\")\n",
    "print(\"Mean: %s\" % pHdataFrame.mean())\n",
    "print(\"Median: %s\" % pHdataFrame.median())\n",
    "print(\"Modus: %s\" % statistics.mode(pHdataFrame))\n",
    "print(\"Standar Deviasi: %s\" % pHdataFrame.std())\n",
    "print(\"Variansi: %s\" % pHdataFrame.var())\n",
    "print(\"Range: %s\" % (pHdataFrame.max() - pHdataFrame.min()))\n",
    "print(\"Nilai Minimum: %s\" % pHdataFrame.min())\n",
    "print(\"Kuartil 1: %s\\tKuartil 2: %s\\tKuartil 3: %s\" % (pHdataFrame.quantile(0.25), pHdataFrame.quantile(0.5), pHdataFrame.quantile(0.75)))\n",
    "print(\"Nilai Maksimum: %s\" % pHdataFrame.max())\n",
    "print(\"IQR: %s\" % (pHdataFrame.quantile(0.75) - pHdataFrame.quantile(0.25)))\n",
    "print(\"Skewness: %s\" % pHdataFrame.skew())\n",
    "print(\"Kurtosis: %s\" % pHdataFrame.kurt())\n",
    "\n",
    "print(\"\\n-- Deskripsi Data Hardness --\")\n",
    "print(\"Mean: %s\" % hardnessDataFrame.mean())\n",
    "print(\"Median: %s\" % hardnessDataFrame.median())\n",
    "print(\"Modus: %s\" % statistics.mode(hardnessDataFrame))\n",
    "print(\"Standar Deviasi: %s\" % hardnessDataFrame.std())\n",
    "print(\"Variansi: %s\" % hardnessDataFrame.var())\n",
    "print(\"Range: %s\" % (hardnessDataFrame.max() - hardnessDataFrame.min()))\n",
    "print(\"Nilai Minimum: %s\" % hardnessDataFrame.min())\n",
    "print(\"Kuartil 1: %s\\tKuartil 2: %s\\tKuartil 3: %s\" % (hardnessDataFrame.quantile(0.25), hardnessDataFrame.quantile(0.5), hardnessDataFrame.quantile(0.75)))\n",
    "print(\"Nilai Maksimum: %s\" % hardnessDataFrame.max())\n",
    "print(\"IQR: %s\" % (hardnessDataFrame.quantile(0.75) - hardnessDataFrame.quantile(0.25)))\n",
    "print(\"Skewness: %s\" % hardnessDataFrame.skew())\n",
    "print(\"Kurtosis: %s\" % hardnessDataFrame.kurt())\n",
    "\n",
    "print(\"\\n-- Deskripsi Data Solids --\")\n",
    "print(\"Mean: %s\" % solidsDataFrame.mean())\n",
    "print(\"Median: %s\" % solidsDataFrame.median())\n",
    "print(\"Modus: %s\" % statistics.mode(solidsDataFrame))\n",
    "print(\"Standar Deviasi: %s\" % solidsDataFrame.std())\n",
    "print(\"Variansi: %s\" % solidsDataFrame.var())\n",
    "print(\"Range: %s\" % (solidsDataFrame.max() - solidsDataFrame.min()))\n",
    "print(\"Nilai Minimum: %s\" % solidsDataFrame.min())\n",
    "print(\"Kuartil 1: %s\\tKuartil 2: %s\\tKuartil 3: %s\" % (solidsDataFrame.quantile(0.25), solidsDataFrame.quantile(0.5), solidsDataFrame.quantile(0.75)))\n",
    "print(\"Nilai Maksimum: %s\" % solidsDataFrame.max())\n",
    "print(\"IQR: %s\" % (solidsDataFrame.quantile(0.75) - solidsDataFrame.quantile(0.25)))\n",
    "print(\"Skewness: %s\" % solidsDataFrame.skew())\n",
    "print(\"Kurtosis: %s\" % solidsDataFrame.kurt())\n",
    "\n",
    "print(\"\\n-- Deskripsi Data Chloramines --\")\n",
    "print(\"Mean: %s\" % chloraminesDataFrame.mean())\n",
    "print(\"Median: %s\" % chloraminesDataFrame.median())\n",
    "print(\"Modus: %s\" % statistics.mode(chloraminesDataFrame))\n",
    "print(\"Standar Deviasi: %s\" % chloraminesDataFrame.std())\n",
    "print(\"Variansi: %s\" % chloraminesDataFrame.var())\n",
    "print(\"Range: %s\" % (chloraminesDataFrame.max() - chloraminesDataFrame.min()))\n",
    "print(\"Nilai Minimum: %s\" % chloraminesDataFrame.min())\n",
    "print(\"Kuartil 1: %s\\tKuartil 2: %s\\tKuartil 3: %s\" % (chloraminesDataFrame.quantile(0.25), chloraminesDataFrame.quantile(0.5), chloraminesDataFrame.quantile(0.75)))\n",
    "print(\"Nilai Maksimum: %s\" % chloraminesDataFrame.max())\n",
    "print(\"IQR: %s\" % (chloraminesDataFrame.quantile(0.75) - chloraminesDataFrame.quantile(0.25)))\n",
    "print(\"Skewness: %s\" % chloraminesDataFrame.skew())\n",
    "print(\"Kurtosis: %s\" % chloraminesDataFrame.kurt())\n",
    "\n",
    "print(\"\\n-- Deskripsi Data Sulfate --\")\n",
    "print(\"Mean: %s\" % sulfateDataFrame.mean())\n",
    "print(\"Median: %s\" % sulfateDataFrame.median())\n",
    "print(\"Modus: %s\" % statistics.mode(sulfateDataFrame))\n",
    "print(\"Standar Deviasi: %s\" % sulfateDataFrame.std())\n",
    "print(\"Variansi: %s\" % sulfateDataFrame.var())\n",
    "print(\"Range: %s\" % (sulfateDataFrame.max() - sulfateDataFrame.min()))\n",
    "print(\"Nilai Minimum: %s\" % sulfateDataFrame.min())\n",
    "print(\"Kuartil 1: %s\\tKuartil 2: %s\\tKuartil 3: %s\" % (sulfateDataFrame.quantile(0.25), sulfateDataFrame.quantile(0.5), sulfateDataFrame.quantile(0.75)))\n",
    "print(\"Nilai Maksimum: %s\" % sulfateDataFrame.max())\n",
    "print(\"IQR: %s\" % (sulfateDataFrame.quantile(0.75) - sulfateDataFrame.quantile(0.25)))\n",
    "print(\"Skewness: %s\" % sulfateDataFrame.skew())\n",
    "print(\"Kurtosis: %s\" % sulfateDataFrame.kurt())\n",
    "\n",
    "print(\"\\n-- Deskripsi Data Conductivity --\")\n",
    "print(\"Mean: %s\" % conductivityDataFrame.mean())\n",
    "print(\"Median: %s\" % conductivityDataFrame.median())\n",
    "print(\"Modus: %s\" % statistics.mode(conductivityDataFrame))\n",
    "print(\"Standar Deviasi: %s\" % conductivityDataFrame.std())\n",
    "print(\"Variansi: %s\" % conductivityDataFrame.var())\n",
    "print(\"Range: %s\" % (conductivityDataFrame.max() - conductivityDataFrame.min()))\n",
    "print(\"Nilai Minimum: %s\" % conductivityDataFrame.min())\n",
    "print(\"Kuartil 1: %s\\tKuartil 2: %s\\tKuartil 3: %s\" % (conductivityDataFrame.quantile(0.25), conductivityDataFrame.quantile(0.5), conductivityDataFrame.quantile(0.75)))\n",
    "print(\"Nilai Maksimum: %s\" % conductivityDataFrame.max())\n",
    "print(\"IQR: %s\" % (conductivityDataFrame.quantile(0.75) - conductivityDataFrame.quantile(0.25)))\n",
    "print(\"Skewness: %s\" % conductivityDataFrame.skew())\n",
    "print(\"Kurtosis: %s\" % conductivityDataFrame.kurt())\n",
    "\n",
    "print(\"\\n-- Deskripsi Data OrganicCarbon --\")\n",
    "print(\"Mean: %s\" % organicCarbonDataFrame.mean())\n",
    "print(\"Median: %s\" % organicCarbonDataFrame.median())\n",
    "print(\"Modus: %s\" % statistics.mode(organicCarbonDataFrame))\n",
    "print(\"Standar Deviasi: %s\" % organicCarbonDataFrame.std())\n",
    "print(\"Variansi: %s\" % organicCarbonDataFrame.var())\n",
    "print(\"Range: %s\" % (organicCarbonDataFrame.max() - organicCarbonDataFrame.min()))\n",
    "print(\"Nilai Minimum: %s\" % organicCarbonDataFrame.min())\n",
    "print(\"Kuartil 1: %s\\tKuartil 2: %s\\tKuartil 3: %s\" % (organicCarbonDataFrame.quantile(0.25), organicCarbonDataFrame.quantile(0.5), organicCarbonDataFrame.quantile(0.75)))\n",
    "print(\"Nilai Maksimum: %s\" % organicCarbonDataFrame.max())\n",
    "print(\"IQR: %s\" % (organicCarbonDataFrame.quantile(0.75) - organicCarbonDataFrame.quantile(0.25)))\n",
    "print(\"Skewness: %s\" % organicCarbonDataFrame.skew())\n",
    "print(\"Kurtosis: %s\" % organicCarbonDataFrame.kurt())\n",
    "\n",
    "print(\"\\n-- Deskripsi Data Trihalomethanes --\")\n",
    "print(\"Mean: %s\" % trihalomethanesDataFrame.mean())\n",
    "print(\"Median: %s\" % trihalomethanesDataFrame.median())\n",
    "print(\"Modus: %s\" % statistics.mode(trihalomethanesDataFrame))\n",
    "print(\"Standar Deviasi: %s\" % trihalomethanesDataFrame.std())\n",
    "print(\"Variansi: %s\" % trihalomethanesDataFrame.var())\n",
    "print(\"Range: %s\" % (trihalomethanesDataFrame.max() - trihalomethanesDataFrame.min()))\n",
    "print(\"Nilai Minimum: %s\" % trihalomethanesDataFrame.min())\n",
    "print(\"Kuartil 1: %s\\tKuartil 2: %s\\tKuartil 3: %s\" % (trihalomethanesDataFrame.quantile(0.25), trihalomethanesDataFrame.quantile(0.5), trihalomethanesDataFrame.quantile(0.75)))\n",
    "print(\"Nilai Maksimum: %s\" % trihalomethanesDataFrame.max())\n",
    "print(\"IQR: %s\" % (trihalomethanesDataFrame.quantile(0.75) - trihalomethanesDataFrame.quantile(0.25)))\n",
    "print(\"Skewness: %s\" % trihalomethanesDataFrame.skew())\n",
    "print(\"Kurtosis: %s\" % trihalomethanesDataFrame.kurt())\n",
    "\n",
    "print(\"\\n-- Deskripsi Data Turbidity --\")\n",
    "print(\"Mean: %s\" % turbidityDataFrame.mean())\n",
    "print(\"Median: %s\" % turbidityDataFrame.median())\n",
    "print(\"Modus: %s\" % statistics.mode(turbidityDataFrame))\n",
    "print(\"Standar Deviasi: %s\" % turbidityDataFrame.std())\n",
    "print(\"Variansi: %s\" % turbidityDataFrame.var())\n",
    "print(\"Range: %s\" % (turbidityDataFrame.max() - turbidityDataFrame.min()))\n",
    "print(\"Nilai Minimum: %s\" % turbidityDataFrame.min())\n",
    "print(\"Kuartil 1: %s\\tKuartil 2: %s\\tKuartil 3: %s\" % (turbidityDataFrame.quantile(0.25), turbidityDataFrame.quantile(0.5), turbidityDataFrame.quantile(0.75)))\n",
    "print(\"Nilai Maksimum: %s\" % turbidityDataFrame.max())\n",
    "print(\"IQR: %s\" % (turbidityDataFrame.quantile(0.75) - turbidityDataFrame.quantile(0.25)))\n",
    "print(\"Skewness: %s\" % turbidityDataFrame.skew())\n",
    "print(\"Kurtosis: %s\" % turbidityDataFrame.kurt())"
   ]
  },
  {
   "cell_type": "code",
   "execution_count": null,
   "metadata": {},
   "outputs": [],
   "source": [
    "df1 = df._get_numeric_data()\n",
    "\n",
    "df1"
   ]
  },
  {
   "cell_type": "code",
   "execution_count": null,
   "metadata": {},
   "outputs": [],
   "source": [
    "df"
   ]
  },
  {
   "cell_type": "code",
   "execution_count": 42,
   "metadata": {},
   "outputs": [],
   "source": [
    "df0, df1 = [x for _, x in df.groupby(df['Potability'] == 0)]"
   ]
  },
  {
   "cell_type": "code",
   "execution_count": 52,
   "metadata": {},
   "outputs": [
    {
     "data": {
      "image/png": "[encoded data removed]",
      "text/plain": [
       "<Figure size 432x288 with 1 Axes>"
      ]
     },
     "metadata": {
      "needs_background": "light"
     },
     "output_type": "display_data"
    }
   ],
   "source": [
    "import numpy as np\n",
    "\n",
    "x = np.linspace(0, 14, 42, endpoint=True)\n",
    "\n",
    "plt.hist(np.sort(df1[\"pH\"]), x, alpha=0.5, label=\"Potability 1\")\n",
    "plt.hist(np.sort(df0[\"pH\"]), x, alpha=0.5, label=\"Potability 0\")\n",
    "plt.legend()\n",
    "plt.show()"
   ]
  },
  {
   "cell_type": "code",
   "execution_count": 55,
   "metadata": {},
   "outputs": [
    {
     "data": {
      "image/png": "[encoded data removed]",
      "text/plain": [
       "<Figure size 432x288 with 1 Axes>"
      ]
     },
     "metadata": {
      "needs_background": "light"
     },
     "output_type": "display_data"
    }
   ],
   "source": [
    "plt.boxplot(df1[\"pH\"])\n",
    "plt.show()"
   ]
  },
  {
   "cell_type": "code",
   "execution_count": 56,
   "metadata": {},
   "outputs": [
    {
     "data": {
      "image/png": "[encoded data removed]",
      "text/plain": [
       "<Figure size 432x288 with 1 Axes>"
      ]
     },
     "metadata": {
      "needs_background": "light"
     },
     "output_type": "display_data"
    }
   ],
   "source": [
    "plt.boxplot(df0[\"pH\"])\n",
    "plt.show()"
   ]
  }
 ],
 "metadata": {
  "interpreter": {
   "hash": "d406864f2ee78ecc67afccccd0a48c216f41ca3a0f9ca739a0b9d8b15ae422ba"
  },
  "kernelspec": {
   "display_name": "Python 3.10.4 64-bit",
   "language": "python",
   "name": "python3"
  },
  "language_info": {
   "codemirror_mode": {
    "name": "ipython",
    "version": 3
   },
   "file_extension": ".py",
   "mimetype": "text/x-python",
   "name": "python",
   "nbconvert_exporter": "python",
   "pygments_lexer": "ipython3",
   "version": "3.10.4"
  },
  "orig_nbformat": 4
 },
 "nbformat": 4,
 "nbformat_minor": 2
}
